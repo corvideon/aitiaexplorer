{
 "cells": [
  {
   "cell_type": "markdown",
   "metadata": {},
   "source": [
    "# Example 01: Causal discovery using one algorithm only\n",
    "\n",
    "-------------------------------------------\n",
    "\n",
    "## Overview\n",
    "\n",
    "\n",
    " - AitiaExplorer allows you to see the results of many causal discovery algorithms at once, but it may be easier to understand using just one algorithm at a time.\n",
    " - This example will show how you can use AitiaExplorer to do causal discovery with one specific algorithm."
   ]
  },
  {
   "cell_type": "markdown",
   "metadata": {},
   "source": [
    "### Imports"
   ]
  },
  {
   "cell_type": "code",
   "execution_count": 1,
   "metadata": {},
   "outputs": [],
   "source": [
    "import os\n",
    "import sys\n",
    "import networkx as nx\n",
    "from pycausal.pycausal import pycausal\n",
    "from IPython.display import display, HTML\n",
    "\n",
    "module_path = os.path.abspath(os.path.join('../src'))\n",
    "if module_path not in sys.path:\n",
    "    sys.path.append(module_path)\n",
    "from aitia_explorer.app import App\n",
    "\n",
    "# stop the warning clutter\n",
    "import warnings\n",
    "warnings.filterwarnings('ignore')"
   ]
  },
  {
   "cell_type": "markdown",
   "metadata": {},
   "source": [
    "### Set up for causal discovery\n",
    "\n",
    "- First create an AitiaExplorer instance and using it to load some simulated data into a panda dataframe."
   ]
  },
  {
   "cell_type": "code",
   "execution_count": 2,
   "metadata": {},
   "outputs": [],
   "source": [
    "aitia = App()"
   ]
  },
  {
   "cell_type": "code",
   "execution_count": 3,
   "metadata": {},
   "outputs": [],
   "source": [
    "df = aitia.data.simulated_data_1()"
   ]
  },
  {
   "cell_type": "code",
   "execution_count": 4,
   "metadata": {},
   "outputs": [
    {
     "data": {
      "text/html": [
       "<div>\n",
       "<style scoped>\n",
       "    .dataframe tbody tr th:only-of-type {\n",
       "        vertical-align: middle;\n",
       "    }\n",
       "\n",
       "    .dataframe tbody tr th {\n",
       "        vertical-align: top;\n",
       "    }\n",
       "\n",
       "    .dataframe thead th {\n",
       "        text-align: right;\n",
       "    }\n",
       "</style>\n",
       "<table border=\"1\" class=\"dataframe\">\n",
       "  <thead>\n",
       "    <tr style=\"text-align: right;\">\n",
       "      <th></th>\n",
       "      <th>X1</th>\n",
       "      <th>X2</th>\n",
       "      <th>X3</th>\n",
       "      <th>X4</th>\n",
       "      <th>X5</th>\n",
       "      <th>X6</th>\n",
       "      <th>X7</th>\n",
       "      <th>X8</th>\n",
       "      <th>X9</th>\n",
       "      <th>X10</th>\n",
       "    </tr>\n",
       "  </thead>\n",
       "  <tbody>\n",
       "    <tr>\n",
       "      <th>0</th>\n",
       "      <td>1</td>\n",
       "      <td>1</td>\n",
       "      <td>0</td>\n",
       "      <td>0</td>\n",
       "      <td>1</td>\n",
       "      <td>2</td>\n",
       "      <td>0</td>\n",
       "      <td>1</td>\n",
       "      <td>2</td>\n",
       "      <td>1</td>\n",
       "    </tr>\n",
       "    <tr>\n",
       "      <th>1</th>\n",
       "      <td>2</td>\n",
       "      <td>1</td>\n",
       "      <td>0</td>\n",
       "      <td>0</td>\n",
       "      <td>1</td>\n",
       "      <td>1</td>\n",
       "      <td>1</td>\n",
       "      <td>0</td>\n",
       "      <td>1</td>\n",
       "      <td>2</td>\n",
       "    </tr>\n",
       "    <tr>\n",
       "      <th>2</th>\n",
       "      <td>0</td>\n",
       "      <td>2</td>\n",
       "      <td>1</td>\n",
       "      <td>1</td>\n",
       "      <td>1</td>\n",
       "      <td>0</td>\n",
       "      <td>0</td>\n",
       "      <td>2</td>\n",
       "      <td>2</td>\n",
       "      <td>1</td>\n",
       "    </tr>\n",
       "    <tr>\n",
       "      <th>3</th>\n",
       "      <td>0</td>\n",
       "      <td>1</td>\n",
       "      <td>0</td>\n",
       "      <td>0</td>\n",
       "      <td>0</td>\n",
       "      <td>1</td>\n",
       "      <td>2</td>\n",
       "      <td>1</td>\n",
       "      <td>1</td>\n",
       "      <td>1</td>\n",
       "    </tr>\n",
       "    <tr>\n",
       "      <th>4</th>\n",
       "      <td>0</td>\n",
       "      <td>1</td>\n",
       "      <td>0</td>\n",
       "      <td>1</td>\n",
       "      <td>1</td>\n",
       "      <td>1</td>\n",
       "      <td>2</td>\n",
       "      <td>2</td>\n",
       "      <td>2</td>\n",
       "      <td>1</td>\n",
       "    </tr>\n",
       "  </tbody>\n",
       "</table>\n",
       "</div>"
      ],
      "text/plain": [
       "   X1  X2  X3  X4  X5  X6  X7  X8  X9  X10\n",
       "0   1   1   0   0   1   2   0   1   2    1\n",
       "1   2   1   0   0   1   1   1   0   1    2\n",
       "2   0   2   1   1   1   0   0   2   2    1\n",
       "3   0   1   0   0   0   1   2   1   1    1\n",
       "4   0   1   0   1   1   1   2   2   2    1"
      ]
     },
     "execution_count": 4,
     "metadata": {},
     "output_type": "execute_result"
    }
   ],
   "source": [
    "df.head()"
   ]
  },
  {
   "cell_type": "markdown",
   "metadata": {},
   "source": [
    "- This simulated data also has a known causal graph. We will load this as we can use it for testing.\n",
    "- This causal graph is stored as [DOT graph description language](https://en.wikipedia.org/wiki/DOT_%28graph_description_language%29)"
   ]
  },
  {
   "cell_type": "code",
   "execution_count": 5,
   "metadata": {},
   "outputs": [],
   "source": [
    "target_str_dot = aitia.data.simulated_data_1_graph()"
   ]
  },
  {
   "cell_type": "code",
   "execution_count": 6,
   "metadata": {},
   "outputs": [
    {
     "data": {
      "text/plain": [
       "'digraph g {\\n \"X1\" -> \"X3\" [arrowtail=none, arrowhead=normal];\\n \"X10\" -> \"X4\" [dir=both, arrowtail=normal, arrowhead=none];\\n \"X2\" -> \"X7\" [arrowtail=none, arrowhead=normal];\\n \"X2\" -> \"X9\" [arrowtail=none, arrowhead=normal];\\n \"X10\" -> \"X7\" [dir=both, arrowtail=normal, arrowhead=none];\\n \"X2\" -> \"X8\" [arrowtail=none, arrowhead=normal];\\n \"X1\" -> \"X10\" [arrowtail=none, arrowhead=normal];\\n \"X4\" -> \"X8\" [arrowtail=none, arrowhead=normal];\\n \"X3\" -> \"X8\" [arrowtail=none, arrowhead=normal];\\n \"X2\" -> \"X3\" [arrowtail=none, arrowhead=normal];\\n}\\n'"
      ]
     },
     "execution_count": 6,
     "metadata": {},
     "output_type": "execute_result"
    }
   ],
   "source": [
    "target_str_dot"
   ]
  },
  {
   "cell_type": "markdown",
   "metadata": {},
   "source": [
    "- Next we will set up a list of algorithms for AitiaExplorer to run. We will just add one, the FCI algorithm."
   ]
  },
  {
   "cell_type": "code",
   "execution_count": 7,
   "metadata": {},
   "outputs": [],
   "source": [
    "algorithm_list = []\n",
    "# be sure to use the uppercase constants only\n",
    "algorithm_list.append(aitia.algo_runner.FCI)"
   ]
  },
  {
   "cell_type": "markdown",
   "metadata": {},
   "source": [
    "### Run the causal discovery analysis\n",
    "\n",
    "- Now we will run the causal discovery analysis.\n",
    "- First we need to start a background Java VM using py-causal as the algorithms are implemented in Java.\n",
    "- Then we will run the analysis using the `run_causal_discovery` method and AitiaExplorer will return a summary and some useful results."
   ]
  },
  {
   "cell_type": "code",
   "execution_count": 8,
   "metadata": {},
   "outputs": [],
   "source": [
    "pc = pycausal()\n",
    "pc.start_vm()"
   ]
  },
  {
   "cell_type": "code",
   "execution_count": 9,
   "metadata": {},
   "outputs": [
    {
     "name": "stdout",
     "output_type": "stream",
     "text": [
      "Running causal discovery using FCI\n"
     ]
    }
   ],
   "source": [
    "# pass in the dataframe, the target graph, the algorithm list to run and the py-causal object...\n",
    "analysis_results, summary = aitia.run_causal_discovery( \n",
    "                                       df,\n",
    "                                       target_graph_str=target_str_dot,\n",
    "                                       algorithm_list=algorithm_list,\n",
    "                                       pc=pc)"
   ]
  },
  {
   "cell_type": "markdown",
   "metadata": {},
   "source": [
    "### Display the results\n",
    "\n",
    "- The results can then be examined using the summary which is just a returned dataframe.\n",
    "- The AUPRC is a measure of the Area Under the Precision Recall curve, a useful performance metric.\n",
    "- The Structural Hamming Distance (SHD) measures how close the graph returned by the causal algorithm was to the target graph.\n",
    "- As we are not using the feature selection functionality, these are listed as 'None'."
   ]
  },
  {
   "cell_type": "code",
   "execution_count": 10,
   "metadata": {},
   "outputs": [
    {
     "data": {
      "text/html": [
       "<table border=\"1\" class=\"dataframe\">\n",
       "  <thead>\n",
       "    <tr style=\"text-align: right;\">\n",
       "      <th></th>\n",
       "      <th>No. of Features Req.</th>\n",
       "      <th>Causal Algorithm</th>\n",
       "      <th>Feature Selection Method</th>\n",
       "      <th>AUPRC</th>\n",
       "      <th>SHD</th>\n",
       "    </tr>\n",
       "  </thead>\n",
       "  <tbody>\n",
       "    <tr>\n",
       "      <th>0</th>\n",
       "      <td>None</td>\n",
       "      <td>FCI</td>\n",
       "      <td>None</td>\n",
       "      <td>0.4125</td>\n",
       "      <td>10</td>\n",
       "    </tr>\n",
       "  </tbody>\n",
       "</table>"
      ],
      "text/plain": [
       "<IPython.core.display.HTML object>"
      ]
     },
     "metadata": {},
     "output_type": "display_data"
    }
   ],
   "source": [
    "display(HTML(summary.to_html()))"
   ]
  },
  {
   "cell_type": "markdown",
   "metadata": {},
   "source": [
    "- We can view the causal graph that was returned by examining the AnalysisResults object that was returned."
   ]
  },
  {
   "cell_type": "code",
   "execution_count": 11,
   "metadata": {},
   "outputs": [
    {
     "data": {
      "image/svg+xml": [
       "<?xml version=\"1.0\" encoding=\"UTF-8\" standalone=\"no\"?>\n",
       "<!DOCTYPE svg PUBLIC \"-//W3C//DTD SVG 1.1//EN\"\n",
       " \"http://www.w3.org/Graphics/SVG/1.1/DTD/svg11.dtd\">\n",
       "<!-- Generated by graphviz version 2.40.1 (20161225.0304)\n",
       " -->\n",
       "<!-- Title: %3 Pages: 1 -->\n",
       "<svg width=\"278pt\" height=\"188pt\"\n",
       " viewBox=\"0.00 0.00 278.00 188.00\" xmlns=\"http://www.w3.org/2000/svg\" xmlns:xlink=\"http://www.w3.org/1999/xlink\">\n",
       "<g id=\"graph0\" class=\"graph\" transform=\"scale(1 1) rotate(0) translate(4 184)\">\n",
       "<title>%3</title>\n",
       "<polygon fill=\"#ffffff\" stroke=\"transparent\" points=\"-4,4 -4,-184 274,-184 274,4 -4,4\"/>\n",
       "<!-- X5 -->\n",
       "<g id=\"node1\" class=\"node\">\n",
       "<title>X5</title>\n",
       "<ellipse fill=\"none\" stroke=\"#000000\" cx=\"27\" cy=\"-90\" rx=\"27\" ry=\"18\"/>\n",
       "<text text-anchor=\"middle\" x=\"27\" y=\"-86.3\" font-family=\"Times,serif\" font-size=\"14.00\" fill=\"#000000\">X5</text>\n",
       "</g>\n",
       "<!-- X8 -->\n",
       "<g id=\"node8\" class=\"node\">\n",
       "<title>X8</title>\n",
       "<ellipse fill=\"none\" stroke=\"#000000\" cx=\"63\" cy=\"-18\" rx=\"27\" ry=\"18\"/>\n",
       "<text text-anchor=\"middle\" x=\"63\" y=\"-14.3\" font-family=\"Times,serif\" font-size=\"14.00\" fill=\"#000000\">X8</text>\n",
       "</g>\n",
       "<!-- X5&#45;&gt;X8 -->\n",
       "<g id=\"edge6\" class=\"edge\">\n",
       "<title>X5&#45;&gt;X8</title>\n",
       "<path fill=\"none\" stroke=\"#000000\" d=\"M35.7146,-72.5708C39.9597,-64.0807 45.1536,-53.6929 49.8663,-44.2674\"/>\n",
       "<polygon fill=\"#000000\" stroke=\"#000000\" points=\"53.024,-45.7782 54.3657,-35.2687 46.763,-42.6477 53.024,-45.7782\"/>\n",
       "</g>\n",
       "<!-- X10 -->\n",
       "<g id=\"node2\" class=\"node\">\n",
       "<title>X10</title>\n",
       "<ellipse fill=\"none\" stroke=\"#000000\" cx=\"243\" cy=\"-90\" rx=\"27\" ry=\"18\"/>\n",
       "<text text-anchor=\"middle\" x=\"243\" y=\"-86.3\" font-family=\"Times,serif\" font-size=\"14.00\" fill=\"#000000\">X10</text>\n",
       "</g>\n",
       "<!-- X6 -->\n",
       "<g id=\"node3\" class=\"node\">\n",
       "<title>X6</title>\n",
       "<ellipse fill=\"none\" stroke=\"#000000\" cx=\"99\" cy=\"-90\" rx=\"27\" ry=\"18\"/>\n",
       "<text text-anchor=\"middle\" x=\"99\" y=\"-86.3\" font-family=\"Times,serif\" font-size=\"14.00\" fill=\"#000000\">X6</text>\n",
       "</g>\n",
       "<!-- X1 -->\n",
       "<g id=\"node4\" class=\"node\">\n",
       "<title>X1</title>\n",
       "<ellipse fill=\"none\" stroke=\"#000000\" cx=\"243\" cy=\"-162\" rx=\"27\" ry=\"18\"/>\n",
       "<text text-anchor=\"middle\" x=\"243\" y=\"-158.3\" font-family=\"Times,serif\" font-size=\"14.00\" fill=\"#000000\">X1</text>\n",
       "</g>\n",
       "<!-- X1&#45;&gt;X10 -->\n",
       "<g id=\"edge1\" class=\"edge\">\n",
       "<title>X1&#45;&gt;X10</title>\n",
       "<path fill=\"none\" stroke=\"#000000\" d=\"M243,-143.8314C243,-136.131 243,-126.9743 243,-118.4166\"/>\n",
       "<polygon fill=\"#000000\" stroke=\"#000000\" points=\"246.5001,-118.4132 243,-108.4133 239.5001,-118.4133 246.5001,-118.4132\"/>\n",
       "</g>\n",
       "<!-- X2 -->\n",
       "<g id=\"node5\" class=\"node\">\n",
       "<title>X2</title>\n",
       "<ellipse fill=\"none\" stroke=\"#000000\" cx=\"135\" cy=\"-162\" rx=\"27\" ry=\"18\"/>\n",
       "<text text-anchor=\"middle\" x=\"135\" y=\"-158.3\" font-family=\"Times,serif\" font-size=\"14.00\" fill=\"#000000\">X2</text>\n",
       "</g>\n",
       "<!-- X2&#45;&gt;X6 -->\n",
       "<g id=\"edge3\" class=\"edge\">\n",
       "<title>X2&#45;&gt;X6</title>\n",
       "<path fill=\"none\" stroke=\"#000000\" d=\"M126.2854,-144.5708C122.0403,-136.0807 116.8464,-125.6929 112.1337,-116.2674\"/>\n",
       "<polygon fill=\"#000000\" stroke=\"#000000\" points=\"115.237,-114.6477 107.6343,-107.2687 108.976,-117.7782 115.237,-114.6477\"/>\n",
       "</g>\n",
       "<!-- X4 -->\n",
       "<g id=\"node7\" class=\"node\">\n",
       "<title>X4</title>\n",
       "<ellipse fill=\"none\" stroke=\"#000000\" cx=\"171\" cy=\"-90\" rx=\"27\" ry=\"18\"/>\n",
       "<text text-anchor=\"middle\" x=\"171\" y=\"-86.3\" font-family=\"Times,serif\" font-size=\"14.00\" fill=\"#000000\">X4</text>\n",
       "</g>\n",
       "<!-- X2&#45;&gt;X4 -->\n",
       "<g id=\"edge2\" class=\"edge\">\n",
       "<title>X2&#45;&gt;X4</title>\n",
       "<path fill=\"none\" stroke=\"#000000\" d=\"M143.7146,-144.5708C147.9597,-136.0807 153.1536,-125.6929 157.8663,-116.2674\"/>\n",
       "<polygon fill=\"#000000\" stroke=\"#000000\" points=\"161.024,-117.7782 162.3657,-107.2687 154.763,-114.6477 161.024,-117.7782\"/>\n",
       "</g>\n",
       "<!-- X7 -->\n",
       "<g id=\"node6\" class=\"node\">\n",
       "<title>X7</title>\n",
       "<ellipse fill=\"none\" stroke=\"#000000\" cx=\"171\" cy=\"-18\" rx=\"27\" ry=\"18\"/>\n",
       "<text text-anchor=\"middle\" x=\"171\" y=\"-14.3\" font-family=\"Times,serif\" font-size=\"14.00\" fill=\"#000000\">X7</text>\n",
       "</g>\n",
       "<!-- X4&#45;&gt;X7 -->\n",
       "<g id=\"edge4\" class=\"edge\">\n",
       "<title>X4&#45;&gt;X7</title>\n",
       "<path fill=\"none\" stroke=\"#000000\" d=\"M171,-71.8314C171,-64.131 171,-54.9743 171,-46.4166\"/>\n",
       "<polygon fill=\"#000000\" stroke=\"#000000\" points=\"174.5001,-46.4132 171,-36.4133 167.5001,-46.4133 174.5001,-46.4132\"/>\n",
       "</g>\n",
       "<!-- X4&#45;&gt;X8 -->\n",
       "<g id=\"edge5\" class=\"edge\">\n",
       "<title>X4&#45;&gt;X8</title>\n",
       "<path fill=\"none\" stroke=\"#000000\" d=\"M151.6918,-77.1278C134.6445,-65.763 109.5981,-49.0654 90.4656,-36.3104\"/>\n",
       "<polygon fill=\"#000000\" stroke=\"#000000\" points=\"92.4031,-33.3956 82.1411,-30.7607 88.5201,-39.2199 92.4031,-33.3956\"/>\n",
       "</g>\n",
       "</g>\n",
       "</svg>\n"
      ],
      "text/plain": [
       "<graphviz.dot.Digraph at 0x7f6d3998e590>"
      ]
     },
     "execution_count": 11,
     "metadata": {},
     "output_type": "execute_result"
    }
   ],
   "source": [
    "result = analysis_results.results[0]\n",
    "result.causal_graph.draw()"
   ]
  },
  {
   "cell_type": "markdown",
   "metadata": {},
   "source": [
    "- We can view the target causal graph by using some of the causal graph utility methods provided by AitiaExplorer."
   ]
  },
  {
   "cell_type": "code",
   "execution_count": 12,
   "metadata": {},
   "outputs": [
    {
     "data": {
      "image/svg+xml": [
       "<?xml version=\"1.0\" encoding=\"UTF-8\" standalone=\"no\"?>\n",
       "<!DOCTYPE svg PUBLIC \"-//W3C//DTD SVG 1.1//EN\"\n",
       " \"http://www.w3.org/Graphics/SVG/1.1/DTD/svg11.dtd\">\n",
       "<!-- Generated by graphviz version 2.40.1 (20161225.0304)\n",
       " -->\n",
       "<!-- Title: %3 Pages: 1 -->\n",
       "<svg width=\"316pt\" height=\"260pt\"\n",
       " viewBox=\"0.00 0.00 316.00 260.00\" xmlns=\"http://www.w3.org/2000/svg\" xmlns:xlink=\"http://www.w3.org/1999/xlink\">\n",
       "<g id=\"graph0\" class=\"graph\" transform=\"scale(1 1) rotate(0) translate(4 256)\">\n",
       "<title>%3</title>\n",
       "<polygon fill=\"#ffffff\" stroke=\"transparent\" points=\"-4,4 -4,-256 312,-256 312,4 -4,4\"/>\n",
       "<!-- X3 -->\n",
       "<g id=\"node1\" class=\"node\">\n",
       "<title>X3</title>\n",
       "<ellipse fill=\"none\" stroke=\"#000000\" cx=\"27\" cy=\"-90\" rx=\"27\" ry=\"18\"/>\n",
       "<text text-anchor=\"middle\" x=\"27\" y=\"-86.3\" font-family=\"Times,serif\" font-size=\"14.00\" fill=\"#000000\">X3</text>\n",
       "</g>\n",
       "<!-- X8 -->\n",
       "<g id=\"node8\" class=\"node\">\n",
       "<title>X8</title>\n",
       "<ellipse fill=\"none\" stroke=\"#000000\" cx=\"154\" cy=\"-18\" rx=\"27\" ry=\"18\"/>\n",
       "<text text-anchor=\"middle\" x=\"154\" y=\"-14.3\" font-family=\"Times,serif\" font-size=\"14.00\" fill=\"#000000\">X8</text>\n",
       "</g>\n",
       "<!-- X3&#45;&gt;X8 -->\n",
       "<g id=\"edge3\" class=\"edge\">\n",
       "<title>X3&#45;&gt;X8</title>\n",
       "<path fill=\"none\" stroke=\"#000000\" d=\"M47.6874,-78.2717C68.5363,-66.4519 100.9107,-48.0979 124.4583,-34.7481\"/>\n",
       "<polygon fill=\"#000000\" stroke=\"#000000\" points=\"126.3484,-37.6999 133.3215,-29.7233 122.896,-31.6104 126.3484,-37.6999\"/>\n",
       "</g>\n",
       "<!-- X10 -->\n",
       "<g id=\"node2\" class=\"node\">\n",
       "<title>X10</title>\n",
       "<ellipse fill=\"none\" stroke=\"#000000\" cx=\"209\" cy=\"-162\" rx=\"27\" ry=\"18\"/>\n",
       "<text text-anchor=\"middle\" x=\"209\" y=\"-158.3\" font-family=\"Times,serif\" font-size=\"14.00\" fill=\"#000000\">X10</text>\n",
       "</g>\n",
       "<!-- X7 -->\n",
       "<g id=\"node5\" class=\"node\">\n",
       "<title>X7</title>\n",
       "<ellipse fill=\"none\" stroke=\"#000000\" cx=\"209\" cy=\"-90\" rx=\"27\" ry=\"18\"/>\n",
       "<text text-anchor=\"middle\" x=\"209\" y=\"-86.3\" font-family=\"Times,serif\" font-size=\"14.00\" fill=\"#000000\">X7</text>\n",
       "</g>\n",
       "<!-- X10&#45;&gt;X7 -->\n",
       "<g id=\"edge5\" class=\"edge\">\n",
       "<title>X10&#45;&gt;X7</title>\n",
       "<path fill=\"none\" stroke=\"#000000\" d=\"M209,-143.8314C209,-136.131 209,-126.9743 209,-118.4166\"/>\n",
       "<polygon fill=\"#000000\" stroke=\"#000000\" points=\"212.5001,-118.4132 209,-108.4133 205.5001,-118.4133 212.5001,-118.4132\"/>\n",
       "</g>\n",
       "<!-- X4 -->\n",
       "<g id=\"node6\" class=\"node\">\n",
       "<title>X4</title>\n",
       "<ellipse fill=\"none\" stroke=\"#000000\" cx=\"281\" cy=\"-90\" rx=\"27\" ry=\"18\"/>\n",
       "<text text-anchor=\"middle\" x=\"281\" y=\"-86.3\" font-family=\"Times,serif\" font-size=\"14.00\" fill=\"#000000\">X4</text>\n",
       "</g>\n",
       "<!-- X10&#45;&gt;X4 -->\n",
       "<g id=\"edge4\" class=\"edge\">\n",
       "<title>X10&#45;&gt;X4</title>\n",
       "<path fill=\"none\" stroke=\"#000000\" d=\"M224.2693,-146.7307C234.197,-136.803 247.3153,-123.6847 258.4363,-112.5637\"/>\n",
       "<polygon fill=\"#000000\" stroke=\"#000000\" points=\"261.1564,-114.7933 265.7527,-105.2473 256.2067,-109.8436 261.1564,-114.7933\"/>\n",
       "</g>\n",
       "<!-- X1 -->\n",
       "<g id=\"node3\" class=\"node\">\n",
       "<title>X1</title>\n",
       "<ellipse fill=\"none\" stroke=\"#000000\" cx=\"104\" cy=\"-234\" rx=\"27\" ry=\"18\"/>\n",
       "<text text-anchor=\"middle\" x=\"104\" y=\"-230.3\" font-family=\"Times,serif\" font-size=\"14.00\" fill=\"#000000\">X1</text>\n",
       "</g>\n",
       "<!-- X1&#45;&gt;X3 -->\n",
       "<g id=\"edge1\" class=\"edge\">\n",
       "<title>X1&#45;&gt;X3</title>\n",
       "<path fill=\"none\" stroke=\"#000000\" d=\"M94.8647,-216.9158C81.4926,-191.9082 56.4844,-145.1397 40.8452,-115.8924\"/>\n",
       "<polygon fill=\"#000000\" stroke=\"#000000\" points=\"43.9253,-114.23 36.1234,-107.0619 37.7524,-117.5308 43.9253,-114.23\"/>\n",
       "</g>\n",
       "<!-- X1&#45;&gt;X10 -->\n",
       "<g id=\"edge2\" class=\"edge\">\n",
       "<title>X1&#45;&gt;X10</title>\n",
       "<path fill=\"none\" stroke=\"#000000\" d=\"M123.2586,-220.7941C139.5398,-209.6298 163.0667,-193.4971 181.3589,-180.9539\"/>\n",
       "<polygon fill=\"#000000\" stroke=\"#000000\" points=\"183.5955,-183.6641 189.8635,-175.1222 179.6368,-177.891 183.5955,-183.6641\"/>\n",
       "</g>\n",
       "<!-- X2 -->\n",
       "<g id=\"node4\" class=\"node\">\n",
       "<title>X2</title>\n",
       "<ellipse fill=\"none\" stroke=\"#000000\" cx=\"123\" cy=\"-162\" rx=\"27\" ry=\"18\"/>\n",
       "<text text-anchor=\"middle\" x=\"123\" y=\"-158.3\" font-family=\"Times,serif\" font-size=\"14.00\" fill=\"#000000\">X2</text>\n",
       "</g>\n",
       "<!-- X2&#45;&gt;X3 -->\n",
       "<g id=\"edge7\" class=\"edge\">\n",
       "<title>X2&#45;&gt;X3</title>\n",
       "<path fill=\"none\" stroke=\"#000000\" d=\"M104.9431,-148.4574C90.3275,-137.4956 69.545,-121.9088 53.1152,-109.5864\"/>\n",
       "<polygon fill=\"#000000\" stroke=\"#000000\" points=\"55.0759,-106.682 44.9759,-103.4819 50.8759,-112.282 55.0759,-106.682\"/>\n",
       "</g>\n",
       "<!-- X2&#45;&gt;X7 -->\n",
       "<g id=\"edge8\" class=\"edge\">\n",
       "<title>X2&#45;&gt;X7</title>\n",
       "<path fill=\"none\" stroke=\"#000000\" d=\"M139.9908,-147.7751C152.5942,-137.2234 169.9728,-122.674 184.1368,-110.8157\"/>\n",
       "<polygon fill=\"#000000\" stroke=\"#000000\" points=\"186.6237,-113.2984 192.0445,-104.1953 182.1301,-107.9311 186.6237,-113.2984\"/>\n",
       "</g>\n",
       "<!-- X9 -->\n",
       "<g id=\"node7\" class=\"node\">\n",
       "<title>X9</title>\n",
       "<ellipse fill=\"none\" stroke=\"#000000\" cx=\"99\" cy=\"-90\" rx=\"27\" ry=\"18\"/>\n",
       "<text text-anchor=\"middle\" x=\"99\" y=\"-86.3\" font-family=\"Times,serif\" font-size=\"14.00\" fill=\"#000000\">X9</text>\n",
       "</g>\n",
       "<!-- X2&#45;&gt;X9 -->\n",
       "<g id=\"edge9\" class=\"edge\">\n",
       "<title>X2&#45;&gt;X9</title>\n",
       "<path fill=\"none\" stroke=\"#000000\" d=\"M117.0674,-144.2022C114.3645,-136.0936 111.1043,-126.3129 108.1016,-117.3049\"/>\n",
       "<polygon fill=\"#000000\" stroke=\"#000000\" points=\"111.3471,-115.973 104.8643,-107.593 104.7063,-118.1867 111.3471,-115.973\"/>\n",
       "</g>\n",
       "<!-- X2&#45;&gt;X8 -->\n",
       "<g id=\"edge10\" class=\"edge\">\n",
       "<title>X2&#45;&gt;X8</title>\n",
       "<path fill=\"none\" stroke=\"#000000\" d=\"M127.0478,-144.0105C129.397,-133.514 132.397,-120.014 135,-108 139.5016,-87.2228 144.4593,-63.7169 148.1815,-45.9388\"/>\n",
       "<polygon fill=\"#000000\" stroke=\"#000000\" points=\"151.651,-46.4462 150.2708,-35.9417 144.799,-45.0142 151.651,-46.4462\"/>\n",
       "</g>\n",
       "<!-- X4&#45;&gt;X8 -->\n",
       "<g id=\"edge6\" class=\"edge\">\n",
       "<title>X4&#45;&gt;X8</title>\n",
       "<path fill=\"none\" stroke=\"#000000\" d=\"M260.3126,-78.2717C239.4637,-66.4519 207.0893,-48.0979 183.5417,-34.7481\"/>\n",
       "<polygon fill=\"#000000\" stroke=\"#000000\" points=\"185.104,-31.6104 174.6785,-29.7233 181.6516,-37.6999 185.104,-31.6104\"/>\n",
       "</g>\n",
       "</g>\n",
       "</svg>\n"
      ],
      "text/plain": [
       "<graphviz.dot.Digraph at 0x7f6cfd257090>"
      ]
     },
     "execution_count": 12,
     "metadata": {},
     "output_type": "execute_result"
    }
   ],
   "source": [
    "target_graph = aitia.graph_util.get_causal_graph_from_dot(target_str_dot)\n",
    "target_graph.draw()"
   ]
  },
  {
   "cell_type": "markdown",
   "metadata": {},
   "source": [
    "As you can see, the causal graph returned by the causal discovery algorithm is not completely correct!\n",
    "\n",
    "This is one of the challenges of causal analysis."
   ]
  },
  {
   "cell_type": "markdown",
   "metadata": {},
   "source": []
  }
 ],
 "metadata": {
  "kernelspec": {
   "display_name": "Python 3",
   "language": "python",
   "name": "python3"
  },
  "language_info": {
   "codemirror_mode": {
    "name": "ipython",
    "version": 3
   },
   "file_extension": ".py",
   "mimetype": "text/x-python",
   "name": "python",
   "nbconvert_exporter": "python",
   "pygments_lexer": "ipython3",
   "version": "3.7.7"
  }
 },
 "nbformat": 4,
 "nbformat_minor": 4
}
