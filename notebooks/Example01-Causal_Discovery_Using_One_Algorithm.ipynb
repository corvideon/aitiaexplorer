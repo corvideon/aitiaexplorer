{
 "cells": [
  {
   "cell_type": "markdown",
   "metadata": {},
   "source": [
    "# Example 01: Causal discovery using one algorithm only\n",
    "\n",
    "-------------------------------------------\n",
    "\n",
    "## Overview\n",
    "\n",
    "\n",
    " - AitiaExplorer allows you to see the results of many causal discovery algorithms at once, but it may be easier to understand using just one algorithm at a time.\n",
    " - This example will show how you can use AitiaExplorer to do causal discovery with one specific algorithm."
   ]
  },
  {
   "cell_type": "markdown",
   "metadata": {},
   "source": [
    "### Imports"
   ]
  },
  {
   "cell_type": "code",
   "execution_count": 1,
   "metadata": {},
   "outputs": [],
   "source": [
    "import os\n",
    "import sys\n",
    "import networkx as nx\n",
    "from pycausal.pycausal import pycausal\n",
    "from IPython.display import display, HTML\n",
    "\n",
    "module_path = os.path.abspath(os.path.join('../src'))\n",
    "if module_path not in sys.path:\n",
    "    sys.path.append(module_path)\n",
    "from aitia_explorer.app import App\n",
    "\n",
    "# stop the warning clutter\n",
    "import warnings\n",
    "warnings.filterwarnings('ignore')"
   ]
  },
  {
   "cell_type": "markdown",
   "metadata": {},
   "source": [
    "### Set up for causal discovery\n",
    "\n",
    "- First create an AitiaExplorer instance and using it to load some simulated data into a pandas dataframe."
   ]
  },
  {
   "cell_type": "code",
   "execution_count": 5,
   "metadata": {},
   "outputs": [],
   "source": [
    "aitia = App()"
   ]
  },
  {
   "cell_type": "code",
   "execution_count": 6,
   "metadata": {},
   "outputs": [],
   "source": [
    "df = aitia.data.simulated_data_1()"
   ]
  },
  {
   "cell_type": "code",
   "execution_count": 7,
   "metadata": {},
   "outputs": [
    {
     "data": {
      "text/html": [
       "<div>\n",
       "<style scoped>\n",
       "    .dataframe tbody tr th:only-of-type {\n",
       "        vertical-align: middle;\n",
       "    }\n",
       "\n",
       "    .dataframe tbody tr th {\n",
       "        vertical-align: top;\n",
       "    }\n",
       "\n",
       "    .dataframe thead th {\n",
       "        text-align: right;\n",
       "    }\n",
       "</style>\n",
       "<table border=\"1\" class=\"dataframe\">\n",
       "  <thead>\n",
       "    <tr style=\"text-align: right;\">\n",
       "      <th></th>\n",
       "      <th>X1</th>\n",
       "      <th>X2</th>\n",
       "      <th>X3</th>\n",
       "      <th>X4</th>\n",
       "      <th>X5</th>\n",
       "      <th>X6</th>\n",
       "      <th>X7</th>\n",
       "      <th>X8</th>\n",
       "      <th>X9</th>\n",
       "      <th>X10</th>\n",
       "    </tr>\n",
       "  </thead>\n",
       "  <tbody>\n",
       "    <tr>\n",
       "      <th>0</th>\n",
       "      <td>1</td>\n",
       "      <td>1</td>\n",
       "      <td>0</td>\n",
       "      <td>0</td>\n",
       "      <td>1</td>\n",
       "      <td>2</td>\n",
       "      <td>0</td>\n",
       "      <td>1</td>\n",
       "      <td>2</td>\n",
       "      <td>1</td>\n",
       "    </tr>\n",
       "    <tr>\n",
       "      <th>1</th>\n",
       "      <td>2</td>\n",
       "      <td>1</td>\n",
       "      <td>0</td>\n",
       "      <td>0</td>\n",
       "      <td>1</td>\n",
       "      <td>1</td>\n",
       "      <td>1</td>\n",
       "      <td>0</td>\n",
       "      <td>1</td>\n",
       "      <td>2</td>\n",
       "    </tr>\n",
       "    <tr>\n",
       "      <th>2</th>\n",
       "      <td>0</td>\n",
       "      <td>2</td>\n",
       "      <td>1</td>\n",
       "      <td>1</td>\n",
       "      <td>1</td>\n",
       "      <td>0</td>\n",
       "      <td>0</td>\n",
       "      <td>2</td>\n",
       "      <td>2</td>\n",
       "      <td>1</td>\n",
       "    </tr>\n",
       "    <tr>\n",
       "      <th>3</th>\n",
       "      <td>0</td>\n",
       "      <td>1</td>\n",
       "      <td>0</td>\n",
       "      <td>0</td>\n",
       "      <td>0</td>\n",
       "      <td>1</td>\n",
       "      <td>2</td>\n",
       "      <td>1</td>\n",
       "      <td>1</td>\n",
       "      <td>1</td>\n",
       "    </tr>\n",
       "    <tr>\n",
       "      <th>4</th>\n",
       "      <td>0</td>\n",
       "      <td>1</td>\n",
       "      <td>0</td>\n",
       "      <td>1</td>\n",
       "      <td>1</td>\n",
       "      <td>1</td>\n",
       "      <td>2</td>\n",
       "      <td>2</td>\n",
       "      <td>2</td>\n",
       "      <td>1</td>\n",
       "    </tr>\n",
       "  </tbody>\n",
       "</table>\n",
       "</div>"
      ],
      "text/plain": [
       "   X1  X2  X3  X4  X5  X6  X7  X8  X9  X10\n",
       "0   1   1   0   0   1   2   0   1   2    1\n",
       "1   2   1   0   0   1   1   1   0   1    2\n",
       "2   0   2   1   1   1   0   0   2   2    1\n",
       "3   0   1   0   0   0   1   2   1   1    1\n",
       "4   0   1   0   1   1   1   2   2   2    1"
      ]
     },
     "execution_count": 7,
     "metadata": {},
     "output_type": "execute_result"
    }
   ],
   "source": [
    "df.head()"
   ]
  },
  {
   "cell_type": "markdown",
   "metadata": {},
   "source": [
    "- This simulated data also has a known causal graph. We will load this as we can use it for testing.\n",
    "- This causal graph is stored as [DOT graph description language](https://en.wikipedia.org/wiki/DOT_%28graph_description_language%29)"
   ]
  },
  {
   "cell_type": "code",
   "execution_count": 8,
   "metadata": {},
   "outputs": [],
   "source": [
    "target_str_dot = aitia.data.simulated_data_1_graph()"
   ]
  },
  {
   "cell_type": "code",
   "execution_count": 6,
   "metadata": {},
   "outputs": [
    {
     "data": {
      "text/plain": [
       "'digraph g {\\n \"X1\" -> \"X3\" [arrowtail=none, arrowhead=normal];\\n \"X10\" -> \"X4\" [dir=both, arrowtail=normal, arrowhead=none];\\n \"X2\" -> \"X7\" [arrowtail=none, arrowhead=normal];\\n \"X2\" -> \"X9\" [arrowtail=none, arrowhead=normal];\\n \"X10\" -> \"X7\" [dir=both, arrowtail=normal, arrowhead=none];\\n \"X2\" -> \"X8\" [arrowtail=none, arrowhead=normal];\\n \"X1\" -> \"X10\" [arrowtail=none, arrowhead=normal];\\n \"X4\" -> \"X8\" [arrowtail=none, arrowhead=normal];\\n \"X3\" -> \"X8\" [arrowtail=none, arrowhead=normal];\\n \"X2\" -> \"X3\" [arrowtail=none, arrowhead=normal];\\n}\\n'"
      ]
     },
     "execution_count": 6,
     "metadata": {},
     "output_type": "execute_result"
    }
   ],
   "source": [
    "target_str_dot"
   ]
  },
  {
   "cell_type": "markdown",
   "metadata": {},
   "source": [
    "- Next we will set up a list of algorithms for AitiaExplorer to run. We will just add one, the FCI algorithm."
   ]
  },
  {
   "cell_type": "code",
   "execution_count": 32,
   "metadata": {},
   "outputs": [],
   "source": [
    "algorithm_list = []\n",
    "# be sure to use the uppercase constants only\n",
    "algorithm_list.append(aitia.algo_runner.GFCI_discrete)"
   ]
  },
  {
   "cell_type": "markdown",
   "metadata": {},
   "source": [
    "### Run the causal discovery analysis\n",
    "\n",
    "- Now we will run the causal discovery analysis.\n",
    "- First we need to start a background Java VM using py-causal as the algorithms are implemented in Java.\n",
    "- Then we will run the analysis using the `run_causal_discovery` method and AitiaExplorer will return a summary and some useful results."
   ]
  },
  {
   "cell_type": "code",
   "execution_count": 27,
   "metadata": {},
   "outputs": [],
   "source": [
    "pc = pycausal()\n",
    "pc.start_vm()"
   ]
  },
  {
   "cell_type": "code",
   "execution_count": 33,
   "metadata": {},
   "outputs": [
    {
     "name": "stdout",
     "output_type": "stream",
     "text": [
      "Running causal discovery using GFCI-discrete\n"
     ]
    }
   ],
   "source": [
    "# pass in the dataframe, the target graph, the algorithm list to run and the py-causal object...\n",
    "analysis_results, summary = aitia.run_causal_discovery( \n",
    "                                       df,\n",
    "                                       target_graph_str=target_str_dot,\n",
    "                                       algorithm_list=algorithm_list,\n",
    "                                       pc=pc)"
   ]
  },
  {
   "cell_type": "markdown",
   "metadata": {},
   "source": [
    "### Display the results\n",
    "\n",
    "- The results can then be examined using the summary which is just a returned dataframe.\n",
    "- The AUPRC is a measure of the Area Under the Precision Recall curve, a useful performance metric.\n",
    "- The Structural Hamming Distance (SHD) measures how close the graph returned by the causal algorithm was to the target graph.\n",
    "- As we are not using the feature selection functionality, these are listed as 'None'."
   ]
  },
  {
   "cell_type": "code",
   "execution_count": 34,
   "metadata": {},
   "outputs": [
    {
     "data": {
      "text/html": [
       "<table border=\"1\" class=\"dataframe\">\n",
       "  <thead>\n",
       "    <tr style=\"text-align: right;\">\n",
       "      <th></th>\n",
       "      <th>No. of Features Req.</th>\n",
       "      <th>Causal Algorithm</th>\n",
       "      <th>Feature Selection Method</th>\n",
       "      <th>AUPRC</th>\n",
       "      <th>SHD</th>\n",
       "    </tr>\n",
       "  </thead>\n",
       "  <tbody>\n",
       "    <tr>\n",
       "      <th>0</th>\n",
       "      <td>None</td>\n",
       "      <td>GFCI-discrete</td>\n",
       "      <td>None</td>\n",
       "      <td>0.4125</td>\n",
       "      <td>10</td>\n",
       "    </tr>\n",
       "  </tbody>\n",
       "</table>"
      ],
      "text/plain": [
       "<IPython.core.display.HTML object>"
      ]
     },
     "metadata": {},
     "output_type": "display_data"
    }
   ],
   "source": [
    "display(HTML(summary.to_html()))"
   ]
  },
  {
   "cell_type": "markdown",
   "metadata": {},
   "source": [
    "- We can view the causal graph that was returned by examining the AnalysisResults object that was returned."
   ]
  },
  {
   "cell_type": "code",
   "execution_count": 35,
   "metadata": {},
   "outputs": [
    {
     "data": {
      "image/svg+xml": [
       "<?xml version=\"1.0\" encoding=\"UTF-8\" standalone=\"no\"?>\n",
       "<!DOCTYPE svg PUBLIC \"-//W3C//DTD SVG 1.1//EN\"\n",
       " \"http://www.w3.org/Graphics/SVG/1.1/DTD/svg11.dtd\">\n",
       "<!-- Generated by graphviz version 2.40.1 (20161225.0304)\n",
       " -->\n",
       "<!-- Title: %3 Pages: 1 -->\n",
       "<svg width=\"278pt\" height=\"188pt\"\n",
       " viewBox=\"0.00 0.00 278.00 188.00\" xmlns=\"http://www.w3.org/2000/svg\" xmlns:xlink=\"http://www.w3.org/1999/xlink\">\n",
       "<g id=\"graph0\" class=\"graph\" transform=\"scale(1 1) rotate(0) translate(4 184)\">\n",
       "<title>%3</title>\n",
       "<polygon fill=\"#ffffff\" stroke=\"transparent\" points=\"-4,4 -4,-184 274,-184 274,4 -4,4\"/>\n",
       "<!-- X6 -->\n",
       "<g id=\"node1\" class=\"node\">\n",
       "<title>X6</title>\n",
       "<ellipse fill=\"none\" stroke=\"#000000\" cx=\"171\" cy=\"-90\" rx=\"27\" ry=\"18\"/>\n",
       "<text text-anchor=\"middle\" x=\"171\" y=\"-86.3\" font-family=\"Times,serif\" font-size=\"14.00\" fill=\"#000000\">X6</text>\n",
       "</g>\n",
       "<!-- X9 -->\n",
       "<g id=\"node5\" class=\"node\">\n",
       "<title>X9</title>\n",
       "<ellipse fill=\"none\" stroke=\"#000000\" cx=\"171\" cy=\"-18\" rx=\"27\" ry=\"18\"/>\n",
       "<text text-anchor=\"middle\" x=\"171\" y=\"-14.3\" font-family=\"Times,serif\" font-size=\"14.00\" fill=\"#000000\">X9</text>\n",
       "</g>\n",
       "<!-- X6&#45;&gt;X9 -->\n",
       "<g id=\"edge2\" class=\"edge\">\n",
       "<title>X6&#45;&gt;X9</title>\n",
       "<path fill=\"none\" stroke=\"#000000\" d=\"M171,-71.8314C171,-64.131 171,-54.9743 171,-46.4166\"/>\n",
       "<polygon fill=\"#000000\" stroke=\"#000000\" points=\"174.5001,-46.4132 171,-36.4133 167.5001,-46.4133 174.5001,-46.4132\"/>\n",
       "</g>\n",
       "<!-- X8 -->\n",
       "<g id=\"node7\" class=\"node\">\n",
       "<title>X8</title>\n",
       "<ellipse fill=\"none\" stroke=\"#000000\" cx=\"99\" cy=\"-18\" rx=\"27\" ry=\"18\"/>\n",
       "<text text-anchor=\"middle\" x=\"99\" y=\"-14.3\" font-family=\"Times,serif\" font-size=\"14.00\" fill=\"#000000\">X8</text>\n",
       "</g>\n",
       "<!-- X6&#45;&gt;X8 -->\n",
       "<g id=\"edge1\" class=\"edge\">\n",
       "<title>X6&#45;&gt;X8</title>\n",
       "<path fill=\"none\" stroke=\"#000000\" d=\"M155.7307,-74.7307C145.803,-64.803 132.6847,-51.6847 121.5637,-40.5637\"/>\n",
       "<polygon fill=\"#000000\" stroke=\"#000000\" points=\"123.7933,-37.8436 114.2473,-33.2473 118.8436,-42.7933 123.7933,-37.8436\"/>\n",
       "</g>\n",
       "<!-- X10 -->\n",
       "<g id=\"node2\" class=\"node\">\n",
       "<title>X10</title>\n",
       "<ellipse fill=\"none\" stroke=\"#000000\" cx=\"243\" cy=\"-90\" rx=\"27\" ry=\"18\"/>\n",
       "<text text-anchor=\"middle\" x=\"243\" y=\"-86.3\" font-family=\"Times,serif\" font-size=\"14.00\" fill=\"#000000\">X10</text>\n",
       "</g>\n",
       "<!-- X5 -->\n",
       "<g id=\"node3\" class=\"node\">\n",
       "<title>X5</title>\n",
       "<ellipse fill=\"none\" stroke=\"#000000\" cx=\"99\" cy=\"-90\" rx=\"27\" ry=\"18\"/>\n",
       "<text text-anchor=\"middle\" x=\"99\" y=\"-86.3\" font-family=\"Times,serif\" font-size=\"14.00\" fill=\"#000000\">X5</text>\n",
       "</g>\n",
       "<!-- X5&#45;&gt;X8 -->\n",
       "<g id=\"edge8\" class=\"edge\">\n",
       "<title>X5&#45;&gt;X8</title>\n",
       "<path fill=\"none\" stroke=\"#000000\" d=\"M99,-71.8314C99,-64.131 99,-54.9743 99,-46.4166\"/>\n",
       "<polygon fill=\"#000000\" stroke=\"#000000\" points=\"102.5001,-46.4132 99,-36.4133 95.5001,-46.4133 102.5001,-46.4132\"/>\n",
       "</g>\n",
       "<!-- X1 -->\n",
       "<g id=\"node4\" class=\"node\">\n",
       "<title>X1</title>\n",
       "<ellipse fill=\"none\" stroke=\"#000000\" cx=\"243\" cy=\"-162\" rx=\"27\" ry=\"18\"/>\n",
       "<text text-anchor=\"middle\" x=\"243\" y=\"-158.3\" font-family=\"Times,serif\" font-size=\"14.00\" fill=\"#000000\">X1</text>\n",
       "</g>\n",
       "<!-- X1&#45;&gt;X10 -->\n",
       "<g id=\"edge3\" class=\"edge\">\n",
       "<title>X1&#45;&gt;X10</title>\n",
       "<path fill=\"none\" stroke=\"#000000\" d=\"M243,-143.8314C243,-136.131 243,-126.9743 243,-118.4166\"/>\n",
       "<polygon fill=\"#000000\" stroke=\"#000000\" points=\"246.5001,-118.4132 243,-108.4133 239.5001,-118.4133 246.5001,-118.4132\"/>\n",
       "</g>\n",
       "<!-- X4 -->\n",
       "<g id=\"node6\" class=\"node\">\n",
       "<title>X4</title>\n",
       "<ellipse fill=\"none\" stroke=\"#000000\" cx=\"27\" cy=\"-90\" rx=\"27\" ry=\"18\"/>\n",
       "<text text-anchor=\"middle\" x=\"27\" y=\"-86.3\" font-family=\"Times,serif\" font-size=\"14.00\" fill=\"#000000\">X4</text>\n",
       "</g>\n",
       "<!-- X4&#45;&gt;X8 -->\n",
       "<g id=\"edge6\" class=\"edge\">\n",
       "<title>X4&#45;&gt;X8</title>\n",
       "<path fill=\"none\" stroke=\"#000000\" d=\"M42.2693,-74.7307C52.197,-64.803 65.3153,-51.6847 76.4363,-40.5637\"/>\n",
       "<polygon fill=\"#000000\" stroke=\"#000000\" points=\"79.1564,-42.7933 83.7527,-33.2473 74.2067,-37.8436 79.1564,-42.7933\"/>\n",
       "</g>\n",
       "<!-- X7 -->\n",
       "<g id=\"node9\" class=\"node\">\n",
       "<title>X7</title>\n",
       "<ellipse fill=\"none\" stroke=\"#000000\" cx=\"27\" cy=\"-18\" rx=\"27\" ry=\"18\"/>\n",
       "<text text-anchor=\"middle\" x=\"27\" y=\"-14.3\" font-family=\"Times,serif\" font-size=\"14.00\" fill=\"#000000\">X7</text>\n",
       "</g>\n",
       "<!-- X4&#45;&gt;X7 -->\n",
       "<g id=\"edge7\" class=\"edge\">\n",
       "<title>X4&#45;&gt;X7</title>\n",
       "<path fill=\"none\" stroke=\"#000000\" d=\"M27,-71.8314C27,-64.131 27,-54.9743 27,-46.4166\"/>\n",
       "<polygon fill=\"#000000\" stroke=\"#000000\" points=\"30.5001,-46.4132 27,-36.4133 23.5001,-46.4133 30.5001,-46.4132\"/>\n",
       "</g>\n",
       "<!-- X2 -->\n",
       "<g id=\"node8\" class=\"node\">\n",
       "<title>X2</title>\n",
       "<ellipse fill=\"none\" stroke=\"#000000\" cx=\"99\" cy=\"-162\" rx=\"27\" ry=\"18\"/>\n",
       "<text text-anchor=\"middle\" x=\"99\" y=\"-158.3\" font-family=\"Times,serif\" font-size=\"14.00\" fill=\"#000000\">X2</text>\n",
       "</g>\n",
       "<!-- X2&#45;&gt;X6 -->\n",
       "<g id=\"edge4\" class=\"edge\">\n",
       "<title>X2&#45;&gt;X6</title>\n",
       "<path fill=\"none\" stroke=\"#000000\" d=\"M114.2693,-146.7307C124.197,-136.803 137.3153,-123.6847 148.4363,-112.5637\"/>\n",
       "<polygon fill=\"#000000\" stroke=\"#000000\" points=\"151.1564,-114.7933 155.7527,-105.2473 146.2067,-109.8436 151.1564,-114.7933\"/>\n",
       "</g>\n",
       "<!-- X2&#45;&gt;X4 -->\n",
       "<g id=\"edge5\" class=\"edge\">\n",
       "<title>X2&#45;&gt;X4</title>\n",
       "<path fill=\"none\" stroke=\"#000000\" d=\"M83.7307,-146.7307C73.803,-136.803 60.6847,-123.6847 49.5637,-112.5637\"/>\n",
       "<polygon fill=\"#000000\" stroke=\"#000000\" points=\"51.7933,-109.8436 42.2473,-105.2473 46.8436,-114.7933 51.7933,-109.8436\"/>\n",
       "</g>\n",
       "</g>\n",
       "</svg>\n"
      ],
      "text/plain": [
       "<graphviz.dot.Digraph at 0x7fdb91a15710>"
      ]
     },
     "execution_count": 35,
     "metadata": {},
     "output_type": "execute_result"
    }
   ],
   "source": [
    "result = analysis_results.results[0]\n",
    "result.causal_graph.draw()"
   ]
  },
  {
   "cell_type": "markdown",
   "metadata": {},
   "source": [
    "- We can view the target causal graph by using some of the causal graph utility methods provided by AitiaExplorer."
   ]
  },
  {
   "cell_type": "code",
   "execution_count": 14,
   "metadata": {},
   "outputs": [
    {
     "data": {
      "image/svg+xml": [
       "<?xml version=\"1.0\" encoding=\"UTF-8\" standalone=\"no\"?>\n",
       "<!DOCTYPE svg PUBLIC \"-//W3C//DTD SVG 1.1//EN\"\n",
       " \"http://www.w3.org/Graphics/SVG/1.1/DTD/svg11.dtd\">\n",
       "<!-- Generated by graphviz version 2.40.1 (20161225.0304)\n",
       " -->\n",
       "<!-- Title: %3 Pages: 1 -->\n",
       "<svg width=\"316pt\" height=\"260pt\"\n",
       " viewBox=\"0.00 0.00 316.00 260.00\" xmlns=\"http://www.w3.org/2000/svg\" xmlns:xlink=\"http://www.w3.org/1999/xlink\">\n",
       "<g id=\"graph0\" class=\"graph\" transform=\"scale(1 1) rotate(0) translate(4 256)\">\n",
       "<title>%3</title>\n",
       "<polygon fill=\"#ffffff\" stroke=\"transparent\" points=\"-4,4 -4,-256 312,-256 312,4 -4,4\"/>\n",
       "<!-- X10 -->\n",
       "<g id=\"node1\" class=\"node\">\n",
       "<title>X10</title>\n",
       "<ellipse fill=\"none\" stroke=\"#000000\" cx=\"99\" cy=\"-162\" rx=\"27\" ry=\"18\"/>\n",
       "<text text-anchor=\"middle\" x=\"99\" y=\"-158.3\" font-family=\"Times,serif\" font-size=\"14.00\" fill=\"#000000\">X10</text>\n",
       "</g>\n",
       "<!-- X4 -->\n",
       "<g id=\"node5\" class=\"node\">\n",
       "<title>X4</title>\n",
       "<ellipse fill=\"none\" stroke=\"#000000\" cx=\"27\" cy=\"-90\" rx=\"27\" ry=\"18\"/>\n",
       "<text text-anchor=\"middle\" x=\"27\" y=\"-86.3\" font-family=\"Times,serif\" font-size=\"14.00\" fill=\"#000000\">X4</text>\n",
       "</g>\n",
       "<!-- X10&#45;&gt;X4 -->\n",
       "<g id=\"edge4\" class=\"edge\">\n",
       "<title>X10&#45;&gt;X4</title>\n",
       "<path fill=\"none\" stroke=\"#000000\" d=\"M83.7307,-146.7307C73.803,-136.803 60.6847,-123.6847 49.5637,-112.5637\"/>\n",
       "<polygon fill=\"#000000\" stroke=\"#000000\" points=\"51.7933,-109.8436 42.2473,-105.2473 46.8436,-114.7933 51.7933,-109.8436\"/>\n",
       "</g>\n",
       "<!-- X7 -->\n",
       "<g id=\"node8\" class=\"node\">\n",
       "<title>X7</title>\n",
       "<ellipse fill=\"none\" stroke=\"#000000\" cx=\"99\" cy=\"-90\" rx=\"27\" ry=\"18\"/>\n",
       "<text text-anchor=\"middle\" x=\"99\" y=\"-86.3\" font-family=\"Times,serif\" font-size=\"14.00\" fill=\"#000000\">X7</text>\n",
       "</g>\n",
       "<!-- X10&#45;&gt;X7 -->\n",
       "<g id=\"edge5\" class=\"edge\">\n",
       "<title>X10&#45;&gt;X7</title>\n",
       "<path fill=\"none\" stroke=\"#000000\" d=\"M99,-143.8314C99,-136.131 99,-126.9743 99,-118.4166\"/>\n",
       "<polygon fill=\"#000000\" stroke=\"#000000\" points=\"102.5001,-118.4132 99,-108.4133 95.5001,-118.4133 102.5001,-118.4132\"/>\n",
       "</g>\n",
       "<!-- X1 -->\n",
       "<g id=\"node2\" class=\"node\">\n",
       "<title>X1</title>\n",
       "<ellipse fill=\"none\" stroke=\"#000000\" cx=\"162\" cy=\"-234\" rx=\"27\" ry=\"18\"/>\n",
       "<text text-anchor=\"middle\" x=\"162\" y=\"-230.3\" font-family=\"Times,serif\" font-size=\"14.00\" fill=\"#000000\">X1</text>\n",
       "</g>\n",
       "<!-- X1&#45;&gt;X10 -->\n",
       "<g id=\"edge2\" class=\"edge\">\n",
       "<title>X1&#45;&gt;X10</title>\n",
       "<path fill=\"none\" stroke=\"#000000\" d=\"M148.3299,-218.3771C139.8266,-208.659 128.7387,-195.987 119.2292,-185.1191\"/>\n",
       "<polygon fill=\"#000000\" stroke=\"#000000\" points=\"121.8625,-182.8135 112.6434,-177.5924 116.5944,-187.423 121.8625,-182.8135\"/>\n",
       "</g>\n",
       "<!-- X3 -->\n",
       "<g id=\"node3\" class=\"node\">\n",
       "<title>X3</title>\n",
       "<ellipse fill=\"none\" stroke=\"#000000\" cx=\"281\" cy=\"-90\" rx=\"27\" ry=\"18\"/>\n",
       "<text text-anchor=\"middle\" x=\"281\" y=\"-86.3\" font-family=\"Times,serif\" font-size=\"14.00\" fill=\"#000000\">X3</text>\n",
       "</g>\n",
       "<!-- X1&#45;&gt;X3 -->\n",
       "<g id=\"edge1\" class=\"edge\">\n",
       "<title>X1&#45;&gt;X3</title>\n",
       "<path fill=\"none\" stroke=\"#000000\" d=\"M180.7727,-220.7316C194.3347,-210.5667 212.5556,-195.6655 226,-180 242.8334,-160.3857 257.8246,-135.0397 267.8874,-116.2457\"/>\n",
       "<polygon fill=\"#000000\" stroke=\"#000000\" points=\"271.0124,-117.8228 272.5509,-107.3403 264.8112,-114.5754 271.0124,-117.8228\"/>\n",
       "</g>\n",
       "<!-- X8 -->\n",
       "<g id=\"node6\" class=\"node\">\n",
       "<title>X8</title>\n",
       "<ellipse fill=\"none\" stroke=\"#000000\" cx=\"154\" cy=\"-18\" rx=\"27\" ry=\"18\"/>\n",
       "<text text-anchor=\"middle\" x=\"154\" y=\"-14.3\" font-family=\"Times,serif\" font-size=\"14.00\" fill=\"#000000\">X8</text>\n",
       "</g>\n",
       "<!-- X3&#45;&gt;X8 -->\n",
       "<g id=\"edge3\" class=\"edge\">\n",
       "<title>X3&#45;&gt;X8</title>\n",
       "<path fill=\"none\" stroke=\"#000000\" d=\"M260.3126,-78.2717C239.4637,-66.4519 207.0893,-48.0979 183.5417,-34.7481\"/>\n",
       "<polygon fill=\"#000000\" stroke=\"#000000\" points=\"185.104,-31.6104 174.6785,-29.7233 181.6516,-37.6999 185.104,-31.6104\"/>\n",
       "</g>\n",
       "<!-- X9 -->\n",
       "<g id=\"node4\" class=\"node\">\n",
       "<title>X9</title>\n",
       "<ellipse fill=\"none\" stroke=\"#000000\" cx=\"209\" cy=\"-90\" rx=\"27\" ry=\"18\"/>\n",
       "<text text-anchor=\"middle\" x=\"209\" y=\"-86.3\" font-family=\"Times,serif\" font-size=\"14.00\" fill=\"#000000\">X9</text>\n",
       "</g>\n",
       "<!-- X4&#45;&gt;X8 -->\n",
       "<g id=\"edge6\" class=\"edge\">\n",
       "<title>X4&#45;&gt;X8</title>\n",
       "<path fill=\"none\" stroke=\"#000000\" d=\"M47.6874,-78.2717C68.5363,-66.4519 100.9107,-48.0979 124.4583,-34.7481\"/>\n",
       "<polygon fill=\"#000000\" stroke=\"#000000\" points=\"126.3484,-37.6999 133.3215,-29.7233 122.896,-31.6104 126.3484,-37.6999\"/>\n",
       "</g>\n",
       "<!-- X2 -->\n",
       "<g id=\"node7\" class=\"node\">\n",
       "<title>X2</title>\n",
       "<ellipse fill=\"none\" stroke=\"#000000\" cx=\"190\" cy=\"-162\" rx=\"27\" ry=\"18\"/>\n",
       "<text text-anchor=\"middle\" x=\"190\" y=\"-158.3\" font-family=\"Times,serif\" font-size=\"14.00\" fill=\"#000000\">X2</text>\n",
       "</g>\n",
       "<!-- X2&#45;&gt;X3 -->\n",
       "<g id=\"edge7\" class=\"edge\">\n",
       "<title>X2&#45;&gt;X3</title>\n",
       "<path fill=\"none\" stroke=\"#000000\" d=\"M207.5457,-148.1177C221.1419,-137.3602 240.1753,-122.3009 255.4604,-110.2072\"/>\n",
       "<polygon fill=\"#000000\" stroke=\"#000000\" points=\"257.8376,-112.7893 263.5081,-103.8397 253.4942,-107.2998 257.8376,-112.7893\"/>\n",
       "</g>\n",
       "<!-- X2&#45;&gt;X9 -->\n",
       "<g id=\"edge9\" class=\"edge\">\n",
       "<title>X2&#45;&gt;X9</title>\n",
       "<path fill=\"none\" stroke=\"#000000\" d=\"M194.6966,-144.2022C196.7976,-136.2406 199.324,-126.6671 201.665,-117.7957\"/>\n",
       "<polygon fill=\"#000000\" stroke=\"#000000\" points=\"205.1241,-118.4046 204.2916,-107.8425 198.3558,-116.6185 205.1241,-118.4046\"/>\n",
       "</g>\n",
       "<!-- X2&#45;&gt;X8 -->\n",
       "<g id=\"edge10\" class=\"edge\">\n",
       "<title>X2&#45;&gt;X8</title>\n",
       "<path fill=\"none\" stroke=\"#000000\" d=\"M183.894,-144.1267C180.442,-133.6689 176.192,-120.1689 173,-108 167.6061,-87.4364 162.6841,-63.9219 159.2018,-46.0864\"/>\n",
       "<polygon fill=\"#000000\" stroke=\"#000000\" points=\"162.5979,-45.2116 157.2768,-36.0499 155.7232,-46.5303 162.5979,-45.2116\"/>\n",
       "</g>\n",
       "<!-- X2&#45;&gt;X7 -->\n",
       "<g id=\"edge8\" class=\"edge\">\n",
       "<title>X2&#45;&gt;X7</title>\n",
       "<path fill=\"none\" stroke=\"#000000\" d=\"M172.4543,-148.1177C158.8581,-137.3602 139.8247,-122.3009 124.5396,-110.2072\"/>\n",
       "<polygon fill=\"#000000\" stroke=\"#000000\" points=\"126.5058,-107.2998 116.4919,-103.8397 122.1624,-112.7893 126.5058,-107.2998\"/>\n",
       "</g>\n",
       "</g>\n",
       "</svg>\n"
      ],
      "text/plain": [
       "<graphviz.dot.Digraph at 0x7fdb98098110>"
      ]
     },
     "execution_count": 14,
     "metadata": {},
     "output_type": "execute_result"
    }
   ],
   "source": [
    "target_graph = aitia.graph_util.get_causal_graph_from_dot(target_str_dot)\n",
    "target_graph.draw()"
   ]
  },
  {
   "cell_type": "markdown",
   "metadata": {},
   "source": [
    "As you can see, the causal graph returned by the causal discovery algorithm is not completely correct!\n",
    "\n",
    "This is one of the challenges of causal analysis."
   ]
  },
  {
   "cell_type": "markdown",
   "metadata": {},
   "source": []
  }
 ],
 "metadata": {
  "kernelspec": {
   "display_name": "Python 3",
   "language": "python",
   "name": "python3"
  },
  "language_info": {
   "codemirror_mode": {
    "name": "ipython",
    "version": 3
   },
   "file_extension": ".py",
   "mimetype": "text/x-python",
   "name": "python",
   "nbconvert_exporter": "python",
   "pygments_lexer": "ipython3",
   "version": "3.7.7"
  }
 },
 "nbformat": 4,
 "nbformat_minor": 4
}
