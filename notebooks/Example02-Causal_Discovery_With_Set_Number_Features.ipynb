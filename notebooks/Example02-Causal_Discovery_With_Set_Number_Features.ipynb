{
 "cells": [
  {
   "cell_type": "markdown",
   "metadata": {},
   "source": [
    "# Example 02: Causal discovery with a set number of features\n",
    "\n",
    "-------------------------------------------\n",
    "\n",
    "## Overview\n",
    "\n",
    "\n",
    " - AitiaExplorer allows you select the number of important features that are passed into the causal disovery process.\n",
    " - This can provide quick insights into how the most important features of the data interact causally.\n",
    " - This example gives an overview of selecting only a few features of a dataset for causal analysis."
   ]
  },
  {
   "cell_type": "markdown",
   "metadata": {},
   "source": [
    "### Imports"
   ]
  },
  {
   "cell_type": "code",
   "execution_count": 20,
   "metadata": {},
   "outputs": [],
   "source": [
    "import os\n",
    "import sys\n",
    "import math\n",
    "import networkx as nx\n",
    "from pycausal.pycausal import pycausal\n",
    "import matplotlib.pyplot as plt\n",
    "from IPython.display import display, HTML\n",
    "\n",
    "module_path = os.path.abspath(os.path.join('../src'))\n",
    "if module_path not in sys.path:\n",
    "    sys.path.append(module_path)\n",
    "from aitia_explorer.app import App\n",
    "\n",
    "# stop the warning clutter\n",
    "import warnings\n",
    "warnings.filterwarnings('ignore')"
   ]
  },
  {
   "cell_type": "markdown",
   "metadata": {},
   "source": [
    "### Set up for causal discovery\n",
    "\n",
    "- First create an AitiaExplorer instance and using it to load some simulated data into a panda dataframe."
   ]
  },
  {
   "cell_type": "code",
   "execution_count": 2,
   "metadata": {},
   "outputs": [],
   "source": [
    "aitia = App()"
   ]
  },
  {
   "cell_type": "code",
   "execution_count": 56,
   "metadata": {},
   "outputs": [],
   "source": [
    "df = aitia.data.simulated_data_1()"
   ]
  },
  {
   "cell_type": "code",
   "execution_count": 57,
   "metadata": {},
   "outputs": [
    {
     "data": {
      "text/html": [
       "<div>\n",
       "<style scoped>\n",
       "    .dataframe tbody tr th:only-of-type {\n",
       "        vertical-align: middle;\n",
       "    }\n",
       "\n",
       "    .dataframe tbody tr th {\n",
       "        vertical-align: top;\n",
       "    }\n",
       "\n",
       "    .dataframe thead th {\n",
       "        text-align: right;\n",
       "    }\n",
       "</style>\n",
       "<table border=\"1\" class=\"dataframe\">\n",
       "  <thead>\n",
       "    <tr style=\"text-align: right;\">\n",
       "      <th></th>\n",
       "      <th>X1</th>\n",
       "      <th>X2</th>\n",
       "      <th>X3</th>\n",
       "      <th>X4</th>\n",
       "      <th>X5</th>\n",
       "      <th>X6</th>\n",
       "      <th>X7</th>\n",
       "      <th>X8</th>\n",
       "      <th>X9</th>\n",
       "      <th>X10</th>\n",
       "    </tr>\n",
       "  </thead>\n",
       "  <tbody>\n",
       "    <tr>\n",
       "      <th>0</th>\n",
       "      <td>1</td>\n",
       "      <td>1</td>\n",
       "      <td>0</td>\n",
       "      <td>0</td>\n",
       "      <td>1</td>\n",
       "      <td>2</td>\n",
       "      <td>0</td>\n",
       "      <td>1</td>\n",
       "      <td>2</td>\n",
       "      <td>1</td>\n",
       "    </tr>\n",
       "    <tr>\n",
       "      <th>1</th>\n",
       "      <td>2</td>\n",
       "      <td>1</td>\n",
       "      <td>0</td>\n",
       "      <td>0</td>\n",
       "      <td>1</td>\n",
       "      <td>1</td>\n",
       "      <td>1</td>\n",
       "      <td>0</td>\n",
       "      <td>1</td>\n",
       "      <td>2</td>\n",
       "    </tr>\n",
       "    <tr>\n",
       "      <th>2</th>\n",
       "      <td>0</td>\n",
       "      <td>2</td>\n",
       "      <td>1</td>\n",
       "      <td>1</td>\n",
       "      <td>1</td>\n",
       "      <td>0</td>\n",
       "      <td>0</td>\n",
       "      <td>2</td>\n",
       "      <td>2</td>\n",
       "      <td>1</td>\n",
       "    </tr>\n",
       "    <tr>\n",
       "      <th>3</th>\n",
       "      <td>0</td>\n",
       "      <td>1</td>\n",
       "      <td>0</td>\n",
       "      <td>0</td>\n",
       "      <td>0</td>\n",
       "      <td>1</td>\n",
       "      <td>2</td>\n",
       "      <td>1</td>\n",
       "      <td>1</td>\n",
       "      <td>1</td>\n",
       "    </tr>\n",
       "    <tr>\n",
       "      <th>4</th>\n",
       "      <td>0</td>\n",
       "      <td>1</td>\n",
       "      <td>0</td>\n",
       "      <td>1</td>\n",
       "      <td>1</td>\n",
       "      <td>1</td>\n",
       "      <td>2</td>\n",
       "      <td>2</td>\n",
       "      <td>2</td>\n",
       "      <td>1</td>\n",
       "    </tr>\n",
       "  </tbody>\n",
       "</table>\n",
       "</div>"
      ],
      "text/plain": [
       "   X1  X2  X3  X4  X5  X6  X7  X8  X9  X10\n",
       "0   1   1   0   0   1   2   0   1   2    1\n",
       "1   2   1   0   0   1   1   1   0   1    2\n",
       "2   0   2   1   1   1   0   0   2   2    1\n",
       "3   0   1   0   0   0   1   2   1   1    1\n",
       "4   0   1   0   1   1   1   2   2   2    1"
      ]
     },
     "execution_count": 57,
     "metadata": {},
     "output_type": "execute_result"
    }
   ],
   "source": [
    "df.head()"
   ]
  },
  {
   "cell_type": "markdown",
   "metadata": {},
   "source": [
    "- This simulated data also has a known causal graph. We will load this as we can use it for testing.\n",
    "- This causal graph is stored as [DOT graph description language](https://en.wikipedia.org/wiki/DOT_%28graph_description_language%29)"
   ]
  },
  {
   "cell_type": "code",
   "execution_count": 59,
   "metadata": {},
   "outputs": [],
   "source": [
    "target_str_dot = aitia.data.simulated_data_1_graph()"
   ]
  },
  {
   "cell_type": "code",
   "execution_count": 60,
   "metadata": {},
   "outputs": [
    {
     "data": {
      "text/plain": [
       "'digraph g {\\n \"X1\" -> \"X3\" [arrowtail=none, arrowhead=normal];\\n \"X10\" -> \"X4\" [dir=both, arrowtail=normal, arrowhead=none];\\n \"X2\" -> \"X7\" [arrowtail=none, arrowhead=normal];\\n \"X2\" -> \"X9\" [arrowtail=none, arrowhead=normal];\\n \"X10\" -> \"X7\" [dir=both, arrowtail=normal, arrowhead=none];\\n \"X2\" -> \"X8\" [arrowtail=none, arrowhead=normal];\\n \"X1\" -> \"X10\" [arrowtail=none, arrowhead=normal];\\n \"X4\" -> \"X8\" [arrowtail=none, arrowhead=normal];\\n \"X3\" -> \"X8\" [arrowtail=none, arrowhead=normal];\\n \"X2\" -> \"X3\" [arrowtail=none, arrowhead=normal];\\n}\\n'"
      ]
     },
     "execution_count": 60,
     "metadata": {},
     "output_type": "execute_result"
    }
   ],
   "source": [
    "target_str_dot"
   ]
  },
  {
   "cell_type": "markdown",
   "metadata": {},
   "source": [
    "- Now we need to select the causal discovery algorithms and feature selection algorithms to use."
   ]
  },
  {
   "cell_type": "code",
   "execution_count": 3,
   "metadata": {},
   "outputs": [],
   "source": [
    "feature_selection_list = []\n",
    "feature_selection_list.append(aitia.feature_selection.LINEAR_REGRESSION)\n",
    "feature_selection_list.append(aitia.feature_selection.PRINCIPAL_FEATURE_ANALYSIS)\n",
    "feature_selection_list.append(aitia.feature_selection.RANDOM_FOREST)\n",
    "feature_selection_list.append(aitia.feature_selection.RECURSIVE_FEATURE_ELIMINATION)\n",
    "feature_selection_list.append(aitia.feature_selection.XGBOOST)"
   ]
  },
  {
   "cell_type": "code",
   "execution_count": 4,
   "metadata": {},
   "outputs": [],
   "source": [
    "algorithm_list = []\n",
    "algorithm_list.append(aitia.algo_runner.PC)\n",
    "algorithm_list.append(aitia.algo_runner.FCI)\n",
    "algorithm_list.append(aitia.algo_runner.FGES_continuous)\n",
    "algorithm_list.append(aitia.algo_runner.GFCI_continuous)\n",
    "algorithm_list.append(aitia.algo_runner.RFCI_continuous)"
   ]
  },
  {
   "cell_type": "markdown",
   "metadata": {},
   "source": [
    "### Run the causal discovery analysis\n",
    "\n",
    "- Now we will run the causal discovery analysis.\n",
    "- First we need to start a background Java VM using py-causal as the algorithms are implemented in Java.\n",
    "- Then we will run the analysis using the `run_analysis` method and AitiaExplorer will return a summary and some useful results.\n",
    "- We will set the number of features arbitrarily at 7."
   ]
  },
  {
   "cell_type": "code",
   "execution_count": 62,
   "metadata": {},
   "outputs": [],
   "source": [
    "pc = pycausal()\n",
    "pc.start_vm()"
   ]
  },
  {
   "cell_type": "code",
   "execution_count": 63,
   "metadata": {},
   "outputs": [
    {
     "name": "stdout",
     "output_type": "stream",
     "text": [
      "Running causal discovery on features selected by LINEAR_REGRESSION\n",
      "There are 0 latent edges in the reduced dataset\n",
      "Running causal discovery using PC\n",
      "Running causal discovery using FCI\n",
      "Running causal discovery using FGES-continuous\n",
      "Running causal discovery using GFCI-continuous\n",
      "Running causal discovery using RFCI-continuous\n",
      "Completed causal discovery on features selected by LINEAR_REGRESSION\n",
      "Running causal discovery on features selected by PRINCIPAL_FEATURE_ANALYSIS\n",
      "There are 0 latent edges in the reduced dataset\n",
      "Running causal discovery using PC\n",
      "Running causal discovery using FCI\n",
      "Running causal discovery using FGES-continuous\n",
      "Running causal discovery using GFCI-continuous\n",
      "Running causal discovery using RFCI-continuous\n",
      "Completed causal discovery on features selected by PRINCIPAL_FEATURE_ANALYSIS\n",
      "Running causal discovery on features selected by RANDOM_FOREST\n",
      "There are 0 latent edges in the reduced dataset\n",
      "Running causal discovery using PC\n",
      "Running causal discovery using FCI\n",
      "Running causal discovery using FGES-continuous\n",
      "Running causal discovery using GFCI-continuous\n",
      "Running causal discovery using RFCI-continuous\n",
      "Completed causal discovery on features selected by RANDOM_FOREST\n",
      "Running causal discovery on features selected by RECURSIVE_FEATURE_ELIMINATION\n",
      "There are 1 latent edges in the reduced dataset\n",
      "Running causal discovery using PC\n",
      "Running causal discovery using FCI\n",
      "Running causal discovery using FGES-continuous\n",
      "Running causal discovery using GFCI-continuous\n",
      "Running causal discovery using RFCI-continuous\n",
      "Completed causal discovery on features selected by RECURSIVE_FEATURE_ELIMINATION\n",
      "Running causal discovery on features selected by XGBOOST\n",
      "There are 0 latent edges in the reduced dataset\n",
      "Running causal discovery using PC\n",
      "Running causal discovery using FCI\n",
      "Running causal discovery using FGES-continuous\n",
      "Running causal discovery using GFCI-continuous\n",
      "Running causal discovery using RFCI-continuous\n",
      "Completed causal discovery on features selected by XGBOOST\n",
      "Completed analysis.\n"
     ]
    }
   ],
   "source": [
    "# pass in the dataframe, the target graph, the number of features, the causal discovery algorithms list to run,\n",
    "# the feature selections algorithms to run and the py-causal object...\n",
    "# we will ignore the returned target graph as we already have it...\n",
    "results, summary, _ = aitia.run_analysis( df,\n",
    "                                       target_graph_str=target_str_dot,\n",
    "                                       n_features=7,\n",
    "                                       feature_selection_list=feature_selection_list,\n",
    "                                       algorithm_list=algorithm_list,\n",
    "                                       pc=pc)"
   ]
  },
  {
   "cell_type": "markdown",
   "metadata": {},
   "source": [
    "### Display the results\n",
    "\n",
    "- The results can then be examined using the summary which is just a returned dataframe.\n",
    "- The AUPRC is a measure of the Area Under the Precision Recall curve, a useful performance metric.\n",
    "- The Structural Hamming Distance (SHD) measures how close the graph returned by the causal algorithm was to the target graph."
   ]
  },
  {
   "cell_type": "code",
   "execution_count": 64,
   "metadata": {},
   "outputs": [
    {
     "data": {
      "text/html": [
       "<table border=\"1\" class=\"dataframe\">\n",
       "  <thead>\n",
       "    <tr style=\"text-align: right;\">\n",
       "      <th></th>\n",
       "      <th>No. of Features Req.</th>\n",
       "      <th>Causal Algorithm</th>\n",
       "      <th>Feature Selection Method</th>\n",
       "      <th>AUPRC</th>\n",
       "      <th>SHD</th>\n",
       "    </tr>\n",
       "  </thead>\n",
       "  <tbody>\n",
       "    <tr>\n",
       "      <th>0</th>\n",
       "      <td>7</td>\n",
       "      <td>PC</td>\n",
       "      <td>LINEAR_REGRESSION</td>\n",
       "      <td>0.662500</td>\n",
       "      <td>8</td>\n",
       "    </tr>\n",
       "    <tr>\n",
       "      <th>1</th>\n",
       "      <td>7</td>\n",
       "      <td>FCI</td>\n",
       "      <td>LINEAR_REGRESSION</td>\n",
       "      <td>0.662500</td>\n",
       "      <td>8</td>\n",
       "    </tr>\n",
       "    <tr>\n",
       "      <th>2</th>\n",
       "      <td>7</td>\n",
       "      <td>FGES-continuous</td>\n",
       "      <td>LINEAR_REGRESSION</td>\n",
       "      <td>0.662500</td>\n",
       "      <td>8</td>\n",
       "    </tr>\n",
       "    <tr>\n",
       "      <th>3</th>\n",
       "      <td>7</td>\n",
       "      <td>GFCI-continuous</td>\n",
       "      <td>LINEAR_REGRESSION</td>\n",
       "      <td>0.662500</td>\n",
       "      <td>8</td>\n",
       "    </tr>\n",
       "    <tr>\n",
       "      <th>4</th>\n",
       "      <td>7</td>\n",
       "      <td>RFCI-continuous</td>\n",
       "      <td>LINEAR_REGRESSION</td>\n",
       "      <td>0.662500</td>\n",
       "      <td>8</td>\n",
       "    </tr>\n",
       "    <tr>\n",
       "      <th>5</th>\n",
       "      <td>7</td>\n",
       "      <td>PC</td>\n",
       "      <td>PRINCIPAL_FEATURE_ANALYSIS</td>\n",
       "      <td>0.370313</td>\n",
       "      <td>10</td>\n",
       "    </tr>\n",
       "    <tr>\n",
       "      <th>6</th>\n",
       "      <td>7</td>\n",
       "      <td>FCI</td>\n",
       "      <td>PRINCIPAL_FEATURE_ANALYSIS</td>\n",
       "      <td>0.370313</td>\n",
       "      <td>10</td>\n",
       "    </tr>\n",
       "    <tr>\n",
       "      <th>7</th>\n",
       "      <td>7</td>\n",
       "      <td>FGES-continuous</td>\n",
       "      <td>PRINCIPAL_FEATURE_ANALYSIS</td>\n",
       "      <td>0.370313</td>\n",
       "      <td>10</td>\n",
       "    </tr>\n",
       "    <tr>\n",
       "      <th>8</th>\n",
       "      <td>7</td>\n",
       "      <td>GFCI-continuous</td>\n",
       "      <td>PRINCIPAL_FEATURE_ANALYSIS</td>\n",
       "      <td>0.370313</td>\n",
       "      <td>10</td>\n",
       "    </tr>\n",
       "    <tr>\n",
       "      <th>9</th>\n",
       "      <td>7</td>\n",
       "      <td>RFCI-continuous</td>\n",
       "      <td>PRINCIPAL_FEATURE_ANALYSIS</td>\n",
       "      <td>0.370313</td>\n",
       "      <td>10</td>\n",
       "    </tr>\n",
       "    <tr>\n",
       "      <th>10</th>\n",
       "      <td>7</td>\n",
       "      <td>PC</td>\n",
       "      <td>RANDOM_FOREST</td>\n",
       "      <td>0.495833</td>\n",
       "      <td>9</td>\n",
       "    </tr>\n",
       "    <tr>\n",
       "      <th>11</th>\n",
       "      <td>7</td>\n",
       "      <td>FCI</td>\n",
       "      <td>RANDOM_FOREST</td>\n",
       "      <td>0.370313</td>\n",
       "      <td>10</td>\n",
       "    </tr>\n",
       "    <tr>\n",
       "      <th>12</th>\n",
       "      <td>7</td>\n",
       "      <td>FGES-continuous</td>\n",
       "      <td>RANDOM_FOREST</td>\n",
       "      <td>0.370313</td>\n",
       "      <td>10</td>\n",
       "    </tr>\n",
       "    <tr>\n",
       "      <th>13</th>\n",
       "      <td>7</td>\n",
       "      <td>GFCI-continuous</td>\n",
       "      <td>RANDOM_FOREST</td>\n",
       "      <td>0.370313</td>\n",
       "      <td>10</td>\n",
       "    </tr>\n",
       "    <tr>\n",
       "      <th>14</th>\n",
       "      <td>7</td>\n",
       "      <td>RFCI-continuous</td>\n",
       "      <td>RANDOM_FOREST</td>\n",
       "      <td>0.370313</td>\n",
       "      <td>10</td>\n",
       "    </tr>\n",
       "    <tr>\n",
       "      <th>15</th>\n",
       "      <td>7</td>\n",
       "      <td>PC</td>\n",
       "      <td>RECURSIVE_FEATURE_ELIMINATION</td>\n",
       "      <td>0.286979</td>\n",
       "      <td>11</td>\n",
       "    </tr>\n",
       "    <tr>\n",
       "      <th>16</th>\n",
       "      <td>7</td>\n",
       "      <td>FCI</td>\n",
       "      <td>RECURSIVE_FEATURE_ELIMINATION</td>\n",
       "      <td>0.078125</td>\n",
       "      <td>12</td>\n",
       "    </tr>\n",
       "    <tr>\n",
       "      <th>17</th>\n",
       "      <td>7</td>\n",
       "      <td>FGES-continuous</td>\n",
       "      <td>RECURSIVE_FEATURE_ELIMINATION</td>\n",
       "      <td>0.078125</td>\n",
       "      <td>12</td>\n",
       "    </tr>\n",
       "    <tr>\n",
       "      <th>18</th>\n",
       "      <td>7</td>\n",
       "      <td>GFCI-continuous</td>\n",
       "      <td>RECURSIVE_FEATURE_ELIMINATION</td>\n",
       "      <td>0.078125</td>\n",
       "      <td>12</td>\n",
       "    </tr>\n",
       "    <tr>\n",
       "      <th>19</th>\n",
       "      <td>7</td>\n",
       "      <td>RFCI-continuous</td>\n",
       "      <td>RECURSIVE_FEATURE_ELIMINATION</td>\n",
       "      <td>0.078125</td>\n",
       "      <td>12</td>\n",
       "    </tr>\n",
       "    <tr>\n",
       "      <th>20</th>\n",
       "      <td>7</td>\n",
       "      <td>PC</td>\n",
       "      <td>XGBOOST</td>\n",
       "      <td>0.286979</td>\n",
       "      <td>11</td>\n",
       "    </tr>\n",
       "    <tr>\n",
       "      <th>21</th>\n",
       "      <td>7</td>\n",
       "      <td>FCI</td>\n",
       "      <td>XGBOOST</td>\n",
       "      <td>0.286979</td>\n",
       "      <td>11</td>\n",
       "    </tr>\n",
       "    <tr>\n",
       "      <th>22</th>\n",
       "      <td>7</td>\n",
       "      <td>FGES-continuous</td>\n",
       "      <td>XGBOOST</td>\n",
       "      <td>0.286979</td>\n",
       "      <td>11</td>\n",
       "    </tr>\n",
       "    <tr>\n",
       "      <th>23</th>\n",
       "      <td>7</td>\n",
       "      <td>GFCI-continuous</td>\n",
       "      <td>XGBOOST</td>\n",
       "      <td>0.286979</td>\n",
       "      <td>11</td>\n",
       "    </tr>\n",
       "    <tr>\n",
       "      <th>24</th>\n",
       "      <td>7</td>\n",
       "      <td>RFCI-continuous</td>\n",
       "      <td>XGBOOST</td>\n",
       "      <td>0.286979</td>\n",
       "      <td>11</td>\n",
       "    </tr>\n",
       "  </tbody>\n",
       "</table>"
      ],
      "text/plain": [
       "<IPython.core.display.HTML object>"
      ]
     },
     "metadata": {},
     "output_type": "display_data"
    }
   ],
   "source": [
    "display(HTML(summary.to_html()))"
   ]
  },
  {
   "cell_type": "markdown",
   "metadata": {},
   "source": [
    "- We can now graph the results of the run using the summary (which is just a pandas dataframe).\n",
    "- The best results should have a lower SHD and a higher AUPRC."
   ]
  },
  {
   "cell_type": "code",
   "execution_count": 65,
   "metadata": {},
   "outputs": [
    {
     "data": {
      "image/png": "[encoded data removed]",
      "text/plain": [
       "<Figure size 720x360 with 1 Axes>"
      ]
     },
     "metadata": {
      "needs_background": "light"
     },
     "output_type": "display_data"
    }
   ],
   "source": [
    "plt.rcParams[\"figure.figsize\"] = (10, 5)\n",
    "\n",
    "plt.plot(summary.index, summary['SHD'], label='SHD')\n",
    "plt.plot(summary.index, summary['AUPRC'], label='AUPRC')\n",
    "plt.title('Structural Hamming Distance / AUPRC')\n",
    "plt.xlabel('Analysis Index')\n",
    "plt.ylabel('Value')\n",
    "plt.legend()\n",
    "plt.show()"
   ]
  },
  {
   "cell_type": "markdown",
   "metadata": {},
   "source": [
    "- We can see that the best returns were from earlier in the run using the features returned from linear regression.\n",
    "- The PC algorithm in conjunction with the features returned from the random forest classifier are also better than most."
   ]
  },
  {
   "cell_type": "markdown",
   "metadata": {},
   "source": [
    "----------------------"
   ]
  },
  {
   "cell_type": "markdown",
   "metadata": {},
   "source": [
    "- We can view the causal graph that was returned by examining the AnalysisResults object that was returned and compare the two causal graphs / feature lists that were returned by the PC algorithm.\n",
    "- First examine the results from the PC algorithm and features selected by linear regression."
   ]
  },
  {
   "cell_type": "code",
   "execution_count": 75,
   "metadata": {},
   "outputs": [
    {
     "data": {
      "image/svg+xml": [
       "<?xml version=\"1.0\" encoding=\"UTF-8\" standalone=\"no\"?>\n",
       "<!DOCTYPE svg PUBLIC \"-//W3C//DTD SVG 1.1//EN\"\n",
       " \"http://www.w3.org/Graphics/SVG/1.1/DTD/svg11.dtd\">\n",
       "<!-- Generated by graphviz version 2.40.1 (20161225.0304)\n",
       " -->\n",
       "<!-- Title: %3 Pages: 1 -->\n",
       "<svg width=\"134pt\" height=\"116pt\"\n",
       " viewBox=\"0.00 0.00 134.00 116.00\" xmlns=\"http://www.w3.org/2000/svg\" xmlns:xlink=\"http://www.w3.org/1999/xlink\">\n",
       "<g id=\"graph0\" class=\"graph\" transform=\"scale(1 1) rotate(0) translate(4 112)\">\n",
       "<title>%3</title>\n",
       "<polygon fill=\"#ffffff\" stroke=\"transparent\" points=\"-4,4 -4,-112 130,-112 130,4 -4,4\"/>\n",
       "<!-- X8 -->\n",
       "<g id=\"node1\" class=\"node\">\n",
       "<title>X8</title>\n",
       "<ellipse fill=\"none\" stroke=\"#000000\" cx=\"27\" cy=\"-18\" rx=\"27\" ry=\"18\"/>\n",
       "<text text-anchor=\"middle\" x=\"27\" y=\"-14.3\" font-family=\"Times,serif\" font-size=\"14.00\" fill=\"#000000\">X8</text>\n",
       "</g>\n",
       "<!-- X10 -->\n",
       "<g id=\"node2\" class=\"node\">\n",
       "<title>X10</title>\n",
       "<ellipse fill=\"none\" stroke=\"#000000\" cx=\"99\" cy=\"-18\" rx=\"27\" ry=\"18\"/>\n",
       "<text text-anchor=\"middle\" x=\"99\" y=\"-14.3\" font-family=\"Times,serif\" font-size=\"14.00\" fill=\"#000000\">X10</text>\n",
       "</g>\n",
       "<!-- X4 -->\n",
       "<g id=\"node3\" class=\"node\">\n",
       "<title>X4</title>\n",
       "<ellipse fill=\"none\" stroke=\"#000000\" cx=\"27\" cy=\"-90\" rx=\"27\" ry=\"18\"/>\n",
       "<text text-anchor=\"middle\" x=\"27\" y=\"-86.3\" font-family=\"Times,serif\" font-size=\"14.00\" fill=\"#000000\">X4</text>\n",
       "</g>\n",
       "<!-- X4&#45;&gt;X8 -->\n",
       "<g id=\"edge2\" class=\"edge\">\n",
       "<title>X4&#45;&gt;X8</title>\n",
       "<path fill=\"none\" stroke=\"#000000\" d=\"M27,-71.8314C27,-64.131 27,-54.9743 27,-46.4166\"/>\n",
       "<polygon fill=\"#000000\" stroke=\"#000000\" points=\"30.5001,-46.4132 27,-36.4133 23.5001,-46.4133 30.5001,-46.4132\"/>\n",
       "</g>\n",
       "<!-- X1 -->\n",
       "<g id=\"node4\" class=\"node\">\n",
       "<title>X1</title>\n",
       "<ellipse fill=\"none\" stroke=\"#000000\" cx=\"99\" cy=\"-90\" rx=\"27\" ry=\"18\"/>\n",
       "<text text-anchor=\"middle\" x=\"99\" y=\"-86.3\" font-family=\"Times,serif\" font-size=\"14.00\" fill=\"#000000\">X1</text>\n",
       "</g>\n",
       "<!-- X1&#45;&gt;X10 -->\n",
       "<g id=\"edge1\" class=\"edge\">\n",
       "<title>X1&#45;&gt;X10</title>\n",
       "<path fill=\"none\" stroke=\"#000000\" d=\"M99,-71.8314C99,-64.131 99,-54.9743 99,-46.4166\"/>\n",
       "<polygon fill=\"#000000\" stroke=\"#000000\" points=\"102.5001,-46.4132 99,-36.4133 95.5001,-46.4133 102.5001,-46.4132\"/>\n",
       "</g>\n",
       "</g>\n",
       "</svg>\n"
      ],
      "text/plain": [
       "<graphviz.dot.Digraph at 0x7f7113168f50>"
      ]
     },
     "execution_count": 75,
     "metadata": {},
     "output_type": "execute_result"
    }
   ],
   "source": [
    "results[0].causal_graph.draw()"
   ]
  },
  {
   "cell_type": "markdown",
   "metadata": {},
   "source": [
    "- Next examine the results from the PC algorithm and features selected by the random forest classifier."
   ]
  },
  {
   "cell_type": "code",
   "execution_count": 73,
   "metadata": {},
   "outputs": [
    {
     "data": {
      "text/plain": [
       "['X1', 'X9', 'X6', 'X10', 'X4', 'X8', 'X3']"
      ]
     },
     "execution_count": 73,
     "metadata": {},
     "output_type": "execute_result"
    }
   ],
   "source": [
    "results[0].feature_list"
   ]
  },
  {
   "cell_type": "code",
   "execution_count": 69,
   "metadata": {},
   "outputs": [
    {
     "data": {
      "image/svg+xml": [
       "<?xml version=\"1.0\" encoding=\"UTF-8\" standalone=\"no\"?>\n",
       "<!DOCTYPE svg PUBLIC \"-//W3C//DTD SVG 1.1//EN\"\n",
       " \"http://www.w3.org/Graphics/SVG/1.1/DTD/svg11.dtd\">\n",
       "<!-- Generated by graphviz version 2.40.1 (20161225.0304)\n",
       " -->\n",
       "<!-- Title: %3 Pages: 1 -->\n",
       "<svg width=\"172pt\" height=\"188pt\"\n",
       " viewBox=\"0.00 0.00 172.00 188.00\" xmlns=\"http://www.w3.org/2000/svg\" xmlns:xlink=\"http://www.w3.org/1999/xlink\">\n",
       "<g id=\"graph0\" class=\"graph\" transform=\"scale(1 1) rotate(0) translate(4 184)\">\n",
       "<title>%3</title>\n",
       "<polygon fill=\"#ffffff\" stroke=\"transparent\" points=\"-4,4 -4,-184 168,-184 168,4 -4,4\"/>\n",
       "<!-- X4 -->\n",
       "<g id=\"node1\" class=\"node\">\n",
       "<title>X4</title>\n",
       "<ellipse fill=\"none\" stroke=\"#000000\" cx=\"27\" cy=\"-90\" rx=\"27\" ry=\"18\"/>\n",
       "<text text-anchor=\"middle\" x=\"27\" y=\"-86.3\" font-family=\"Times,serif\" font-size=\"14.00\" fill=\"#000000\">X4</text>\n",
       "</g>\n",
       "<!-- X8 -->\n",
       "<g id=\"node3\" class=\"node\">\n",
       "<title>X8</title>\n",
       "<ellipse fill=\"none\" stroke=\"#000000\" cx=\"82\" cy=\"-18\" rx=\"27\" ry=\"18\"/>\n",
       "<text text-anchor=\"middle\" x=\"82\" y=\"-14.3\" font-family=\"Times,serif\" font-size=\"14.00\" fill=\"#000000\">X8</text>\n",
       "</g>\n",
       "<!-- X4&#45;&gt;X8 -->\n",
       "<g id=\"edge3\" class=\"edge\">\n",
       "<title>X4&#45;&gt;X8</title>\n",
       "<path fill=\"none\" stroke=\"#000000\" d=\"M39.4804,-73.6621C46.5124,-64.4564 55.4347,-52.7764 63.2883,-42.4953\"/>\n",
       "<polygon fill=\"#000000\" stroke=\"#000000\" points=\"66.28,-44.3446 69.569,-34.2733 60.7172,-40.0953 66.28,-44.3446\"/>\n",
       "</g>\n",
       "<!-- X2 -->\n",
       "<g id=\"node2\" class=\"node\">\n",
       "<title>X2</title>\n",
       "<ellipse fill=\"none\" stroke=\"#000000\" cx=\"54\" cy=\"-162\" rx=\"27\" ry=\"18\"/>\n",
       "<text text-anchor=\"middle\" x=\"54\" y=\"-158.3\" font-family=\"Times,serif\" font-size=\"14.00\" fill=\"#000000\">X2</text>\n",
       "</g>\n",
       "<!-- X2&#45;&gt;X4 -->\n",
       "<g id=\"edge1\" class=\"edge\">\n",
       "<title>X2&#45;&gt;X4</title>\n",
       "<path fill=\"none\" stroke=\"#000000\" d=\"M47.3258,-144.2022C44.2524,-136.0064 40.5384,-126.1024 37.1305,-117.0145\"/>\n",
       "<polygon fill=\"#000000\" stroke=\"#000000\" points=\"40.3858,-115.7274 33.5974,-107.593 33.8315,-118.1853 40.3858,-115.7274\"/>\n",
       "</g>\n",
       "<!-- X2&#45;&gt;X8 -->\n",
       "<g id=\"edge2\" class=\"edge\">\n",
       "<title>X2&#45;&gt;X8</title>\n",
       "<path fill=\"none\" stroke=\"#000000\" d=\"M57.4896,-144.0535C62.2683,-119.4774 70.8971,-75.1008 76.5366,-46.0974\"/>\n",
       "<polygon fill=\"#000000\" stroke=\"#000000\" points=\"79.9933,-46.6569 78.4664,-36.1727 73.122,-45.3208 79.9933,-46.6569\"/>\n",
       "</g>\n",
       "<!-- X5 -->\n",
       "<g id=\"node4\" class=\"node\">\n",
       "<title>X5</title>\n",
       "<ellipse fill=\"none\" stroke=\"#000000\" cx=\"137\" cy=\"-90\" rx=\"27\" ry=\"18\"/>\n",
       "<text text-anchor=\"middle\" x=\"137\" y=\"-86.3\" font-family=\"Times,serif\" font-size=\"14.00\" fill=\"#000000\">X5</text>\n",
       "</g>\n",
       "<!-- X5&#45;&gt;X8 -->\n",
       "<g id=\"edge4\" class=\"edge\">\n",
       "<title>X5&#45;&gt;X8</title>\n",
       "<path fill=\"none\" stroke=\"#000000\" d=\"M124.5196,-73.6621C117.4876,-64.4564 108.5653,-52.7764 100.7117,-42.4953\"/>\n",
       "<polygon fill=\"#000000\" stroke=\"#000000\" points=\"103.2828,-40.0953 94.431,-34.2733 97.72,-44.3446 103.2828,-40.0953\"/>\n",
       "</g>\n",
       "</g>\n",
       "</svg>\n"
      ],
      "text/plain": [
       "<graphviz.dot.Digraph at 0x7f71134db390>"
      ]
     },
     "execution_count": 69,
     "metadata": {},
     "output_type": "execute_result"
    }
   ],
   "source": [
    "results[10].causal_graph.draw()"
   ]
  },
  {
   "cell_type": "code",
   "execution_count": 71,
   "metadata": {},
   "outputs": [
    {
     "data": {
      "text/plain": [
       "['X3', 'X4', 'X5', 'X1', 'X2', 'X8', 'X9']"
      ]
     },
     "execution_count": 71,
     "metadata": {},
     "output_type": "execute_result"
    }
   ],
   "source": [
    "results[10].feature_list"
   ]
  },
  {
   "cell_type": "markdown",
   "metadata": {},
   "source": [
    "- We can view the target causal graph by using some of the causal graph utility methods provided by AitiaExplorer.\n",
    "- As you can see, the results from the PC algorithm and features selected by the random forest classifier are much closer to the target graph."
   ]
  },
  {
   "cell_type": "code",
   "execution_count": 70,
   "metadata": {},
   "outputs": [
    {
     "data": {
      "image/svg+xml": [
       "<?xml version=\"1.0\" encoding=\"UTF-8\" standalone=\"no\"?>\n",
       "<!DOCTYPE svg PUBLIC \"-//W3C//DTD SVG 1.1//EN\"\n",
       " \"http://www.w3.org/Graphics/SVG/1.1/DTD/svg11.dtd\">\n",
       "<!-- Generated by graphviz version 2.40.1 (20161225.0304)\n",
       " -->\n",
       "<!-- Title: %3 Pages: 1 -->\n",
       "<svg width=\"316pt\" height=\"260pt\"\n",
       " viewBox=\"0.00 0.00 316.00 260.00\" xmlns=\"http://www.w3.org/2000/svg\" xmlns:xlink=\"http://www.w3.org/1999/xlink\">\n",
       "<g id=\"graph0\" class=\"graph\" transform=\"scale(1 1) rotate(0) translate(4 256)\">\n",
       "<title>%3</title>\n",
       "<polygon fill=\"#ffffff\" stroke=\"transparent\" points=\"-4,4 -4,-256 312,-256 312,4 -4,4\"/>\n",
       "<!-- X4 -->\n",
       "<g id=\"node1\" class=\"node\">\n",
       "<title>X4</title>\n",
       "<ellipse fill=\"none\" stroke=\"#000000\" cx=\"27\" cy=\"-90\" rx=\"27\" ry=\"18\"/>\n",
       "<text text-anchor=\"middle\" x=\"27\" y=\"-86.3\" font-family=\"Times,serif\" font-size=\"14.00\" fill=\"#000000\">X4</text>\n",
       "</g>\n",
       "<!-- X8 -->\n",
       "<g id=\"node2\" class=\"node\">\n",
       "<title>X8</title>\n",
       "<ellipse fill=\"none\" stroke=\"#000000\" cx=\"154\" cy=\"-18\" rx=\"27\" ry=\"18\"/>\n",
       "<text text-anchor=\"middle\" x=\"154\" y=\"-14.3\" font-family=\"Times,serif\" font-size=\"14.00\" fill=\"#000000\">X8</text>\n",
       "</g>\n",
       "<!-- X4&#45;&gt;X8 -->\n",
       "<g id=\"edge6\" class=\"edge\">\n",
       "<title>X4&#45;&gt;X8</title>\n",
       "<path fill=\"none\" stroke=\"#000000\" d=\"M47.6874,-78.2717C68.5363,-66.4519 100.9107,-48.0979 124.4583,-34.7481\"/>\n",
       "<polygon fill=\"#000000\" stroke=\"#000000\" points=\"126.3484,-37.6999 133.3215,-29.7233 122.896,-31.6104 126.3484,-37.6999\"/>\n",
       "</g>\n",
       "<!-- X7 -->\n",
       "<g id=\"node3\" class=\"node\">\n",
       "<title>X7</title>\n",
       "<ellipse fill=\"none\" stroke=\"#000000\" cx=\"99\" cy=\"-90\" rx=\"27\" ry=\"18\"/>\n",
       "<text text-anchor=\"middle\" x=\"99\" y=\"-86.3\" font-family=\"Times,serif\" font-size=\"14.00\" fill=\"#000000\">X7</text>\n",
       "</g>\n",
       "<!-- X1 -->\n",
       "<g id=\"node4\" class=\"node\">\n",
       "<title>X1</title>\n",
       "<ellipse fill=\"none\" stroke=\"#000000\" cx=\"162\" cy=\"-234\" rx=\"27\" ry=\"18\"/>\n",
       "<text text-anchor=\"middle\" x=\"162\" y=\"-230.3\" font-family=\"Times,serif\" font-size=\"14.00\" fill=\"#000000\">X1</text>\n",
       "</g>\n",
       "<!-- X3 -->\n",
       "<g id=\"node5\" class=\"node\">\n",
       "<title>X3</title>\n",
       "<ellipse fill=\"none\" stroke=\"#000000\" cx=\"281\" cy=\"-90\" rx=\"27\" ry=\"18\"/>\n",
       "<text text-anchor=\"middle\" x=\"281\" y=\"-86.3\" font-family=\"Times,serif\" font-size=\"14.00\" fill=\"#000000\">X3</text>\n",
       "</g>\n",
       "<!-- X1&#45;&gt;X3 -->\n",
       "<g id=\"edge1\" class=\"edge\">\n",
       "<title>X1&#45;&gt;X3</title>\n",
       "<path fill=\"none\" stroke=\"#000000\" d=\"M180.7727,-220.7316C194.3347,-210.5667 212.5556,-195.6655 226,-180 242.8334,-160.3857 257.8246,-135.0397 267.8874,-116.2457\"/>\n",
       "<polygon fill=\"#000000\" stroke=\"#000000\" points=\"271.0124,-117.8228 272.5509,-107.3403 264.8112,-114.5754 271.0124,-117.8228\"/>\n",
       "</g>\n",
       "<!-- X10 -->\n",
       "<g id=\"node7\" class=\"node\">\n",
       "<title>X10</title>\n",
       "<ellipse fill=\"none\" stroke=\"#000000\" cx=\"99\" cy=\"-162\" rx=\"27\" ry=\"18\"/>\n",
       "<text text-anchor=\"middle\" x=\"99\" y=\"-158.3\" font-family=\"Times,serif\" font-size=\"14.00\" fill=\"#000000\">X10</text>\n",
       "</g>\n",
       "<!-- X1&#45;&gt;X10 -->\n",
       "<g id=\"edge2\" class=\"edge\">\n",
       "<title>X1&#45;&gt;X10</title>\n",
       "<path fill=\"none\" stroke=\"#000000\" d=\"M148.3299,-218.3771C139.8266,-208.659 128.7387,-195.987 119.2292,-185.1191\"/>\n",
       "<polygon fill=\"#000000\" stroke=\"#000000\" points=\"121.8625,-182.8135 112.6434,-177.5924 116.5944,-187.423 121.8625,-182.8135\"/>\n",
       "</g>\n",
       "<!-- X3&#45;&gt;X8 -->\n",
       "<g id=\"edge3\" class=\"edge\">\n",
       "<title>X3&#45;&gt;X8</title>\n",
       "<path fill=\"none\" stroke=\"#000000\" d=\"M260.3126,-78.2717C239.4637,-66.4519 207.0893,-48.0979 183.5417,-34.7481\"/>\n",
       "<polygon fill=\"#000000\" stroke=\"#000000\" points=\"185.104,-31.6104 174.6785,-29.7233 181.6516,-37.6999 185.104,-31.6104\"/>\n",
       "</g>\n",
       "<!-- X2 -->\n",
       "<g id=\"node6\" class=\"node\">\n",
       "<title>X2</title>\n",
       "<ellipse fill=\"none\" stroke=\"#000000\" cx=\"190\" cy=\"-162\" rx=\"27\" ry=\"18\"/>\n",
       "<text text-anchor=\"middle\" x=\"190\" y=\"-158.3\" font-family=\"Times,serif\" font-size=\"14.00\" fill=\"#000000\">X2</text>\n",
       "</g>\n",
       "<!-- X2&#45;&gt;X8 -->\n",
       "<g id=\"edge10\" class=\"edge\">\n",
       "<title>X2&#45;&gt;X8</title>\n",
       "<path fill=\"none\" stroke=\"#000000\" d=\"M183.894,-144.1267C180.442,-133.6689 176.192,-120.1689 173,-108 167.6061,-87.4364 162.6841,-63.9219 159.2018,-46.0864\"/>\n",
       "<polygon fill=\"#000000\" stroke=\"#000000\" points=\"162.5979,-45.2116 157.2768,-36.0499 155.7232,-46.5303 162.5979,-45.2116\"/>\n",
       "</g>\n",
       "<!-- X2&#45;&gt;X7 -->\n",
       "<g id=\"edge8\" class=\"edge\">\n",
       "<title>X2&#45;&gt;X7</title>\n",
       "<path fill=\"none\" stroke=\"#000000\" d=\"M172.4543,-148.1177C158.8581,-137.3602 139.8247,-122.3009 124.5396,-110.2072\"/>\n",
       "<polygon fill=\"#000000\" stroke=\"#000000\" points=\"126.5058,-107.2998 116.4919,-103.8397 122.1624,-112.7893 126.5058,-107.2998\"/>\n",
       "</g>\n",
       "<!-- X2&#45;&gt;X3 -->\n",
       "<g id=\"edge7\" class=\"edge\">\n",
       "<title>X2&#45;&gt;X3</title>\n",
       "<path fill=\"none\" stroke=\"#000000\" d=\"M207.5457,-148.1177C221.1419,-137.3602 240.1753,-122.3009 255.4604,-110.2072\"/>\n",
       "<polygon fill=\"#000000\" stroke=\"#000000\" points=\"257.8376,-112.7893 263.5081,-103.8397 253.4942,-107.2998 257.8376,-112.7893\"/>\n",
       "</g>\n",
       "<!-- X9 -->\n",
       "<g id=\"node8\" class=\"node\">\n",
       "<title>X9</title>\n",
       "<ellipse fill=\"none\" stroke=\"#000000\" cx=\"209\" cy=\"-90\" rx=\"27\" ry=\"18\"/>\n",
       "<text text-anchor=\"middle\" x=\"209\" y=\"-86.3\" font-family=\"Times,serif\" font-size=\"14.00\" fill=\"#000000\">X9</text>\n",
       "</g>\n",
       "<!-- X2&#45;&gt;X9 -->\n",
       "<g id=\"edge9\" class=\"edge\">\n",
       "<title>X2&#45;&gt;X9</title>\n",
       "<path fill=\"none\" stroke=\"#000000\" d=\"M194.6966,-144.2022C196.7976,-136.2406 199.324,-126.6671 201.665,-117.7957\"/>\n",
       "<polygon fill=\"#000000\" stroke=\"#000000\" points=\"205.1241,-118.4046 204.2916,-107.8425 198.3558,-116.6185 205.1241,-118.4046\"/>\n",
       "</g>\n",
       "<!-- X10&#45;&gt;X4 -->\n",
       "<g id=\"edge4\" class=\"edge\">\n",
       "<title>X10&#45;&gt;X4</title>\n",
       "<path fill=\"none\" stroke=\"#000000\" d=\"M83.7307,-146.7307C73.803,-136.803 60.6847,-123.6847 49.5637,-112.5637\"/>\n",
       "<polygon fill=\"#000000\" stroke=\"#000000\" points=\"51.7933,-109.8436 42.2473,-105.2473 46.8436,-114.7933 51.7933,-109.8436\"/>\n",
       "</g>\n",
       "<!-- X10&#45;&gt;X7 -->\n",
       "<g id=\"edge5\" class=\"edge\">\n",
       "<title>X10&#45;&gt;X7</title>\n",
       "<path fill=\"none\" stroke=\"#000000\" d=\"M99,-143.8314C99,-136.131 99,-126.9743 99,-118.4166\"/>\n",
       "<polygon fill=\"#000000\" stroke=\"#000000\" points=\"102.5001,-118.4132 99,-108.4133 95.5001,-118.4133 102.5001,-118.4132\"/>\n",
       "</g>\n",
       "</g>\n",
       "</svg>\n"
      ],
      "text/plain": [
       "<graphviz.dot.Digraph at 0x7f71600329d0>"
      ]
     },
     "execution_count": 70,
     "metadata": {},
     "output_type": "execute_result"
    }
   ],
   "source": [
    "target_graph = aitia.graph_util.get_causal_graph_from_dot(target_str_dot)\n",
    "target_graph.draw()"
   ]
  },
  {
   "cell_type": "code",
   "execution_count": null,
   "metadata": {},
   "outputs": [],
   "source": []
  }
 ],
 "metadata": {
  "kernelspec": {
   "display_name": "Python 3",
   "language": "python",
   "name": "python3"
  },
  "language_info": {
   "codemirror_mode": {
    "name": "ipython",
    "version": 3
   },
   "file_extension": ".py",
   "mimetype": "text/x-python",
   "name": "python",
   "nbconvert_exporter": "python",
   "pygments_lexer": "ipython3",
   "version": "3.7.7"
  }
 },
 "nbformat": 4,
 "nbformat_minor": 4
}
