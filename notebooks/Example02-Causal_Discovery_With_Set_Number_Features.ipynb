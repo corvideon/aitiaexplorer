{
 "cells": [
  {
   "cell_type": "markdown",
   "metadata": {},
   "source": [
    "# Example 02: Causal discovery with a set number of features\n",
    "\n",
    "-------------------------------------------\n",
    "\n",
    "## Overview\n",
    "\n",
    "\n",
    " - AitiaExplorer allows you select the number of important features that are passed into the causal disovery process.\n",
    " - This can provide quick insights into how the most important features of the data interact causally.\n",
    " - This example gives an overview of selecting only a few features of a dataset for causal analysis."
   ]
  },
  {
   "cell_type": "markdown",
   "metadata": {},
   "source": [
    "### Imports"
   ]
  },
  {
   "cell_type": "code",
   "execution_count": 1,
   "metadata": {},
   "outputs": [],
   "source": [
    "import os\n",
    "import sys\n",
    "import math\n",
    "import networkx as nx\n",
    "from pycausal.pycausal import pycausal\n",
    "import matplotlib.pyplot as plt\n",
    "from IPython.display import display, HTML\n",
    "\n",
    "module_path = os.path.abspath(os.path.join('../src'))\n",
    "if module_path not in sys.path:\n",
    "    sys.path.append(module_path)\n",
    "from aitia_explorer.app import App\n",
    "\n",
    "# stop the warning clutter\n",
    "import warnings\n",
    "warnings.filterwarnings('ignore')"
   ]
  },
  {
   "cell_type": "markdown",
   "metadata": {},
   "source": [
    "### Set up for causal discovery\n",
    "\n",
    "- First create an AitiaExplorer instance and using it to load some simulated data into a pandas dataframe."
   ]
  },
  {
   "cell_type": "code",
   "execution_count": 2,
   "metadata": {},
   "outputs": [],
   "source": [
    "aitia = App()"
   ]
  },
  {
   "cell_type": "code",
   "execution_count": 3,
   "metadata": {},
   "outputs": [],
   "source": [
    "df = aitia.data.simulated_data_1()"
   ]
  },
  {
   "cell_type": "code",
   "execution_count": 4,
   "metadata": {},
   "outputs": [
    {
     "data": {
      "text/html": [
       "<div>\n",
       "<style scoped>\n",
       "    .dataframe tbody tr th:only-of-type {\n",
       "        vertical-align: middle;\n",
       "    }\n",
       "\n",
       "    .dataframe tbody tr th {\n",
       "        vertical-align: top;\n",
       "    }\n",
       "\n",
       "    .dataframe thead th {\n",
       "        text-align: right;\n",
       "    }\n",
       "</style>\n",
       "<table border=\"1\" class=\"dataframe\">\n",
       "  <thead>\n",
       "    <tr style=\"text-align: right;\">\n",
       "      <th></th>\n",
       "      <th>X1</th>\n",
       "      <th>X2</th>\n",
       "      <th>X3</th>\n",
       "      <th>X4</th>\n",
       "      <th>X5</th>\n",
       "      <th>X6</th>\n",
       "      <th>X7</th>\n",
       "      <th>X8</th>\n",
       "      <th>X9</th>\n",
       "      <th>X10</th>\n",
       "    </tr>\n",
       "  </thead>\n",
       "  <tbody>\n",
       "    <tr>\n",
       "      <th>0</th>\n",
       "      <td>1</td>\n",
       "      <td>1</td>\n",
       "      <td>0</td>\n",
       "      <td>0</td>\n",
       "      <td>1</td>\n",
       "      <td>2</td>\n",
       "      <td>0</td>\n",
       "      <td>1</td>\n",
       "      <td>2</td>\n",
       "      <td>1</td>\n",
       "    </tr>\n",
       "    <tr>\n",
       "      <th>1</th>\n",
       "      <td>2</td>\n",
       "      <td>1</td>\n",
       "      <td>0</td>\n",
       "      <td>0</td>\n",
       "      <td>1</td>\n",
       "      <td>1</td>\n",
       "      <td>1</td>\n",
       "      <td>0</td>\n",
       "      <td>1</td>\n",
       "      <td>2</td>\n",
       "    </tr>\n",
       "    <tr>\n",
       "      <th>2</th>\n",
       "      <td>0</td>\n",
       "      <td>2</td>\n",
       "      <td>1</td>\n",
       "      <td>1</td>\n",
       "      <td>1</td>\n",
       "      <td>0</td>\n",
       "      <td>0</td>\n",
       "      <td>2</td>\n",
       "      <td>2</td>\n",
       "      <td>1</td>\n",
       "    </tr>\n",
       "    <tr>\n",
       "      <th>3</th>\n",
       "      <td>0</td>\n",
       "      <td>1</td>\n",
       "      <td>0</td>\n",
       "      <td>0</td>\n",
       "      <td>0</td>\n",
       "      <td>1</td>\n",
       "      <td>2</td>\n",
       "      <td>1</td>\n",
       "      <td>1</td>\n",
       "      <td>1</td>\n",
       "    </tr>\n",
       "    <tr>\n",
       "      <th>4</th>\n",
       "      <td>0</td>\n",
       "      <td>1</td>\n",
       "      <td>0</td>\n",
       "      <td>1</td>\n",
       "      <td>1</td>\n",
       "      <td>1</td>\n",
       "      <td>2</td>\n",
       "      <td>2</td>\n",
       "      <td>2</td>\n",
       "      <td>1</td>\n",
       "    </tr>\n",
       "  </tbody>\n",
       "</table>\n",
       "</div>"
      ],
      "text/plain": [
       "   X1  X2  X3  X4  X5  X6  X7  X8  X9  X10\n",
       "0   1   1   0   0   1   2   0   1   2    1\n",
       "1   2   1   0   0   1   1   1   0   1    2\n",
       "2   0   2   1   1   1   0   0   2   2    1\n",
       "3   0   1   0   0   0   1   2   1   1    1\n",
       "4   0   1   0   1   1   1   2   2   2    1"
      ]
     },
     "execution_count": 4,
     "metadata": {},
     "output_type": "execute_result"
    }
   ],
   "source": [
    "df.head()"
   ]
  },
  {
   "cell_type": "markdown",
   "metadata": {},
   "source": [
    "- This simulated data also has a known causal graph. We will load this as we can use it for testing.\n",
    "- This causal graph is stored as [DOT graph description language](https://en.wikipedia.org/wiki/DOT_%28graph_description_language%29)"
   ]
  },
  {
   "cell_type": "code",
   "execution_count": 5,
   "metadata": {},
   "outputs": [],
   "source": [
    "target_str_dot = aitia.data.simulated_data_1_graph()"
   ]
  },
  {
   "cell_type": "code",
   "execution_count": 60,
   "metadata": {},
   "outputs": [
    {
     "data": {
      "text/plain": [
       "'digraph g {\\n \"X1\" -> \"X3\" [arrowtail=none, arrowhead=normal];\\n \"X10\" -> \"X4\" [dir=both, arrowtail=normal, arrowhead=none];\\n \"X2\" -> \"X7\" [arrowtail=none, arrowhead=normal];\\n \"X2\" -> \"X9\" [arrowtail=none, arrowhead=normal];\\n \"X10\" -> \"X7\" [dir=both, arrowtail=normal, arrowhead=none];\\n \"X2\" -> \"X8\" [arrowtail=none, arrowhead=normal];\\n \"X1\" -> \"X10\" [arrowtail=none, arrowhead=normal];\\n \"X4\" -> \"X8\" [arrowtail=none, arrowhead=normal];\\n \"X3\" -> \"X8\" [arrowtail=none, arrowhead=normal];\\n \"X2\" -> \"X3\" [arrowtail=none, arrowhead=normal];\\n}\\n'"
      ]
     },
     "execution_count": 60,
     "metadata": {},
     "output_type": "execute_result"
    }
   ],
   "source": [
    "target_str_dot"
   ]
  },
  {
   "cell_type": "markdown",
   "metadata": {},
   "source": [
    "- Now we need to select the causal discovery algorithms and feature selection algorithms to use."
   ]
  },
  {
   "cell_type": "code",
   "execution_count": 6,
   "metadata": {},
   "outputs": [],
   "source": [
    "feature_selection_list = []\n",
    "feature_selection_list.append(aitia.feature_selection.LINEAR_REGRESSION)\n",
    "feature_selection_list.append(aitia.feature_selection.PRINCIPAL_FEATURE_ANALYSIS)\n",
    "feature_selection_list.append(aitia.feature_selection.RANDOM_FOREST)\n",
    "feature_selection_list.append(aitia.feature_selection.RECURSIVE_FEATURE_ELIMINATION)\n",
    "feature_selection_list.append(aitia.feature_selection.XGBOOST)"
   ]
  },
  {
   "cell_type": "code",
   "execution_count": 7,
   "metadata": {},
   "outputs": [],
   "source": [
    "algorithm_list = []\n",
    "algorithm_list.append(aitia.algo_runner.PC)\n",
    "algorithm_list.append(aitia.algo_runner.FCI)\n",
    "algorithm_list.append(aitia.algo_runner.FGES_continuous)\n",
    "algorithm_list.append(aitia.algo_runner.GFCI_continuous)\n",
    "algorithm_list.append(aitia.algo_runner.RFCI_continuous)"
   ]
  },
  {
   "cell_type": "markdown",
   "metadata": {},
   "source": [
    "### Run the causal discovery analysis\n",
    "\n",
    "- Now we will run the causal discovery analysis.\n",
    "- First we need to start a background Java VM using py-causal as the algorithms are implemented in Java.\n",
    "- Then we will run the analysis using the `run_analysis` method and AitiaExplorer will return a summary and some useful results.\n",
    "- We will set the number of features arbitrarily at 7."
   ]
  },
  {
   "cell_type": "code",
   "execution_count": 8,
   "metadata": {},
   "outputs": [],
   "source": [
    "pc = pycausal()\n",
    "pc.start_vm()"
   ]
  },
  {
   "cell_type": "code",
   "execution_count": 9,
   "metadata": {},
   "outputs": [
    {
     "name": "stdout",
     "output_type": "stream",
     "text": [
      "Running causal discovery on features selected by LINEAR_REGRESSION\n",
      "There are 0 latent edges in the reduced dataset\n",
      "Running causal discovery using PC\n",
      "Running causal discovery using FCI\n",
      "Running causal discovery using FGES-continuous\n",
      "Running causal discovery using GFCI-continuous\n",
      "Running causal discovery using RFCI-continuous\n",
      "Completed causal discovery on features selected by LINEAR_REGRESSION\n",
      "Running causal discovery on features selected by PRINCIPAL_FEATURE_ANALYSIS\n",
      "There are 0 latent edges in the reduced dataset\n",
      "Running causal discovery using PC\n",
      "Running causal discovery using FCI\n",
      "Running causal discovery using FGES-continuous\n",
      "Running causal discovery using GFCI-continuous\n",
      "Running causal discovery using RFCI-continuous\n",
      "Completed causal discovery on features selected by PRINCIPAL_FEATURE_ANALYSIS\n",
      "Running causal discovery on features selected by RANDOM_FOREST\n",
      "There are 0 latent edges in the reduced dataset\n",
      "Running causal discovery using PC\n",
      "Running causal discovery using FCI\n",
      "Running causal discovery using FGES-continuous\n",
      "Running causal discovery using GFCI-continuous\n",
      "Running causal discovery using RFCI-continuous\n",
      "Completed causal discovery on features selected by RANDOM_FOREST\n",
      "Running causal discovery on features selected by RECURSIVE_FEATURE_ELIMINATION\n",
      "There are 1 latent edges in the reduced dataset\n",
      "Running causal discovery using PC\n",
      "Running causal discovery using FCI\n",
      "Running causal discovery using FGES-continuous\n",
      "Running causal discovery using GFCI-continuous\n",
      "Running causal discovery using RFCI-continuous\n",
      "Completed causal discovery on features selected by RECURSIVE_FEATURE_ELIMINATION\n",
      "Running causal discovery on features selected by XGBOOST\n",
      "There are 0 latent edges in the reduced dataset\n",
      "Running causal discovery using PC\n",
      "Running causal discovery using FCI\n",
      "Running causal discovery using FGES-continuous\n",
      "Running causal discovery using GFCI-continuous\n",
      "Running causal discovery using RFCI-continuous\n",
      "Completed causal discovery on features selected by XGBOOST\n",
      "Completed analysis.\n"
     ]
    }
   ],
   "source": [
    "# pass in the dataframe, the target graph, the number of features, the causal discovery algorithms list to run,\n",
    "# the feature selections algorithms to run and the py-causal object...\n",
    "# we will ignore the returned target graph as we already have it...\n",
    "results, summary, _ = aitia.run_analysis( df,\n",
    "                                       target_graph_str=target_str_dot,\n",
    "                                       n_features=7,\n",
    "                                       feature_selection_list=feature_selection_list,\n",
    "                                       algorithm_list=algorithm_list,\n",
    "                                       pc=pc)"
   ]
  },
  {
   "cell_type": "markdown",
   "metadata": {},
   "source": [
    "### Display the results\n",
    "\n",
    "- The results can then be examined using the summary which is just a returned dataframe.\n",
    "- The AUPRC is a measure of the Area Under the Precision Recall curve, a useful performance metric.\n",
    "- The Structural Hamming Distance (SHD) measures how close the graph returned by the causal algorithm was to the target graph."
   ]
  },
  {
   "cell_type": "code",
   "execution_count": 10,
   "metadata": {},
   "outputs": [
    {
     "data": {
      "text/html": [
       "<table border=\"1\" class=\"dataframe\">\n",
       "  <thead>\n",
       "    <tr style=\"text-align: right;\">\n",
       "      <th></th>\n",
       "      <th>No. of Features Req.</th>\n",
       "      <th>Causal Algorithm</th>\n",
       "      <th>Feature Selection Method</th>\n",
       "      <th>AUPRC</th>\n",
       "      <th>SHD</th>\n",
       "    </tr>\n",
       "  </thead>\n",
       "  <tbody>\n",
       "    <tr>\n",
       "      <th>0</th>\n",
       "      <td>7</td>\n",
       "      <td>PC</td>\n",
       "      <td>LINEAR_REGRESSION</td>\n",
       "      <td>0.662500</td>\n",
       "      <td>8</td>\n",
       "    </tr>\n",
       "    <tr>\n",
       "      <th>1</th>\n",
       "      <td>7</td>\n",
       "      <td>FCI</td>\n",
       "      <td>LINEAR_REGRESSION</td>\n",
       "      <td>0.662500</td>\n",
       "      <td>8</td>\n",
       "    </tr>\n",
       "    <tr>\n",
       "      <th>2</th>\n",
       "      <td>7</td>\n",
       "      <td>FGES-continuous</td>\n",
       "      <td>LINEAR_REGRESSION</td>\n",
       "      <td>0.662500</td>\n",
       "      <td>8</td>\n",
       "    </tr>\n",
       "    <tr>\n",
       "      <th>3</th>\n",
       "      <td>7</td>\n",
       "      <td>GFCI-continuous</td>\n",
       "      <td>LINEAR_REGRESSION</td>\n",
       "      <td>0.662500</td>\n",
       "      <td>8</td>\n",
       "    </tr>\n",
       "    <tr>\n",
       "      <th>4</th>\n",
       "      <td>7</td>\n",
       "      <td>RFCI-continuous</td>\n",
       "      <td>LINEAR_REGRESSION</td>\n",
       "      <td>0.662500</td>\n",
       "      <td>8</td>\n",
       "    </tr>\n",
       "    <tr>\n",
       "      <th>5</th>\n",
       "      <td>7</td>\n",
       "      <td>PC</td>\n",
       "      <td>PRINCIPAL_FEATURE_ANALYSIS</td>\n",
       "      <td>0.370313</td>\n",
       "      <td>10</td>\n",
       "    </tr>\n",
       "    <tr>\n",
       "      <th>6</th>\n",
       "      <td>7</td>\n",
       "      <td>FCI</td>\n",
       "      <td>PRINCIPAL_FEATURE_ANALYSIS</td>\n",
       "      <td>0.370313</td>\n",
       "      <td>10</td>\n",
       "    </tr>\n",
       "    <tr>\n",
       "      <th>7</th>\n",
       "      <td>7</td>\n",
       "      <td>FGES-continuous</td>\n",
       "      <td>PRINCIPAL_FEATURE_ANALYSIS</td>\n",
       "      <td>0.370313</td>\n",
       "      <td>10</td>\n",
       "    </tr>\n",
       "    <tr>\n",
       "      <th>8</th>\n",
       "      <td>7</td>\n",
       "      <td>GFCI-continuous</td>\n",
       "      <td>PRINCIPAL_FEATURE_ANALYSIS</td>\n",
       "      <td>0.370313</td>\n",
       "      <td>10</td>\n",
       "    </tr>\n",
       "    <tr>\n",
       "      <th>9</th>\n",
       "      <td>7</td>\n",
       "      <td>RFCI-continuous</td>\n",
       "      <td>PRINCIPAL_FEATURE_ANALYSIS</td>\n",
       "      <td>0.370313</td>\n",
       "      <td>10</td>\n",
       "    </tr>\n",
       "    <tr>\n",
       "      <th>10</th>\n",
       "      <td>7</td>\n",
       "      <td>PC</td>\n",
       "      <td>RANDOM_FOREST</td>\n",
       "      <td>0.495833</td>\n",
       "      <td>9</td>\n",
       "    </tr>\n",
       "    <tr>\n",
       "      <th>11</th>\n",
       "      <td>7</td>\n",
       "      <td>FCI</td>\n",
       "      <td>RANDOM_FOREST</td>\n",
       "      <td>0.370313</td>\n",
       "      <td>10</td>\n",
       "    </tr>\n",
       "    <tr>\n",
       "      <th>12</th>\n",
       "      <td>7</td>\n",
       "      <td>FGES-continuous</td>\n",
       "      <td>RANDOM_FOREST</td>\n",
       "      <td>0.370313</td>\n",
       "      <td>10</td>\n",
       "    </tr>\n",
       "    <tr>\n",
       "      <th>13</th>\n",
       "      <td>7</td>\n",
       "      <td>GFCI-continuous</td>\n",
       "      <td>RANDOM_FOREST</td>\n",
       "      <td>0.370313</td>\n",
       "      <td>10</td>\n",
       "    </tr>\n",
       "    <tr>\n",
       "      <th>14</th>\n",
       "      <td>7</td>\n",
       "      <td>RFCI-continuous</td>\n",
       "      <td>RANDOM_FOREST</td>\n",
       "      <td>0.370313</td>\n",
       "      <td>10</td>\n",
       "    </tr>\n",
       "    <tr>\n",
       "      <th>15</th>\n",
       "      <td>7</td>\n",
       "      <td>PC</td>\n",
       "      <td>RECURSIVE_FEATURE_ELIMINATION</td>\n",
       "      <td>0.286979</td>\n",
       "      <td>11</td>\n",
       "    </tr>\n",
       "    <tr>\n",
       "      <th>16</th>\n",
       "      <td>7</td>\n",
       "      <td>FCI</td>\n",
       "      <td>RECURSIVE_FEATURE_ELIMINATION</td>\n",
       "      <td>0.078125</td>\n",
       "      <td>12</td>\n",
       "    </tr>\n",
       "    <tr>\n",
       "      <th>17</th>\n",
       "      <td>7</td>\n",
       "      <td>FGES-continuous</td>\n",
       "      <td>RECURSIVE_FEATURE_ELIMINATION</td>\n",
       "      <td>0.078125</td>\n",
       "      <td>12</td>\n",
       "    </tr>\n",
       "    <tr>\n",
       "      <th>18</th>\n",
       "      <td>7</td>\n",
       "      <td>GFCI-continuous</td>\n",
       "      <td>RECURSIVE_FEATURE_ELIMINATION</td>\n",
       "      <td>0.078125</td>\n",
       "      <td>12</td>\n",
       "    </tr>\n",
       "    <tr>\n",
       "      <th>19</th>\n",
       "      <td>7</td>\n",
       "      <td>RFCI-continuous</td>\n",
       "      <td>RECURSIVE_FEATURE_ELIMINATION</td>\n",
       "      <td>0.078125</td>\n",
       "      <td>12</td>\n",
       "    </tr>\n",
       "    <tr>\n",
       "      <th>20</th>\n",
       "      <td>7</td>\n",
       "      <td>PC</td>\n",
       "      <td>XGBOOST</td>\n",
       "      <td>0.286979</td>\n",
       "      <td>11</td>\n",
       "    </tr>\n",
       "    <tr>\n",
       "      <th>21</th>\n",
       "      <td>7</td>\n",
       "      <td>FCI</td>\n",
       "      <td>XGBOOST</td>\n",
       "      <td>0.286979</td>\n",
       "      <td>11</td>\n",
       "    </tr>\n",
       "    <tr>\n",
       "      <th>22</th>\n",
       "      <td>7</td>\n",
       "      <td>FGES-continuous</td>\n",
       "      <td>XGBOOST</td>\n",
       "      <td>0.286979</td>\n",
       "      <td>11</td>\n",
       "    </tr>\n",
       "    <tr>\n",
       "      <th>23</th>\n",
       "      <td>7</td>\n",
       "      <td>GFCI-continuous</td>\n",
       "      <td>XGBOOST</td>\n",
       "      <td>0.286979</td>\n",
       "      <td>11</td>\n",
       "    </tr>\n",
       "    <tr>\n",
       "      <th>24</th>\n",
       "      <td>7</td>\n",
       "      <td>RFCI-continuous</td>\n",
       "      <td>XGBOOST</td>\n",
       "      <td>0.286979</td>\n",
       "      <td>11</td>\n",
       "    </tr>\n",
       "  </tbody>\n",
       "</table>"
      ],
      "text/plain": [
       "<IPython.core.display.HTML object>"
      ]
     },
     "metadata": {},
     "output_type": "display_data"
    }
   ],
   "source": [
    "display(HTML(summary.to_html()))"
   ]
  },
  {
   "cell_type": "markdown",
   "metadata": {},
   "source": [
    "- We can now graph the results of the run using the summary (which is just a pandas dataframe).\n",
    "- The best results should have a lower SHD and a higher AUPRC."
   ]
  },
  {
   "cell_type": "code",
   "execution_count": 34,
   "metadata": {},
   "outputs": [
    {
     "data": {
      "image/png": "[encoded data removed]",
      "text/plain": [
       "<Figure size 576x576 with 1 Axes>"
      ]
     },
     "metadata": {
      "needs_background": "light"
     },
     "output_type": "display_data"
    }
   ],
   "source": [
    "plt.rcParams[\"figure.figsize\"] = (8, 8)\n",
    "\n",
    "plt.plot(summary.index, summary['SHD'], label='SHD')\n",
    "plt.plot(summary.index, summary['AUPRC'], label='AUPRC')\n",
    "plt.title('Structural Hamming Distance / AUPRC')\n",
    "plt.xlabel('Run Number')\n",
    "plt.ylabel('Value')\n",
    "plt.legend()\n",
    "plt.show()"
   ]
  },
  {
   "cell_type": "markdown",
   "metadata": {},
   "source": [
    "- We can see that the best returns were from earlier in the run using the features returned from linear regression.\n",
    "- The PC algorithm in conjunction with the features returned from the random forest classifier are also better than most."
   ]
  },
  {
   "cell_type": "markdown",
   "metadata": {},
   "source": [
    "----------------------"
   ]
  },
  {
   "cell_type": "markdown",
   "metadata": {},
   "source": [
    "- We can view the causal graph that was returned by examining the AnalysisResults object that was returned and compare the two causal graphs / feature lists that were returned by the PC algorithm.\n",
    "- First examine the results from the PC algorithm and features selected by linear regression."
   ]
  },
  {
   "cell_type": "code",
   "execution_count": 12,
   "metadata": {},
   "outputs": [
    {
     "data": {
      "image/svg+xml": [
       "<?xml version=\"1.0\" encoding=\"UTF-8\" standalone=\"no\"?>\n",
       "<!DOCTYPE svg PUBLIC \"-//W3C//DTD SVG 1.1//EN\"\n",
       " \"http://www.w3.org/Graphics/SVG/1.1/DTD/svg11.dtd\">\n",
       "<!-- Generated by graphviz version 2.40.1 (20161225.0304)\n",
       " -->\n",
       "<!-- Title: %3 Pages: 1 -->\n",
       "<svg width=\"134pt\" height=\"116pt\"\n",
       " viewBox=\"0.00 0.00 134.00 116.00\" xmlns=\"http://www.w3.org/2000/svg\" xmlns:xlink=\"http://www.w3.org/1999/xlink\">\n",
       "<g id=\"graph0\" class=\"graph\" transform=\"scale(1 1) rotate(0) translate(4 112)\">\n",
       "<title>%3</title>\n",
       "<polygon fill=\"#ffffff\" stroke=\"transparent\" points=\"-4,4 -4,-112 130,-112 130,4 -4,4\"/>\n",
       "<!-- X8 -->\n",
       "<g id=\"node1\" class=\"node\">\n",
       "<title>X8</title>\n",
       "<ellipse fill=\"none\" stroke=\"#000000\" cx=\"27\" cy=\"-18\" rx=\"27\" ry=\"18\"/>\n",
       "<text text-anchor=\"middle\" x=\"27\" y=\"-14.3\" font-family=\"Times,serif\" font-size=\"14.00\" fill=\"#000000\">X8</text>\n",
       "</g>\n",
       "<!-- X10 -->\n",
       "<g id=\"node2\" class=\"node\">\n",
       "<title>X10</title>\n",
       "<ellipse fill=\"none\" stroke=\"#000000\" cx=\"99\" cy=\"-18\" rx=\"27\" ry=\"18\"/>\n",
       "<text text-anchor=\"middle\" x=\"99\" y=\"-14.3\" font-family=\"Times,serif\" font-size=\"14.00\" fill=\"#000000\">X10</text>\n",
       "</g>\n",
       "<!-- X4 -->\n",
       "<g id=\"node3\" class=\"node\">\n",
       "<title>X4</title>\n",
       "<ellipse fill=\"none\" stroke=\"#000000\" cx=\"27\" cy=\"-90\" rx=\"27\" ry=\"18\"/>\n",
       "<text text-anchor=\"middle\" x=\"27\" y=\"-86.3\" font-family=\"Times,serif\" font-size=\"14.00\" fill=\"#000000\">X4</text>\n",
       "</g>\n",
       "<!-- X4&#45;&gt;X8 -->\n",
       "<g id=\"edge2\" class=\"edge\">\n",
       "<title>X4&#45;&gt;X8</title>\n",
       "<path fill=\"none\" stroke=\"#000000\" d=\"M27,-71.8314C27,-64.131 27,-54.9743 27,-46.4166\"/>\n",
       "<polygon fill=\"#000000\" stroke=\"#000000\" points=\"30.5001,-46.4132 27,-36.4133 23.5001,-46.4133 30.5001,-46.4132\"/>\n",
       "</g>\n",
       "<!-- X1 -->\n",
       "<g id=\"node4\" class=\"node\">\n",
       "<title>X1</title>\n",
       "<ellipse fill=\"none\" stroke=\"#000000\" cx=\"99\" cy=\"-90\" rx=\"27\" ry=\"18\"/>\n",
       "<text text-anchor=\"middle\" x=\"99\" y=\"-86.3\" font-family=\"Times,serif\" font-size=\"14.00\" fill=\"#000000\">X1</text>\n",
       "</g>\n",
       "<!-- X1&#45;&gt;X10 -->\n",
       "<g id=\"edge1\" class=\"edge\">\n",
       "<title>X1&#45;&gt;X10</title>\n",
       "<path fill=\"none\" stroke=\"#000000\" d=\"M99,-71.8314C99,-64.131 99,-54.9743 99,-46.4166\"/>\n",
       "<polygon fill=\"#000000\" stroke=\"#000000\" points=\"102.5001,-46.4132 99,-36.4133 95.5001,-46.4133 102.5001,-46.4132\"/>\n",
       "</g>\n",
       "</g>\n",
       "</svg>\n"
      ],
      "text/plain": [
       "<graphviz.dot.Digraph at 0x7fcaa4497fd0>"
      ]
     },
     "execution_count": 12,
     "metadata": {},
     "output_type": "execute_result"
    }
   ],
   "source": [
    "results[0].causal_graph.draw()"
   ]
  },
  {
   "cell_type": "markdown",
   "metadata": {},
   "source": [
    "- Next examine the results from the PC algorithm and features selected by the random forest classifier."
   ]
  },
  {
   "cell_type": "code",
   "execution_count": 13,
   "metadata": {},
   "outputs": [
    {
     "data": {
      "text/plain": [
       "['X1', 'X9', 'X6', 'X10', 'X4', 'X8', 'X3']"
      ]
     },
     "execution_count": 13,
     "metadata": {},
     "output_type": "execute_result"
    }
   ],
   "source": [
    "results[0].feature_list"
   ]
  },
  {
   "cell_type": "code",
   "execution_count": 16,
   "metadata": {},
   "outputs": [
    {
     "data": {
      "image/svg+xml": [
       "<?xml version=\"1.0\" encoding=\"UTF-8\" standalone=\"no\"?>\n",
       "<!DOCTYPE svg PUBLIC \"-//W3C//DTD SVG 1.1//EN\"\n",
       " \"http://www.w3.org/Graphics/SVG/1.1/DTD/svg11.dtd\">\n",
       "<!-- Generated by graphviz version 2.40.1 (20161225.0304)\n",
       " -->\n",
       "<!-- Title: %3 Pages: 1 -->\n",
       "<svg width=\"162pt\" height=\"188pt\"\n",
       " viewBox=\"0.00 0.00 162.00 188.00\" xmlns=\"http://www.w3.org/2000/svg\" xmlns:xlink=\"http://www.w3.org/1999/xlink\">\n",
       "<g id=\"graph0\" class=\"graph\" transform=\"scale(1 1) rotate(0) translate(4 184)\">\n",
       "<title>%3</title>\n",
       "<polygon fill=\"#ffffff\" stroke=\"transparent\" points=\"-4,4 -4,-184 158,-184 158,4 -4,4\"/>\n",
       "<!-- X8 -->\n",
       "<g id=\"node1\" class=\"node\">\n",
       "<title>X8</title>\n",
       "<ellipse fill=\"none\" stroke=\"#000000\" cx=\"55\" cy=\"-18\" rx=\"27\" ry=\"18\"/>\n",
       "<text text-anchor=\"middle\" x=\"55\" y=\"-14.3\" font-family=\"Times,serif\" font-size=\"14.00\" fill=\"#000000\">X8</text>\n",
       "</g>\n",
       "<!-- X2 -->\n",
       "<g id=\"node2\" class=\"node\">\n",
       "<title>X2</title>\n",
       "<ellipse fill=\"none\" stroke=\"#000000\" cx=\"27\" cy=\"-162\" rx=\"27\" ry=\"18\"/>\n",
       "<text text-anchor=\"middle\" x=\"27\" y=\"-158.3\" font-family=\"Times,serif\" font-size=\"14.00\" fill=\"#000000\">X2</text>\n",
       "</g>\n",
       "<!-- X2&#45;&gt;X8 -->\n",
       "<g id=\"edge2\" class=\"edge\">\n",
       "<title>X2&#45;&gt;X8</title>\n",
       "<path fill=\"none\" stroke=\"#000000\" d=\"M21.5776,-144.3457C16.7956,-125.9021 11.6359,-96.3219 19,-72 22.2661,-61.2127 28.4764,-50.6108 34.8313,-41.6963\"/>\n",
       "<polygon fill=\"#000000\" stroke=\"#000000\" points=\"37.6285,-43.8001 40.8771,-33.7156 32.0487,-39.5732 37.6285,-43.8001\"/>\n",
       "</g>\n",
       "<!-- X4 -->\n",
       "<g id=\"node4\" class=\"node\">\n",
       "<title>X4</title>\n",
       "<ellipse fill=\"none\" stroke=\"#000000\" cx=\"55\" cy=\"-90\" rx=\"27\" ry=\"18\"/>\n",
       "<text text-anchor=\"middle\" x=\"55\" y=\"-86.3\" font-family=\"Times,serif\" font-size=\"14.00\" fill=\"#000000\">X4</text>\n",
       "</g>\n",
       "<!-- X2&#45;&gt;X4 -->\n",
       "<g id=\"edge1\" class=\"edge\">\n",
       "<title>X2&#45;&gt;X4</title>\n",
       "<path fill=\"none\" stroke=\"#000000\" d=\"M33.778,-144.5708C36.9872,-136.3187 40.8935,-126.2738 44.4758,-117.0623\"/>\n",
       "<polygon fill=\"#000000\" stroke=\"#000000\" points=\"47.8248,-118.1069 48.1874,-107.5182 41.3008,-115.5697 47.8248,-118.1069\"/>\n",
       "</g>\n",
       "<!-- X5 -->\n",
       "<g id=\"node3\" class=\"node\">\n",
       "<title>X5</title>\n",
       "<ellipse fill=\"none\" stroke=\"#000000\" cx=\"127\" cy=\"-90\" rx=\"27\" ry=\"18\"/>\n",
       "<text text-anchor=\"middle\" x=\"127\" y=\"-86.3\" font-family=\"Times,serif\" font-size=\"14.00\" fill=\"#000000\">X5</text>\n",
       "</g>\n",
       "<!-- X5&#45;&gt;X8 -->\n",
       "<g id=\"edge4\" class=\"edge\">\n",
       "<title>X5&#45;&gt;X8</title>\n",
       "<path fill=\"none\" stroke=\"#000000\" d=\"M111.7307,-74.7307C101.803,-64.803 88.6847,-51.6847 77.5637,-40.5637\"/>\n",
       "<polygon fill=\"#000000\" stroke=\"#000000\" points=\"79.7933,-37.8436 70.2473,-33.2473 74.8436,-42.7933 79.7933,-37.8436\"/>\n",
       "</g>\n",
       "<!-- X4&#45;&gt;X8 -->\n",
       "<g id=\"edge3\" class=\"edge\">\n",
       "<title>X4&#45;&gt;X8</title>\n",
       "<path fill=\"none\" stroke=\"#000000\" d=\"M55,-71.8314C55,-64.131 55,-54.9743 55,-46.4166\"/>\n",
       "<polygon fill=\"#000000\" stroke=\"#000000\" points=\"58.5001,-46.4132 55,-36.4133 51.5001,-46.4133 58.5001,-46.4132\"/>\n",
       "</g>\n",
       "</g>\n",
       "</svg>\n"
      ],
      "text/plain": [
       "<graphviz.dot.Digraph at 0x7fcaec014350>"
      ]
     },
     "execution_count": 16,
     "metadata": {},
     "output_type": "execute_result"
    }
   ],
   "source": [
    "results[10].causal_graph.draw()"
   ]
  },
  {
   "cell_type": "code",
   "execution_count": 14,
   "metadata": {},
   "outputs": [
    {
     "data": {
      "text/plain": [
       "['X3', 'X4', 'X5', 'X1', 'X2', 'X8', 'X9']"
      ]
     },
     "execution_count": 14,
     "metadata": {},
     "output_type": "execute_result"
    }
   ],
   "source": [
    "results[10].feature_list"
   ]
  },
  {
   "cell_type": "markdown",
   "metadata": {},
   "source": [
    "- We can view the target causal graph by using some of the causal graph utility methods provided by AitiaExplorer.\n",
    "- As you can see, the results from the PC algorithm and features selected by the random forest classifier are much closer to the target graph."
   ]
  },
  {
   "cell_type": "code",
   "execution_count": 15,
   "metadata": {},
   "outputs": [
    {
     "data": {
      "image/svg+xml": [
       "<?xml version=\"1.0\" encoding=\"UTF-8\" standalone=\"no\"?>\n",
       "<!DOCTYPE svg PUBLIC \"-//W3C//DTD SVG 1.1//EN\"\n",
       " \"http://www.w3.org/Graphics/SVG/1.1/DTD/svg11.dtd\">\n",
       "<!-- Generated by graphviz version 2.40.1 (20161225.0304)\n",
       " -->\n",
       "<!-- Title: %3 Pages: 1 -->\n",
       "<svg width=\"316pt\" height=\"260pt\"\n",
       " viewBox=\"0.00 0.00 316.00 260.00\" xmlns=\"http://www.w3.org/2000/svg\" xmlns:xlink=\"http://www.w3.org/1999/xlink\">\n",
       "<g id=\"graph0\" class=\"graph\" transform=\"scale(1 1) rotate(0) translate(4 256)\">\n",
       "<title>%3</title>\n",
       "<polygon fill=\"#ffffff\" stroke=\"transparent\" points=\"-4,4 -4,-256 312,-256 312,4 -4,4\"/>\n",
       "<!-- X4 -->\n",
       "<g id=\"node1\" class=\"node\">\n",
       "<title>X4</title>\n",
       "<ellipse fill=\"none\" stroke=\"#000000\" cx=\"281\" cy=\"-90\" rx=\"27\" ry=\"18\"/>\n",
       "<text text-anchor=\"middle\" x=\"281\" y=\"-86.3\" font-family=\"Times,serif\" font-size=\"14.00\" fill=\"#000000\">X4</text>\n",
       "</g>\n",
       "<!-- X8 -->\n",
       "<g id=\"node3\" class=\"node\">\n",
       "<title>X8</title>\n",
       "<ellipse fill=\"none\" stroke=\"#000000\" cx=\"82\" cy=\"-18\" rx=\"27\" ry=\"18\"/>\n",
       "<text text-anchor=\"middle\" x=\"82\" y=\"-14.3\" font-family=\"Times,serif\" font-size=\"14.00\" fill=\"#000000\">X8</text>\n",
       "</g>\n",
       "<!-- X4&#45;&gt;X8 -->\n",
       "<g id=\"edge6\" class=\"edge\">\n",
       "<title>X4&#45;&gt;X8</title>\n",
       "<path fill=\"none\" stroke=\"#000000\" d=\"M259.5317,-78.6364C254.8034,-76.3114 249.7791,-73.9744 245,-72 201.6782,-54.1022 150.0829,-37.8191 116.7198,-27.919\"/>\n",
       "<polygon fill=\"#000000\" stroke=\"#000000\" points=\"117.5616,-24.5184 106.9804,-25.0567 115.5878,-31.2344 117.5616,-24.5184\"/>\n",
       "</g>\n",
       "<!-- X10 -->\n",
       "<g id=\"node2\" class=\"node\">\n",
       "<title>X10</title>\n",
       "<ellipse fill=\"none\" stroke=\"#000000\" cx=\"209\" cy=\"-162\" rx=\"27\" ry=\"18\"/>\n",
       "<text text-anchor=\"middle\" x=\"209\" y=\"-158.3\" font-family=\"Times,serif\" font-size=\"14.00\" fill=\"#000000\">X10</text>\n",
       "</g>\n",
       "<!-- X10&#45;&gt;X4 -->\n",
       "<g id=\"edge4\" class=\"edge\">\n",
       "<title>X10&#45;&gt;X4</title>\n",
       "<path fill=\"none\" stroke=\"#000000\" d=\"M224.2693,-146.7307C234.197,-136.803 247.3153,-123.6847 258.4363,-112.5637\"/>\n",
       "<polygon fill=\"#000000\" stroke=\"#000000\" points=\"261.1564,-114.7933 265.7527,-105.2473 256.2067,-109.8436 261.1564,-114.7933\"/>\n",
       "</g>\n",
       "<!-- X7 -->\n",
       "<g id=\"node6\" class=\"node\">\n",
       "<title>X7</title>\n",
       "<ellipse fill=\"none\" stroke=\"#000000\" cx=\"209\" cy=\"-90\" rx=\"27\" ry=\"18\"/>\n",
       "<text text-anchor=\"middle\" x=\"209\" y=\"-86.3\" font-family=\"Times,serif\" font-size=\"14.00\" fill=\"#000000\">X7</text>\n",
       "</g>\n",
       "<!-- X10&#45;&gt;X7 -->\n",
       "<g id=\"edge5\" class=\"edge\">\n",
       "<title>X10&#45;&gt;X7</title>\n",
       "<path fill=\"none\" stroke=\"#000000\" d=\"M209,-143.8314C209,-136.131 209,-126.9743 209,-118.4166\"/>\n",
       "<polygon fill=\"#000000\" stroke=\"#000000\" points=\"212.5001,-118.4132 209,-108.4133 205.5001,-118.4133 212.5001,-118.4132\"/>\n",
       "</g>\n",
       "<!-- X3 -->\n",
       "<g id=\"node4\" class=\"node\">\n",
       "<title>X3</title>\n",
       "<ellipse fill=\"none\" stroke=\"#000000\" cx=\"27\" cy=\"-90\" rx=\"27\" ry=\"18\"/>\n",
       "<text text-anchor=\"middle\" x=\"27\" y=\"-86.3\" font-family=\"Times,serif\" font-size=\"14.00\" fill=\"#000000\">X3</text>\n",
       "</g>\n",
       "<!-- X3&#45;&gt;X8 -->\n",
       "<g id=\"edge3\" class=\"edge\">\n",
       "<title>X3&#45;&gt;X8</title>\n",
       "<path fill=\"none\" stroke=\"#000000\" d=\"M39.4804,-73.6621C46.5124,-64.4564 55.4347,-52.7764 63.2883,-42.4953\"/>\n",
       "<polygon fill=\"#000000\" stroke=\"#000000\" points=\"66.28,-44.3446 69.569,-34.2733 60.7172,-40.0953 66.28,-44.3446\"/>\n",
       "</g>\n",
       "<!-- X2 -->\n",
       "<g id=\"node5\" class=\"node\">\n",
       "<title>X2</title>\n",
       "<ellipse fill=\"none\" stroke=\"#000000\" cx=\"123\" cy=\"-162\" rx=\"27\" ry=\"18\"/>\n",
       "<text text-anchor=\"middle\" x=\"123\" y=\"-158.3\" font-family=\"Times,serif\" font-size=\"14.00\" fill=\"#000000\">X2</text>\n",
       "</g>\n",
       "<!-- X2&#45;&gt;X8 -->\n",
       "<g id=\"edge10\" class=\"edge\">\n",
       "<title>X2&#45;&gt;X8</title>\n",
       "<path fill=\"none\" stroke=\"#000000\" d=\"M115.061,-144.7768C110.4702,-134.3107 104.8572,-120.5822 101,-108 94.7689,-87.6744 89.8804,-64.1504 86.6232,-46.2509\"/>\n",
       "<polygon fill=\"#000000\" stroke=\"#000000\" points=\"90.0299,-45.4142 84.8523,-36.1706 83.1355,-46.6254 90.0299,-45.4142\"/>\n",
       "</g>\n",
       "<!-- X2&#45;&gt;X3 -->\n",
       "<g id=\"edge7\" class=\"edge\">\n",
       "<title>X2&#45;&gt;X3</title>\n",
       "<path fill=\"none\" stroke=\"#000000\" d=\"M104.9431,-148.4574C90.3275,-137.4956 69.545,-121.9088 53.1152,-109.5864\"/>\n",
       "<polygon fill=\"#000000\" stroke=\"#000000\" points=\"55.0759,-106.682 44.9759,-103.4819 50.8759,-112.282 55.0759,-106.682\"/>\n",
       "</g>\n",
       "<!-- X2&#45;&gt;X7 -->\n",
       "<g id=\"edge8\" class=\"edge\">\n",
       "<title>X2&#45;&gt;X7</title>\n",
       "<path fill=\"none\" stroke=\"#000000\" d=\"M139.9908,-147.7751C152.5942,-137.2234 169.9728,-122.674 184.1368,-110.8157\"/>\n",
       "<polygon fill=\"#000000\" stroke=\"#000000\" points=\"186.6237,-113.2984 192.0445,-104.1953 182.1301,-107.9311 186.6237,-113.2984\"/>\n",
       "</g>\n",
       "<!-- X9 -->\n",
       "<g id=\"node8\" class=\"node\">\n",
       "<title>X9</title>\n",
       "<ellipse fill=\"none\" stroke=\"#000000\" cx=\"137\" cy=\"-90\" rx=\"27\" ry=\"18\"/>\n",
       "<text text-anchor=\"middle\" x=\"137\" y=\"-86.3\" font-family=\"Times,serif\" font-size=\"14.00\" fill=\"#000000\">X9</text>\n",
       "</g>\n",
       "<!-- X2&#45;&gt;X9 -->\n",
       "<g id=\"edge9\" class=\"edge\">\n",
       "<title>X2&#45;&gt;X9</title>\n",
       "<path fill=\"none\" stroke=\"#000000\" d=\"M126.5328,-143.8314C128.0698,-135.9266 129.9053,-126.4872 131.6068,-117.7365\"/>\n",
       "<polygon fill=\"#000000\" stroke=\"#000000\" points=\"135.0437,-118.3976 133.5168,-107.9134 128.1724,-117.0615 135.0437,-118.3976\"/>\n",
       "</g>\n",
       "<!-- X1 -->\n",
       "<g id=\"node7\" class=\"node\">\n",
       "<title>X1</title>\n",
       "<ellipse fill=\"none\" stroke=\"#000000\" cx=\"104\" cy=\"-234\" rx=\"27\" ry=\"18\"/>\n",
       "<text text-anchor=\"middle\" x=\"104\" y=\"-230.3\" font-family=\"Times,serif\" font-size=\"14.00\" fill=\"#000000\">X1</text>\n",
       "</g>\n",
       "<!-- X1&#45;&gt;X10 -->\n",
       "<g id=\"edge2\" class=\"edge\">\n",
       "<title>X1&#45;&gt;X10</title>\n",
       "<path fill=\"none\" stroke=\"#000000\" d=\"M123.2586,-220.7941C139.5398,-209.6298 163.0667,-193.4971 181.3589,-180.9539\"/>\n",
       "<polygon fill=\"#000000\" stroke=\"#000000\" points=\"183.5955,-183.6641 189.8635,-175.1222 179.6368,-177.891 183.5955,-183.6641\"/>\n",
       "</g>\n",
       "<!-- X1&#45;&gt;X3 -->\n",
       "<g id=\"edge1\" class=\"edge\">\n",
       "<title>X1&#45;&gt;X3</title>\n",
       "<path fill=\"none\" stroke=\"#000000\" d=\"M94.8647,-216.9158C81.4926,-191.9082 56.4844,-145.1397 40.8452,-115.8924\"/>\n",
       "<polygon fill=\"#000000\" stroke=\"#000000\" points=\"43.9253,-114.23 36.1234,-107.0619 37.7524,-117.5308 43.9253,-114.23\"/>\n",
       "</g>\n",
       "</g>\n",
       "</svg>\n"
      ],
      "text/plain": [
       "<graphviz.dot.Digraph at 0x7fcaec03b8d0>"
      ]
     },
     "execution_count": 15,
     "metadata": {},
     "output_type": "execute_result"
    }
   ],
   "source": [
    "target_graph = aitia.graph_util.get_causal_graph_from_dot(target_str_dot)\n",
    "target_graph.draw()"
   ]
  },
  {
   "cell_type": "code",
   "execution_count": null,
   "metadata": {},
   "outputs": [],
   "source": []
  }
 ],
 "metadata": {
  "kernelspec": {
   "display_name": "Python 3",
   "language": "python",
   "name": "python3"
  },
  "language_info": {
   "codemirror_mode": {
    "name": "ipython",
    "version": 3
   },
   "file_extension": ".py",
   "mimetype": "text/x-python",
   "name": "python",
   "nbconvert_exporter": "python",
   "pygments_lexer": "ipython3",
   "version": "3.7.7"
  }
 },
 "nbformat": 4,
 "nbformat_minor": 4
}
