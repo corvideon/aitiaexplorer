{
 "cells": [
  {
   "cell_type": "markdown",
   "metadata": {},
   "source": [
    "# Example 03: Causal discovery with no known causal graph\n",
    "\n",
    "-------------------------------------------\n",
    "\n",
    "## Overview\n",
    "\n",
    "\n",
    " - AitiaExplorer allows you to do causal discovery even when you don't know have a preexisting causal graph for your data.\n",
    " - If no target causal graph is supplied, then AitiaExplorer will create an approximate graph using a greedy hill clmbing algorithm.\n",
    " - In this example below, we will simulate a scenario with no known causal graph, but we will also compare the approximated graph against the known causal graph."
   ]
  },
  {
   "cell_type": "markdown",
   "metadata": {},
   "source": [
    "### Imports"
   ]
  },
  {
   "cell_type": "code",
   "execution_count": 2,
   "metadata": {},
   "outputs": [],
   "source": [
    "import os\n",
    "import sys\n",
    "import math\n",
    "import networkx as nx\n",
    "from IPython.display import display, HTML\n",
    "from pycausal.pycausal import pycausal\n",
    "\n",
    "module_path = os.path.abspath(os.path.join('../src'))\n",
    "if module_path not in sys.path:\n",
    "    sys.path.append(module_path)\n",
    "from aitia_explorer.app import App\n",
    "\n",
    "# stop the warning clutter\n",
    "import warnings\n",
    "warnings.filterwarnings('ignore')"
   ]
  },
  {
   "cell_type": "markdown",
   "metadata": {},
   "source": [
    "### Set up for causal discovery\n",
    "\n",
    "- First create an AitiaExplorer instance and using it to load some simulated data into a panda dataframe.\n",
    "- We will be using the (HEPAR II)[https://www.bnlearn.com/bnrepository/#hepar2] dataset.\n",
    "- This dataset has a known causal graph, but we will ignore that except to compare it to the approximated graph."
   ]
  },
  {
   "cell_type": "code",
   "execution_count": 3,
   "metadata": {},
   "outputs": [],
   "source": [
    "aitia = App()"
   ]
  },
  {
   "cell_type": "code",
   "execution_count": 6,
   "metadata": {},
   "outputs": [],
   "source": [
    "df = aitia.data.hepar2_10k_data()"
   ]
  },
  {
   "cell_type": "code",
   "execution_count": 7,
   "metadata": {},
   "outputs": [
    {
     "data": {
      "text/html": [
       "<div>\n",
       "<style scoped>\n",
       "    .dataframe tbody tr th:only-of-type {\n",
       "        vertical-align: middle;\n",
       "    }\n",
       "\n",
       "    .dataframe tbody tr th {\n",
       "        vertical-align: top;\n",
       "    }\n",
       "\n",
       "    .dataframe thead th {\n",
       "        text-align: right;\n",
       "    }\n",
       "</style>\n",
       "<table border=\"1\" class=\"dataframe\">\n",
       "  <thead>\n",
       "    <tr style=\"text-align: right;\">\n",
       "      <th></th>\n",
       "      <th>alcoholism</th>\n",
       "      <th>vh_amn</th>\n",
       "      <th>hepatotoxic</th>\n",
       "      <th>THepatitis</th>\n",
       "      <th>hospital</th>\n",
       "      <th>surgery</th>\n",
       "      <th>gallstones</th>\n",
       "      <th>choledocholithotomy</th>\n",
       "      <th>injections</th>\n",
       "      <th>transfusion</th>\n",
       "      <th>...</th>\n",
       "      <th>spiders</th>\n",
       "      <th>jaundice</th>\n",
       "      <th>albumin</th>\n",
       "      <th>edge</th>\n",
       "      <th>irregular_liver</th>\n",
       "      <th>hbc_anti</th>\n",
       "      <th>hcv_anti</th>\n",
       "      <th>palms</th>\n",
       "      <th>hbeag</th>\n",
       "      <th>carcinoma</th>\n",
       "    </tr>\n",
       "  </thead>\n",
       "  <tbody>\n",
       "    <tr>\n",
       "      <th>0</th>\n",
       "      <td>-0.406818</td>\n",
       "      <td>-0.462320</td>\n",
       "      <td>-0.296683</td>\n",
       "      <td>-0.21094</td>\n",
       "      <td>-1.071769</td>\n",
       "      <td>-0.862721</td>\n",
       "      <td>2.360149</td>\n",
       "      <td>2.517292</td>\n",
       "      <td>-0.810725</td>\n",
       "      <td>-0.442913</td>\n",
       "      <td>...</td>\n",
       "      <td>-0.515114</td>\n",
       "      <td>1.616390</td>\n",
       "      <td>-0.956489</td>\n",
       "      <td>-0.600145</td>\n",
       "      <td>2.58011</td>\n",
       "      <td>-0.322863</td>\n",
       "      <td>-0.04363</td>\n",
       "      <td>2.248763</td>\n",
       "      <td>-0.060108</td>\n",
       "      <td>-0.260176</td>\n",
       "    </tr>\n",
       "    <tr>\n",
       "      <th>1</th>\n",
       "      <td>-0.406818</td>\n",
       "      <td>-0.462320</td>\n",
       "      <td>-0.296683</td>\n",
       "      <td>-0.21094</td>\n",
       "      <td>-1.071769</td>\n",
       "      <td>1.159123</td>\n",
       "      <td>2.360149</td>\n",
       "      <td>2.517292</td>\n",
       "      <td>-0.810725</td>\n",
       "      <td>-0.442913</td>\n",
       "      <td>...</td>\n",
       "      <td>1.941318</td>\n",
       "      <td>1.616390</td>\n",
       "      <td>0.531284</td>\n",
       "      <td>1.666264</td>\n",
       "      <td>-0.38758</td>\n",
       "      <td>-0.322863</td>\n",
       "      <td>-0.04363</td>\n",
       "      <td>-0.444689</td>\n",
       "      <td>-0.060108</td>\n",
       "      <td>-0.260176</td>\n",
       "    </tr>\n",
       "    <tr>\n",
       "      <th>2</th>\n",
       "      <td>-0.406818</td>\n",
       "      <td>-0.462320</td>\n",
       "      <td>-0.296683</td>\n",
       "      <td>-0.21094</td>\n",
       "      <td>-1.071769</td>\n",
       "      <td>1.159123</td>\n",
       "      <td>-0.423702</td>\n",
       "      <td>-0.397252</td>\n",
       "      <td>1.233463</td>\n",
       "      <td>-0.442913</td>\n",
       "      <td>...</td>\n",
       "      <td>1.941318</td>\n",
       "      <td>-0.618663</td>\n",
       "      <td>0.531284</td>\n",
       "      <td>-0.600145</td>\n",
       "      <td>-0.38758</td>\n",
       "      <td>-0.322863</td>\n",
       "      <td>-0.04363</td>\n",
       "      <td>-0.444689</td>\n",
       "      <td>-0.060108</td>\n",
       "      <td>-0.260176</td>\n",
       "    </tr>\n",
       "    <tr>\n",
       "      <th>3</th>\n",
       "      <td>-0.406818</td>\n",
       "      <td>-0.462320</td>\n",
       "      <td>-0.296683</td>\n",
       "      <td>-0.21094</td>\n",
       "      <td>-1.071769</td>\n",
       "      <td>-0.862721</td>\n",
       "      <td>-0.423702</td>\n",
       "      <td>-0.397252</td>\n",
       "      <td>-0.810725</td>\n",
       "      <td>-0.442913</td>\n",
       "      <td>...</td>\n",
       "      <td>1.941318</td>\n",
       "      <td>-0.618663</td>\n",
       "      <td>0.531284</td>\n",
       "      <td>-0.600145</td>\n",
       "      <td>-0.38758</td>\n",
       "      <td>-0.322863</td>\n",
       "      <td>-0.04363</td>\n",
       "      <td>-0.444689</td>\n",
       "      <td>-0.060108</td>\n",
       "      <td>-0.260176</td>\n",
       "    </tr>\n",
       "    <tr>\n",
       "      <th>4</th>\n",
       "      <td>-0.406818</td>\n",
       "      <td>2.163005</td>\n",
       "      <td>-0.296683</td>\n",
       "      <td>-0.21094</td>\n",
       "      <td>-1.071769</td>\n",
       "      <td>-0.862721</td>\n",
       "      <td>-0.423702</td>\n",
       "      <td>-0.397252</td>\n",
       "      <td>-0.810725</td>\n",
       "      <td>-0.442913</td>\n",
       "      <td>...</td>\n",
       "      <td>-0.515114</td>\n",
       "      <td>-0.618663</td>\n",
       "      <td>0.531284</td>\n",
       "      <td>-0.600145</td>\n",
       "      <td>-0.38758</td>\n",
       "      <td>-0.322863</td>\n",
       "      <td>-0.04363</td>\n",
       "      <td>-0.444689</td>\n",
       "      <td>-0.060108</td>\n",
       "      <td>-0.260176</td>\n",
       "    </tr>\n",
       "  </tbody>\n",
       "</table>\n",
       "<p>5 rows × 70 columns</p>\n",
       "</div>"
      ],
      "text/plain": [
       "   alcoholism    vh_amn  hepatotoxic  THepatitis  hospital   surgery  \\\n",
       "0   -0.406818 -0.462320    -0.296683    -0.21094 -1.071769 -0.862721   \n",
       "1   -0.406818 -0.462320    -0.296683    -0.21094 -1.071769  1.159123   \n",
       "2   -0.406818 -0.462320    -0.296683    -0.21094 -1.071769  1.159123   \n",
       "3   -0.406818 -0.462320    -0.296683    -0.21094 -1.071769 -0.862721   \n",
       "4   -0.406818  2.163005    -0.296683    -0.21094 -1.071769 -0.862721   \n",
       "\n",
       "   gallstones  choledocholithotomy  injections  transfusion  ...   spiders  \\\n",
       "0    2.360149             2.517292   -0.810725    -0.442913  ... -0.515114   \n",
       "1    2.360149             2.517292   -0.810725    -0.442913  ...  1.941318   \n",
       "2   -0.423702            -0.397252    1.233463    -0.442913  ...  1.941318   \n",
       "3   -0.423702            -0.397252   -0.810725    -0.442913  ...  1.941318   \n",
       "4   -0.423702            -0.397252   -0.810725    -0.442913  ... -0.515114   \n",
       "\n",
       "   jaundice   albumin      edge  irregular_liver  hbc_anti  hcv_anti  \\\n",
       "0  1.616390 -0.956489 -0.600145          2.58011 -0.322863  -0.04363   \n",
       "1  1.616390  0.531284  1.666264         -0.38758 -0.322863  -0.04363   \n",
       "2 -0.618663  0.531284 -0.600145         -0.38758 -0.322863  -0.04363   \n",
       "3 -0.618663  0.531284 -0.600145         -0.38758 -0.322863  -0.04363   \n",
       "4 -0.618663  0.531284 -0.600145         -0.38758 -0.322863  -0.04363   \n",
       "\n",
       "      palms     hbeag  carcinoma  \n",
       "0  2.248763 -0.060108  -0.260176  \n",
       "1 -0.444689 -0.060108  -0.260176  \n",
       "2 -0.444689 -0.060108  -0.260176  \n",
       "3 -0.444689 -0.060108  -0.260176  \n",
       "4 -0.444689 -0.060108  -0.260176  \n",
       "\n",
       "[5 rows x 70 columns]"
      ]
     },
     "execution_count": 7,
     "metadata": {},
     "output_type": "execute_result"
    }
   ],
   "source": [
    "df.head()"
   ]
  },
  {
   "cell_type": "markdown",
   "metadata": {},
   "source": [
    "- Now we need to select the causal discovery algorithms and feature selection algorithms to use."
   ]
  },
  {
   "cell_type": "code",
   "execution_count": 8,
   "metadata": {},
   "outputs": [],
   "source": [
    "feature_selection_list = []\n",
    "feature_selection_list.append(aitia.feature_selection.LINEAR_REGRESSION)\n",
    "feature_selection_list.append(aitia.feature_selection.RANDOM_FOREST)"
   ]
  },
  {
   "cell_type": "code",
   "execution_count": 9,
   "metadata": {},
   "outputs": [],
   "source": [
    "algorithm_list = []\n",
    "algorithm_list.append(aitia.algo_runner.PC)\n",
    "algorithm_list.append(aitia.algo_runner.RFCI_continuous)"
   ]
  },
  {
   "cell_type": "markdown",
   "metadata": {},
   "source": [
    "### Run the causal discovery analysis\n",
    "\n",
    "- Now we will run the causal discovery analysis.\n",
    "- First we need to start a background Java VM using py-causal as the algorithms are implemented in Java.\n",
    "- Then we will run the analysis using the `run_analysis` method and AitiaExplorer will return a summary and some useful results.\n",
    "- We will set the number of features arbitrarily at 7.\n",
    "- No target causal graph will be given, an approximate target graph will be supplied by the `run_analysis` method allow with the results."
   ]
  },
  {
   "cell_type": "code",
   "execution_count": 13,
   "metadata": {},
   "outputs": [],
   "source": [
    "pc = pycausal()\n",
    "pc.start_vm()"
   ]
  },
  {
   "cell_type": "code",
   "execution_count": 14,
   "metadata": {},
   "outputs": [
    {
     "name": "stdout",
     "output_type": "stream",
     "text": [
      "No target graph has been supplied.\n",
      "The system will generate an approximate target graph using the greedy hill climbing algorithm.\n",
      "Running causal discovery on features selected by LINEAR_REGRESSION\n",
      "There are 0 latent edges in the reduced dataset\n",
      "Running causal discovery using PC\n",
      "Running causal discovery using RFCI-continuous\n",
      "Completed causal discovery on features selected by LINEAR_REGRESSION\n",
      "Running causal discovery on features selected by RANDOM_FOREST\n",
      "There are 0 latent edges in the reduced dataset\n",
      "Running causal discovery using PC\n",
      "Running causal discovery using RFCI-continuous\n",
      "Completed causal discovery on features selected by RANDOM_FOREST\n",
      "Completed analysis.\n"
     ]
    }
   ],
   "source": [
    "results, summary, target_graph = aitia.run_analysis( \n",
    "                                       hepar2_df,\n",
    "                                       target_graph_str=None, # no target graph, force system to create one\n",
    "                                       n_features=5,\n",
    "                                       feature_selection_list=feature_selection_list,\n",
    "                                       algorithm_list=algorithm_list,\n",
    "                                       pc=pc)"
   ]
  },
  {
   "cell_type": "markdown",
   "metadata": {},
   "source": [
    "### Display the results\n",
    "\n",
    "- The results can then be examined using the summary which is just a returned dataframe.\n",
    "- The AUPRC is a measure of the Area Under the Precision Recall curve, a useful performance metric.\n",
    "- The Structural Hamming Distance (SHD) measures how close the graph returned by the causal algorithm was to the approximated target graph."
   ]
  },
  {
   "cell_type": "code",
   "execution_count": 16,
   "metadata": {},
   "outputs": [
    {
     "data": {
      "text/html": [
       "<table border=\"1\" class=\"dataframe\">\n",
       "  <thead>\n",
       "    <tr style=\"text-align: right;\">\n",
       "      <th></th>\n",
       "      <th>No. of Features Req.</th>\n",
       "      <th>Causal Algorithm</th>\n",
       "      <th>Feature Selection Method</th>\n",
       "      <th>AUPRC</th>\n",
       "      <th>SHD</th>\n",
       "    </tr>\n",
       "  </thead>\n",
       "  <tbody>\n",
       "    <tr>\n",
       "      <th>0</th>\n",
       "      <td>5</td>\n",
       "      <td>PC</td>\n",
       "      <td>LINEAR_REGRESSION</td>\n",
       "      <td>0.510102</td>\n",
       "      <td>99.0</td>\n",
       "    </tr>\n",
       "    <tr>\n",
       "      <th>1</th>\n",
       "      <td>5</td>\n",
       "      <td>RFCI-continuous</td>\n",
       "      <td>LINEAR_REGRESSION</td>\n",
       "      <td>0.510102</td>\n",
       "      <td>99.0</td>\n",
       "    </tr>\n",
       "    <tr>\n",
       "      <th>2</th>\n",
       "      <td>5</td>\n",
       "      <td>PC</td>\n",
       "      <td>RANDOM_FOREST</td>\n",
       "      <td>0.510102</td>\n",
       "      <td>99.0</td>\n",
       "    </tr>\n",
       "    <tr>\n",
       "      <th>3</th>\n",
       "      <td>5</td>\n",
       "      <td>RFCI-continuous</td>\n",
       "      <td>RANDOM_FOREST</td>\n",
       "      <td>0.510102</td>\n",
       "      <td>99.0</td>\n",
       "    </tr>\n",
       "  </tbody>\n",
       "</table>"
      ],
      "text/plain": [
       "<IPython.core.display.HTML object>"
      ]
     },
     "metadata": {},
     "output_type": "display_data"
    }
   ],
   "source": [
    "display(HTML(summary.to_html()))"
   ]
  },
  {
   "cell_type": "markdown",
   "metadata": {},
   "source": [
    "### Compare the approximated target graph to the actual target graph\n",
    "\n",
    "- For the sake of this experiment, we ignored the actual target graph for the data, which is known.\n",
    "- We can now compare the known target graph with the approximated graph created by AitiaExplorer."
   ]
  },
  {
   "cell_type": "code",
   "execution_count": 22,
   "metadata": {},
   "outputs": [],
   "source": [
    "actual_target_str_dot = aitia.data.hepar2_graph()\n",
    "actual_target_graph = aitia.graph_util.get_causal_graph_from_dot(actual_target_str_dot)"
   ]
  },
  {
   "cell_type": "code",
   "execution_count": null,
   "metadata": {},
   "outputs": [],
   "source": [
    "- We need to convert the graphs to NetworkX graph so that they can be compared."
   ]
  },
  {
   "cell_type": "markdown",
   "metadata": {},
   "source": [
    "- Now we can compare them."
   ]
  },
  {
   "cell_type": "code",
   "execution_count": 38,
   "metadata": {},
   "outputs": [],
   "source": [
    "approx_target_graph = nx.DiGraph(target_graph.graph)\n",
    "actual_target_graph = nx.DiGraph(actual_target_graph.graph)"
   ]
  },
  {
   "cell_type": "code",
   "execution_count": 39,
   "metadata": {},
   "outputs": [
    {
     "data": {
      "text/plain": [
       "84"
      ]
     },
     "execution_count": 39,
     "metadata": {},
     "output_type": "execute_result"
    }
   ],
   "source": [
    "aitia.graph_metrics.(approx_target_graph, actual_target_graph)"
   ]
  },
  {
   "cell_type": "code",
   "execution_count": null,
   "metadata": {},
   "outputs": [],
   "source": []
  },
  {
   "cell_type": "code",
   "execution_count": null,
   "metadata": {},
   "outputs": [],
   "source": []
  }
 ],
 "metadata": {
  "kernelspec": {
   "display_name": "Python 3",
   "language": "python",
   "name": "python3"
  },
  "language_info": {
   "codemirror_mode": {
    "name": "ipython",
    "version": 3
   },
   "file_extension": ".py",
   "mimetype": "text/x-python",
   "name": "python",
   "nbconvert_exporter": "python",
   "pygments_lexer": "ipython3",
   "version": "3.7.7"
  }
 },
 "nbformat": 4,
 "nbformat_minor": 4
}
