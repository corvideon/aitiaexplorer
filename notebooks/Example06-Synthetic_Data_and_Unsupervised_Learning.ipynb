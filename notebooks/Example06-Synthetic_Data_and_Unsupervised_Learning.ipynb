{
 "cells": [
  {
   "cell_type": "markdown",
   "metadata": {},
   "source": [
    "# Example 06: How to use synthetic data to enable unsupervised learning\n",
    "\n",
    "-------------------------------------------\n",
    "\n",
    "## Overview\n",
    "\n",
    "\n",
    "\n",
    " - AitiaExplorer synthetic data to enable unsupervised learning. \n",
    " - This achieved using a BayesianGaussianMixture (BGMM).\n",
    " - A BGMM can be used for clustering but it can also be used to model the data distribution that best represents the data.\n",
    " - This means that a BGMM can be used to model a data distribution and provide samples from that distribution, allowing the creation of sythentic data.\n",
    " - This synthetic data can then be combined with the real data, along with an extra label that separates the synthetic data from the real data.\n",
    " - This new dataset can then allow a classifier to be trained to recognise the real data in an unsupervised manner. \n",
    " - The code below in the method `get_synthetic_training_data` creates such a dataset.\n",
    " - These classifiers are used internally in AitiaExplorer to select the most important features in a dataset."
   ]
  },
  {
   "cell_type": "markdown",
   "metadata": {},
   "source": [
    "### Imports"
   ]
  },
  {
   "cell_type": "code",
   "execution_count": 18,
   "metadata": {},
   "outputs": [],
   "source": [
    "import os\n",
    "import sys\n",
    "import numpy as np\n",
    "import pandas as pd\n",
    "import matplotlib.pyplot as plt \n",
    "from sklearn import mixture\n",
    "from sklearn.linear_model import LinearRegression, SGDClassifier\n",
    "from sklearn.ensemble import RandomForestClassifier, GradientBoostingClassifier\n",
    "from xgboost import XGBClassifier\n",
    "from sklearn.model_selection import train_test_split\n",
    "from sklearn.metrics import accuracy_score  \n",
    "\n",
    "module_path = os.path.abspath(os.path.join('../src'))\n",
    "if module_path not in sys.path:\n",
    "    sys.path.append(module_path)\n",
    "from aitia_explorer.app import App\n",
    "\n",
    "# stop the warning clutter\n",
    "import warnings\n",
    "warnings.filterwarnings('ignore')"
   ]
  },
  {
   "cell_type": "markdown",
   "metadata": {},
   "source": [
    "### Define Utility Methods\n",
    "\n",
    "- `get_gmm_sample_data` creates sample data from a BGMM.\n",
    "- `get_synthetic_training_data` creates training data from synthetic and real data.\n",
    "- These methods are taken from the internals of AitiaExplorer."
   ]
  },
  {
   "cell_type": "code",
   "execution_count": 2,
   "metadata": {},
   "outputs": [],
   "source": [
    "def get_gmm_sample_data(incoming_df, column_list, sample_size):\n",
    "    \"\"\"\n",
    "    Unsupervised Learning in the form of BayesianGaussianMixture to create sample data.\n",
    "    \"\"\"\n",
    "    gmm = mixture.BayesianGaussianMixture(n_components=2,\n",
    "                                          covariance_type=\"full\",\n",
    "                                          n_init=100,\n",
    "                                          random_state=42).fit(incoming_df)\n",
    "    clustered_data = gmm.sample(sample_size)\n",
    "    clustered_df = pd.DataFrame(clustered_data[0], columns=column_list)\n",
    "    return clustered_df"
   ]
  },
  {
   "cell_type": "code",
   "execution_count": 3,
   "metadata": {},
   "outputs": [],
   "source": [
    "def get_synthetic_training_data(incoming_df):\n",
    "    \"\"\"\n",
    "    Creates synthetic training data by sampling from a BayesianGaussianMixture supplied distribution.\n",
    "    Synthetic data is then labelled differently from the original data.\n",
    "    \"\"\"\n",
    "    # number of records in df\n",
    "    number_records = len(incoming_df.index)\n",
    "\n",
    "    # get sample data from the unsupervised BayesianGaussianMixture\n",
    "    df_bgmm = get_gmm_sample_data(incoming_df, list(incoming_df), number_records)\n",
    "\n",
    "    # set the class on the samples\n",
    "    df_bgmm['original_data'] = 0\n",
    "\n",
    "    # add the class to a copy of incoming df, stops weird errors due to changed dataframes\n",
    "    working_df = incoming_df.copy(deep=True)\n",
    "    working_df['original_data'] = 1\n",
    "\n",
    "    # concatinate the two dataframes\n",
    "    df_combined = working_df.append(df_bgmm, ignore_index=True)\n",
    "\n",
    "    # shuffle the data\n",
    "    df_combined = df_combined.sample(frac=1)\n",
    "\n",
    "    # get the X and y\n",
    "    x = df_combined.drop(['original_data'], axis=1).values\n",
    "    y = df_combined['original_data'].values\n",
    "    y = y.ravel()\n",
    "\n",
    "    return x, y"
   ]
  },
  {
   "cell_type": "markdown",
   "metadata": {},
   "source": [
    "### Set up training \n",
    "\n",
    "- Now we will set up for training the classifiers by creating an AitiaExplorer instance and using it to load the [HEPAR II](https://www.bnlearn.com/bnrepository/#hepar2) dataset.\n",
    "- This data will then be divided into training and test datatsets."
   ]
  },
  {
   "cell_type": "code",
   "execution_count": 6,
   "metadata": {},
   "outputs": [],
   "source": [
    "aitia = App()"
   ]
  },
  {
   "cell_type": "code",
   "execution_count": 7,
   "metadata": {},
   "outputs": [],
   "source": [
    "df = aitia.data.hepar2_10k_data()"
   ]
  },
  {
   "cell_type": "code",
   "execution_count": 9,
   "metadata": {},
   "outputs": [],
   "source": [
    "# get ths synthetic data\n",
    "X, y = get_synthetic_training_data(df)"
   ]
  },
  {
   "cell_type": "code",
   "execution_count": 10,
   "metadata": {},
   "outputs": [],
   "source": [
    "X_train, X_test, y_train, y_test = train_test_split(X, y, test_size=0.25, random_state=42)"
   ]
  },
  {
   "cell_type": "markdown",
   "metadata": {},
   "source": [
    "### Train the classifiers\n",
    "\n",
    "- Now we will train some classifiers that normally need labelled data i.e. for supervised learning. \n",
    "- However, as we have created a synthetic training set, we can use these classifiers in an unsupervised manner to learn the real data.\n",
    "- The scores will then be displayed."
   ]
  },
  {
   "cell_type": "code",
   "execution_count": 34,
   "metadata": {},
   "outputs": [],
   "source": [
    "models = [ \n",
    "          SGDClassifier, \n",
    "          RandomForestClassifier, \n",
    "          GradientBoostingClassifier, \n",
    "          XGBClassifier]"
   ]
  },
  {
   "cell_type": "code",
   "execution_count": 33,
   "metadata": {},
   "outputs": [
    {
     "data": {
      "text/html": [
       "<div>\n",
       "<style scoped>\n",
       "    .dataframe tbody tr th:only-of-type {\n",
       "        vertical-align: middle;\n",
       "    }\n",
       "\n",
       "    .dataframe tbody tr th {\n",
       "        vertical-align: top;\n",
       "    }\n",
       "\n",
       "    .dataframe thead th {\n",
       "        text-align: right;\n",
       "    }\n",
       "</style>\n",
       "<table border=\"1\" class=\"dataframe\">\n",
       "  <thead>\n",
       "    <tr style=\"text-align: right;\">\n",
       "      <th></th>\n",
       "      <th>SGDClassifier</th>\n",
       "      <th>RandomForestClassifier</th>\n",
       "      <th>GradientBoostingClassifier</th>\n",
       "      <th>XGBClassifier</th>\n",
       "    </tr>\n",
       "  </thead>\n",
       "  <tbody>\n",
       "    <tr>\n",
       "      <th>0</th>\n",
       "      <td>0.4998</td>\n",
       "      <td>1.0</td>\n",
       "      <td>1.0</td>\n",
       "      <td>1.0</td>\n",
       "    </tr>\n",
       "  </tbody>\n",
       "</table>\n",
       "</div>"
      ],
      "text/plain": [
       "   SGDClassifier  RandomForestClassifier  GradientBoostingClassifier  \\\n",
       "0         0.4998                     1.0                         1.0   \n",
       "\n",
       "   XGBClassifier  \n",
       "0            1.0  "
      ]
     },
     "execution_count": 33,
     "metadata": {},
     "output_type": "execute_result"
    }
   ],
   "source": [
    "model_results = dict()\n",
    "for model in models:\n",
    "    current_model = model()\n",
    "    # fit the model\n",
    "    current_model.fit(X_train, y_train) \n",
    "    # score\n",
    "    model_results[type(current_model).__name__] = [current_model.score(X_test, y_test)]\n",
    "\n",
    "model_df = pd.DataFrame(model_results)\n",
    "model_df"
   ]
  },
  {
   "cell_type": "markdown",
   "metadata": {},
   "source": [
    "## Observations"
   ]
  },
  {
   "cell_type": "markdown",
   "metadata": {},
   "source": [
    "- Several of the classifiers have an almost perfect score on the synthetic dataset.\n",
    "- Even though the SGDClassifier does very poorly, it is still useful for feature selection.\n",
    "- LinearRegression has been omitted from this test as the score metric returns meaningless results in regression, however it is also still useful for feature selection."
   ]
  },
  {
   "cell_type": "code",
   "execution_count": null,
   "metadata": {},
   "outputs": [],
   "source": []
  }
 ],
 "metadata": {
  "kernelspec": {
   "display_name": "Python 3",
   "language": "python",
   "name": "python3"
  },
  "language_info": {
   "codemirror_mode": {
    "name": "ipython",
    "version": 3
   },
   "file_extension": ".py",
   "mimetype": "text/x-python",
   "name": "python",
   "nbconvert_exporter": "python",
   "pygments_lexer": "ipython3",
   "version": "3.7.7"
  }
 },
 "nbformat": 4,
 "nbformat_minor": 4
}
