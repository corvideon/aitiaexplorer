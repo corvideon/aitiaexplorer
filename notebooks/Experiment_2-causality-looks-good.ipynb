{
 "cells": [
  {
   "cell_type": "markdown",
   "metadata": {},
   "source": [
    "https://medium.com/@akelleh/causal-graph-inference-b3e3afd47110"
   ]
  },
  {
   "cell_type": "code",
   "execution_count": 11,
   "metadata": {},
   "outputs": [],
   "source": [
    "import numpy\n",
    "import pandas as pd\n",
    "import networkx as nx\n",
    "\n",
    "from causality.inference.search import IC\n",
    "from causality.inference.independence_tests import RobustRegressionTest\n",
    "\n",
    "import warnings\n",
    "warnings.filterwarnings('ignore') # shut up\n",
    "\n",
    "# generate some toy data:\n",
    "SIZE = 2000\n",
    "x1 = numpy.random.normal(size=SIZE)\n",
    "x2 = x1 + numpy.random.normal(size=SIZE)\n",
    "x3 = x1 + numpy.random.normal(size=SIZE)\n",
    "x4 = x2 + x3 + numpy.random.normal(size=SIZE)\n",
    "x5 = x4 + numpy.random.normal(size=SIZE)\n",
    "\n",
    "# load the data into a dataframe:\n",
    "X = pd.DataFrame({'x1' : x1, 'x2' : x2, 'x3' : x3, 'x4' : x4, 'x5' : x5})\n"
   ]
  },
  {
   "cell_type": "code",
   "execution_count": 2,
   "metadata": {},
   "outputs": [],
   "source": [
    "# define the variable types: 'c' is 'continuous'.  The variables defined here\n",
    "# are the ones the search is performed over  -- NOT all the variables defined\n",
    "# in the data frame.\n",
    "variable_types = {'x1' : 'c', 'x2' : 'c', 'x3' : 'c', 'x4' : 'c', 'x5' : 'c'}"
   ]
  },
  {
   "cell_type": "code",
   "execution_count": 4,
   "metadata": {},
   "outputs": [],
   "source": [
    "# run the search\n",
    "ic_algorithm = IC(RobustRegressionTest)"
   ]
  },
  {
   "cell_type": "code",
   "execution_count": 5,
   "metadata": {},
   "outputs": [],
   "source": [
    "graph = ic_algorithm.search(X, variable_types)"
   ]
  },
  {
   "cell_type": "code",
   "execution_count": 14,
   "metadata": {},
   "outputs": [
    {
     "data": {
      "image/png": "[encoded data removed]",
      "text/plain": [
       "<Figure size 432x288 with 1 Axes>"
      ]
     },
     "metadata": {},
     "output_type": "display_data"
    }
   ],
   "source": [
    "nx.draw(graph)"
   ]
  },
  {
   "cell_type": "code",
   "execution_count": null,
   "metadata": {},
   "outputs": [],
   "source": []
  }
 ],
 "metadata": {
  "kernelspec": {
   "display_name": "PyCharm (aitiaexplorer)",
   "language": "python",
   "name": "pycharm-6f22640d"
  },
  "language_info": {
   "codemirror_mode": {
    "name": "ipython",
    "version": 3
   },
   "file_extension": ".py",
   "mimetype": "text/x-python",
   "name": "python",
   "nbconvert_exporter": "python",
   "pygments_lexer": "ipython3",
   "version": "3.7.7"
  }
 },
 "nbformat": 4,
 "nbformat_minor": 4
}
