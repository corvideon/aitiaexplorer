{
 "cells": [
  {
   "cell_type": "markdown",
   "metadata": {},
   "source": [
    "Look at https://github.com/keiichishima/pcalg for references"
   ]
  },
  {
   "cell_type": "code",
   "execution_count": 3,
   "metadata": {},
   "outputs": [],
   "source": [
    "import pcalg as pc"
   ]
  },
  {
   "cell_type": "code",
   "execution_count": 7,
   "metadata": {},
   "outputs": [
    {
     "name": "stdout",
     "output_type": "stream",
     "text": [
      "Edges are: [(0, 1), (2, 3), (2, 4), (3, 1), (3, 2), (4, 1), (4, 2)] => GOOD\n",
      "Edges are: [(0, 2), (1, 2), (1, 3), (4, 3)] => GOOD\n"
     ]
    }
   ],
   "source": [
    "import networkx as nx\n",
    "import numpy as np\n",
    "\n",
    "from gsq.ci_tests import ci_test_bin, ci_test_dis\n",
    "from gsq.gsq_testdata import bin_data, dis_data\n",
    "\n",
    "# ch = logging.StreamHandler()\n",
    "# ch.setLevel(logging.DEBUG)\n",
    "# _logger.setLevel(logging.DEBUG)\n",
    "# _logger.addHandler(ch)\n",
    "\n",
    "dm = np.array(bin_data).reshape((5000, 5))\n",
    "(g, sep_set) = pc.estimate_skeleton(indep_test_func=ci_test_bin,\n",
    "                                 data_matrix=dm,\n",
    "                                 alpha=0.01)\n",
    "g = pc.estimate_cpdag(skel_graph=g, sep_set=sep_set)\n",
    "g_answer = nx.DiGraph()\n",
    "g_answer.add_nodes_from([0, 1, 2, 3, 4])\n",
    "g_answer.add_edges_from([(0, 1), (2, 3), (3, 2), (3, 1),\n",
    "                         (2, 4), (4, 2), (4, 1)])\n",
    "print('Edges are:', g.edges(), end='')\n",
    "if nx.is_isomorphic(g, g_answer):\n",
    "    print(' => GOOD')\n",
    "else:\n",
    "    print(' => WRONG')\n",
    "    print('True edges should be:', g_answer.edges())\n",
    "\n",
    "dm = np.array(dis_data).reshape((10000, 5))\n",
    "(g, sep_set) = pc.estimate_skeleton(indep_test_func=ci_test_dis,\n",
    "                                 data_matrix=dm,\n",
    "                                 alpha=0.01,\n",
    "                                 levels=[3,2,3,4,2])\n",
    "g = pc.estimate_cpdag(skel_graph=g, sep_set=sep_set)\n",
    "g_answer = nx.DiGraph()\n",
    "g_answer.add_nodes_from([0, 1, 2, 3, 4])\n",
    "g_answer.add_edges_from([(0, 2), (1, 2), (1, 3), (4, 3)])\n",
    "print('Edges are:', g.edges(), end='')\n",
    "if nx.is_isomorphic(g, g_answer):\n",
    "    print(' => GOOD')\n",
    "else:\n",
    "    print(' => WRONG')\n",
    "    print('True edges should be:', g_answer.edges())"
   ]
  },
  {
   "cell_type": "code",
   "execution_count": null,
   "metadata": {},
   "outputs": [],
   "source": []
  }
 ],
 "metadata": {
  "kernelspec": {
   "display_name": "Python 3",
   "language": "python",
   "name": "python3"
  },
  "language_info": {
   "codemirror_mode": {
    "name": "ipython",
    "version": 3
   },
   "file_extension": ".py",
   "mimetype": "text/x-python",
   "name": "python",
   "nbconvert_exporter": "python",
   "pygments_lexer": "ipython3",
   "version": "3.7.7"
  }
 },
 "nbformat": 4,
 "nbformat_minor": 4
}
