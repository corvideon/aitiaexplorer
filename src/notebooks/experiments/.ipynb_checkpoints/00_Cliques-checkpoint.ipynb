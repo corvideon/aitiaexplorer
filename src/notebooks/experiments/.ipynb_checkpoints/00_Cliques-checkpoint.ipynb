{
 "cells": [
  {
   "cell_type": "code",
   "execution_count": 11,
   "metadata": {},
   "outputs": [],
   "source": [
    "import os\n",
    "import sys\n",
    "import operator\n",
    "import numpy as np\n",
    "import pandas as pd\n",
    "import networkx as nx\n",
    "import matplotlib.pyplot as plt \n",
    "from sklearn import mixture\n",
    "from sklearn.model_selection import train_test_split\n",
    "\n",
    "module_path = os.path.abspath(os.path.join('../..'))\n",
    "if module_path not in sys.path:\n",
    "    sys.path.append(module_path)\n",
    "from aitia_explorer.app import App\n",
    "\n",
    "# stop the warning clutter\n",
    "import warnings\n",
    "warnings.filterwarnings('ignore')"
   ]
  },
  {
   "cell_type": "code",
   "execution_count": 2,
   "metadata": {},
   "outputs": [],
   "source": [
    "aitia = App()"
   ]
  },
  {
   "cell_type": "code",
   "execution_count": 26,
   "metadata": {},
   "outputs": [],
   "source": [
    "df = aitia.data.hepar2_100_data()"
   ]
  },
  {
   "cell_type": "code",
   "execution_count": null,
   "metadata": {},
   "outputs": [],
   "source": [
    "adj_matrix = aitia.algo_runner.algo_notears(df)\n",
    "thresholded_output = notears.utils.threshold_output(adj_matrix)"
   ]
  },
  {
   "cell_type": "code",
   "execution_count": 9,
   "metadata": {},
   "outputs": [],
   "source": [
    "test_nx = aitia.graph_util.get_nxgraph_from_adjacency_matrix(thresholded_output)"
   ]
  },
  {
   "cell_type": "code",
   "execution_count": 17,
   "metadata": {},
   "outputs": [],
   "source": [
    "labels = list(df)\n",
    "label_dict = dict()\n",
    "for i in range(0, len(labels)):\n",
    "    label_dict[i] = labels[i]"
   ]
  },
  {
   "cell_type": "code",
   "execution_count": 19,
   "metadata": {},
   "outputs": [
    {
     "data": {
      "text/plain": [
       "OutEdgeView([('alcoholism', 'THepatitis'), ('alcoholism', 'Steatosis'), ('vh_amn', 'ChHepatitis'), ('vh_amn', 'hbsag'), ('THepatitis', 'alcoholism'), ('THepatitis', 'phosphatase'), ('hospital', 'transfusion'), ('hospital', 'surgery'), ('hospital', 'injections'), ('surgery', 'hospital'), ('surgery', 'transfusion'), ('surgery', 'injections'), ('gallstones', 'choledocholithotomy'), ('choledocholithotomy', 'gallstones'), ('choledocholithotomy', 'injections'), ('injections', 'choledocholithotomy'), ('injections', 'hospital'), ('injections', 'surgery'), ('injections', 'ChHepatitis'), ('transfusion', 'hospital'), ('transfusion', 'surgery'), ('ChHepatitis', 'vh_amn'), ('ChHepatitis', 'injections'), ('ChHepatitis', 'phosphatase'), ('ChHepatitis', 'hbsag'), ('ChHepatitis', 'hbeag'), ('ChHepatitis', 'fibrosis'), ('sex', 'age'), ('sex', 'PBC'), ('age', 'sex'), ('age', 'Hyperbilirubinemia'), ('age', 'PBC'), ('PBC', 'sex'), ('PBC', 'age'), ('PBC', 'ama'), ('PBC', 'le_cells'), ('PBC', 'joints'), ('PBC', 'pain'), ('PBC', 'encephalopathy'), ('PBC', 'ggtp'), ('PBC', 'pressure_ruq'), ('PBC', 'skin'), ('PBC', 'ESR'), ('PBC', 'cholesterol'), ('PBC', 'carcinoma'), ('fibrosis', 'ChHepatitis'), ('fibrosis', 'Steatosis'), ('fibrosis', 'Cirrhosis'), ('diabetes', 'obesity'), ('obesity', 'diabetes'), ('obesity', 'Steatosis'), ('Steatosis', 'alcoholism'), ('Steatosis', 'fibrosis'), ('Steatosis', 'obesity'), ('Steatosis', 'Cirrhosis'), ('Cirrhosis', 'fibrosis'), ('Cirrhosis', 'Steatosis'), ('Cirrhosis', 'edema'), ('Cirrhosis', 'inr'), ('Cirrhosis', 'spiders'), ('Cirrhosis', 'spleen'), ('Cirrhosis', 'albumin'), ('Cirrhosis', 'edge'), ('Cirrhosis', 'irregular_liver'), ('Cirrhosis', 'palms'), ('Cirrhosis', 'carcinoma'), ('Hyperbilirubinemia', 'age'), ('Hyperbilirubinemia', 'hepatomegaly'), ('Hyperbilirubinemia', 'ggtp'), ('bilirubin', 'skin'), ('bilirubin', 'jaundice'), ('itching', 'skin'), ('pressure_ruq', 'PBC'), ('phosphatase', 'ChHepatitis'), ('phosphatase', 'THepatitis'), ('skin', 'bilirubin'), ('skin', 'PBC'), ('skin', 'itching'), ('skin', 'cholesterol'), ('skin', 'jaundice'), ('ama', 'PBC'), ('le_cells', 'PBC'), ('joints', 'PBC'), ('joints', 'pain'), ('pain', 'PBC'), ('pain', 'joints'), ('proteins', 'ascites'), ('edema', 'Cirrhosis'), ('inr', 'Cirrhosis'), ('inr', 'bleeding'), ('bleeding', 'inr'), ('encephalopathy', 'PBC'), ('encephalopathy', 'consciousness'), ('encephalopathy', 'density'), ('ascites', 'proteins'), ('hepatomegaly', 'Hyperbilirubinemia'), ('hepatomegaly', 'hepatalgia'), ('hepatalgia', 'hepatomegaly'), ('density', 'encephalopathy'), ('ESR', 'PBC'), ('ESR', 'cholesterol'), ('ggtp', 'PBC'), ('ggtp', 'Hyperbilirubinemia'), ('cholesterol', 'skin'), ('cholesterol', 'PBC'), ('cholesterol', 'ESR'), ('cholesterol', 'carcinoma'), ('hbsag', 'ChHepatitis'), ('hbsag', 'vh_amn'), ('spleen', 'Cirrhosis'), ('consciousness', 'encephalopathy'), ('spiders', 'Cirrhosis'), ('jaundice', 'bilirubin'), ('jaundice', 'skin'), ('albumin', 'Cirrhosis'), ('edge', 'Cirrhosis'), ('irregular_liver', 'Cirrhosis'), ('palms', 'Cirrhosis'), ('hbeag', 'ChHepatitis'), ('carcinoma', 'PBC'), ('carcinoma', 'Cirrhosis'), ('carcinoma', 'cholesterol')])"
      ]
     },
     "execution_count": 19,
     "metadata": {},
     "output_type": "execute_result"
    }
   ],
   "source": [
    "test_nx2 = nx.relabel_nodes(test_nx, label_dict)\n",
    "test_nx2.edges()"
   ]
  },
  {
   "cell_type": "code",
   "execution_count": 24,
   "metadata": {},
   "outputs": [
    {
     "ename": "NetworkXUnfeasible",
     "evalue": "Graph contains a cycle or graph changed during iteration",
     "output_type": "error",
     "traceback": [
      "\u001b[0;31m---------------------------------------------------------------------------\u001b[0m",
      "\u001b[0;31mNetworkXUnfeasible\u001b[0m                        Traceback (most recent call last)",
      "\u001b[0;32m<ipython-input-24-0c46184f4d11>\u001b[0m in \u001b[0;36m<module>\u001b[0;34m\u001b[0m\n\u001b[1;32m      1\u001b[0m \u001b[0;32mimport\u001b[0m \u001b[0mnetworkx\u001b[0m\u001b[0;34m.\u001b[0m\u001b[0malgorithms\u001b[0m\u001b[0;34m.\u001b[0m\u001b[0mdag\u001b[0m \u001b[0;32mas\u001b[0m \u001b[0mdag\u001b[0m\u001b[0;34m\u001b[0m\u001b[0;34m\u001b[0m\u001b[0m\n\u001b[0;32m----> 2\u001b[0;31m \u001b[0mdag\u001b[0m\u001b[0;34m.\u001b[0m\u001b[0mdag_longest_path\u001b[0m\u001b[0;34m(\u001b[0m\u001b[0mtest_nx2\u001b[0m\u001b[0;34m)\u001b[0m\u001b[0;34m\u001b[0m\u001b[0;34m\u001b[0m\u001b[0m\n\u001b[0m",
      "\u001b[0;32m<decorator-gen-381>\u001b[0m in \u001b[0;36mdag_longest_path\u001b[0;34m(G, weight, default_weight)\u001b[0m\n",
      "\u001b[0;32m~/bin/anaconda3/envs/CAUSAL1/lib/python3.7/site-packages/networkx/utils/decorators.py\u001b[0m in \u001b[0;36m_not_implemented_for\u001b[0;34m(not_implement_for_func, *args, **kwargs)\u001b[0m\n\u001b[1;32m     80\u001b[0m             \u001b[0;32mraise\u001b[0m \u001b[0mnx\u001b[0m\u001b[0;34m.\u001b[0m\u001b[0mNetworkXNotImplemented\u001b[0m\u001b[0;34m(\u001b[0m\u001b[0mmsg\u001b[0m\u001b[0;34m)\u001b[0m\u001b[0;34m\u001b[0m\u001b[0;34m\u001b[0m\u001b[0m\n\u001b[1;32m     81\u001b[0m         \u001b[0;32melse\u001b[0m\u001b[0;34m:\u001b[0m\u001b[0;34m\u001b[0m\u001b[0;34m\u001b[0m\u001b[0m\n\u001b[0;32m---> 82\u001b[0;31m             \u001b[0;32mreturn\u001b[0m \u001b[0mnot_implement_for_func\u001b[0m\u001b[0;34m(\u001b[0m\u001b[0;34m*\u001b[0m\u001b[0margs\u001b[0m\u001b[0;34m,\u001b[0m \u001b[0;34m**\u001b[0m\u001b[0mkwargs\u001b[0m\u001b[0;34m)\u001b[0m\u001b[0;34m\u001b[0m\u001b[0;34m\u001b[0m\u001b[0m\n\u001b[0m\u001b[1;32m     83\u001b[0m     \u001b[0;32mreturn\u001b[0m \u001b[0m_not_implemented_for\u001b[0m\u001b[0;34m\u001b[0m\u001b[0;34m\u001b[0m\u001b[0m\n\u001b[1;32m     84\u001b[0m \u001b[0;34m\u001b[0m\u001b[0m\n",
      "\u001b[0;32m~/bin/anaconda3/envs/CAUSAL1/lib/python3.7/site-packages/networkx/algorithms/dag.py\u001b[0m in \u001b[0;36mdag_longest_path\u001b[0;34m(G, weight, default_weight)\u001b[0m\n\u001b[1;32m    651\u001b[0m         \u001b[0;32mreturn\u001b[0m \u001b[0;34m[\u001b[0m\u001b[0;34m]\u001b[0m\u001b[0;34m\u001b[0m\u001b[0;34m\u001b[0m\u001b[0m\n\u001b[1;32m    652\u001b[0m     \u001b[0mdist\u001b[0m \u001b[0;34m=\u001b[0m \u001b[0;34m{\u001b[0m\u001b[0;34m}\u001b[0m  \u001b[0;31m# stores {v : (length, u)}\u001b[0m\u001b[0;34m\u001b[0m\u001b[0;34m\u001b[0m\u001b[0m\n\u001b[0;32m--> 653\u001b[0;31m     \u001b[0;32mfor\u001b[0m \u001b[0mv\u001b[0m \u001b[0;32min\u001b[0m \u001b[0mnx\u001b[0m\u001b[0;34m.\u001b[0m\u001b[0mtopological_sort\u001b[0m\u001b[0;34m(\u001b[0m\u001b[0mG\u001b[0m\u001b[0;34m)\u001b[0m\u001b[0;34m:\u001b[0m\u001b[0;34m\u001b[0m\u001b[0;34m\u001b[0m\u001b[0m\n\u001b[0m\u001b[1;32m    654\u001b[0m         us = [(dist[u][0] + data.get(weight, default_weight), u)\n\u001b[1;32m    655\u001b[0m               for u, data in G.pred[v].items()]\n",
      "\u001b[0;32m~/bin/anaconda3/envs/CAUSAL1/lib/python3.7/site-packages/networkx/algorithms/dag.py\u001b[0m in \u001b[0;36mtopological_sort\u001b[0;34m(G)\u001b[0m\n\u001b[1;32m    206\u001b[0m \u001b[0;34m\u001b[0m\u001b[0m\n\u001b[1;32m    207\u001b[0m     \u001b[0;32mif\u001b[0m \u001b[0mindegree_map\u001b[0m\u001b[0;34m:\u001b[0m\u001b[0;34m\u001b[0m\u001b[0;34m\u001b[0m\u001b[0m\n\u001b[0;32m--> 208\u001b[0;31m         raise nx.NetworkXUnfeasible(\"Graph contains a cycle or graph changed \"\n\u001b[0m\u001b[1;32m    209\u001b[0m                                     \"during iteration\")\n\u001b[1;32m    210\u001b[0m \u001b[0;34m\u001b[0m\u001b[0m\n",
      "\u001b[0;31mNetworkXUnfeasible\u001b[0m: Graph contains a cycle or graph changed during iteration"
     ]
    }
   ],
   "source": [
    "import networkx.algorithms.dag as dag\n",
    "dag.dag_longest_path(test_nx2)"
   ]
  },
  {
   "cell_type": "code",
   "execution_count": null,
   "metadata": {},
   "outputs": [],
   "source": []
  }
 ],
 "metadata": {
  "kernelspec": {
   "display_name": "Python 3",
   "language": "python",
   "name": "python3"
  },
  "language_info": {
   "codemirror_mode": {
    "name": "ipython",
    "version": 3
   },
   "file_extension": ".py",
   "mimetype": "text/x-python",
   "name": "python",
   "nbconvert_exporter": "python",
   "pygments_lexer": "ipython3",
   "version": "3.7.7"
  }
 },
 "nbformat": 4,
 "nbformat_minor": 4
}
