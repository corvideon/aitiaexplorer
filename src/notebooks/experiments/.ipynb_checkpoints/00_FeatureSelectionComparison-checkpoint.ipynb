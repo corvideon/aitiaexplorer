{
 "cells": [
  {
   "cell_type": "code",
   "execution_count": 19,
   "metadata": {},
   "outputs": [],
   "source": [
    "import os\n",
    "import sys\n",
    "import numpy as np\n",
    "import pandas as pd\n",
    "import matplotlib.pyplot as plt \n",
    "from sklearn import mixture\n",
    "from sklearn.feature_selection import RFE\n",
    "from sklearn.linear_model import LinearRegression, SGDClassifier\n",
    "from sklearn.feature_selection import SelectFromModel\n",
    "from sklearn.model_selection import train_test_split\n",
    "\n",
    "module_path = os.path.abspath(os.path.join('../..'))\n",
    "if module_path not in sys.path:\n",
    "    sys.path.append(module_path)\n",
    "from aitia_explorer.app import App\n",
    "\n",
    "# stop the warning clutter\n",
    "import warnings\n",
    "warnings.filterwarnings('ignore')"
   ]
  },
  {
   "cell_type": "code",
   "execution_count": 2,
   "metadata": {},
   "outputs": [],
   "source": [
    "def get_gmm_sample_data(incoming_df, column_list, sample_size):\n",
    "    \"\"\"\n",
    "    Unsupervised Learning in the form of BayesianGaussianMixture to create sample data.\n",
    "    \"\"\"\n",
    "    gmm = mixture.BayesianGaussianMixture(n_components=2,\n",
    "                                          covariance_type=\"full\",\n",
    "                                          n_init=100,\n",
    "                                          random_state=42).fit(incoming_df)\n",
    "    clustered_data = gmm.sample(sample_size)\n",
    "    clustered_df = pd.DataFrame(clustered_data[0], columns=column_list)\n",
    "    return clustered_df\n",
    "\n",
    "def get_synthetic_training_data(incoming_df):\n",
    "    \"\"\"\n",
    "    Creates synthetic training data by sampling from a BayesianGaussianMixture supplied distribution.\n",
    "    Synthetic data is then labelled differently from the original data.\n",
    "    \"\"\"\n",
    "    # number of records in df\n",
    "    number_records = len(incoming_df.index)\n",
    "\n",
    "    # get sample data from the unsupervised BayesianGaussianMixture\n",
    "    df_bgmm = get_gmm_sample_data(incoming_df, list(incoming_df), number_records)\n",
    "\n",
    "    # set the class on the samples\n",
    "    df_bgmm['original_data'] = 0\n",
    "\n",
    "    # add the class to a copy of incoming df, stops weird errors due to changed dataframes\n",
    "    working_df = incoming_df.copy(deep=True)\n",
    "    working_df['original_data'] = 1\n",
    "\n",
    "    # concatinate the two dataframes\n",
    "    df_combined = working_df.append(df_bgmm, ignore_index=True)\n",
    "\n",
    "    # shuffle the data\n",
    "    df_combined = df_combined.sample(frac=1)\n",
    "\n",
    "    # get the X and y\n",
    "    x = df_combined.drop(['original_data'], axis=1).values\n",
    "    y = df_combined['original_data'].values\n",
    "    y = y.ravel()\n",
    "\n",
    "    return x, y"
   ]
  },
  {
   "cell_type": "code",
   "execution_count": 3,
   "metadata": {},
   "outputs": [],
   "source": [
    "aitia = App()"
   ]
  },
  {
   "cell_type": "code",
   "execution_count": 5,
   "metadata": {},
   "outputs": [],
   "source": [
    "df = aitia.data.hepar2_10k_data()"
   ]
  },
  {
   "cell_type": "code",
   "execution_count": 6,
   "metadata": {},
   "outputs": [],
   "source": [
    "# get ths synthetic data\n",
    "X, y = get_synthetic_training_data(df)"
   ]
  },
  {
   "cell_type": "code",
   "execution_count": 16,
   "metadata": {},
   "outputs": [],
   "source": [
    "estimator = GradientBoostingClassifier()\n",
    "selector = RFE(estimator, n_features_to_select=5, step=3)\n",
    "selector = selector.fit(X, y)"
   ]
  },
  {
   "cell_type": "code",
   "execution_count": 17,
   "metadata": {},
   "outputs": [],
   "source": [
    "# sort the feature indexes\n",
    "feature_indices = []\n",
    "\n",
    "for i in range(df.shape[1]):\n",
    "    # see if column has been marked true or false\n",
    "    if selector.support_[i]:\n",
    "        feature_indices.append(i)\n",
    "\n",
    "requested_features = [list(df)[i] for i in feature_indices]"
   ]
  },
  {
   "cell_type": "code",
   "execution_count": 18,
   "metadata": {},
   "outputs": [
    {
     "data": {
      "text/html": [
       "<div>\n",
       "<style scoped>\n",
       "    .dataframe tbody tr th:only-of-type {\n",
       "        vertical-align: middle;\n",
       "    }\n",
       "\n",
       "    .dataframe tbody tr th {\n",
       "        vertical-align: top;\n",
       "    }\n",
       "\n",
       "    .dataframe thead th {\n",
       "        text-align: right;\n",
       "    }\n",
       "</style>\n",
       "<table border=\"1\" class=\"dataframe\">\n",
       "  <thead>\n",
       "    <tr style=\"text-align: right;\">\n",
       "      <th></th>\n",
       "      <th>RHepatitis</th>\n",
       "      <th>proteins</th>\n",
       "      <th>hbsag_anti</th>\n",
       "      <th>consciousness</th>\n",
       "      <th>hbeag</th>\n",
       "    </tr>\n",
       "  </thead>\n",
       "  <tbody>\n",
       "    <tr>\n",
       "      <th>0</th>\n",
       "      <td>-0.167845</td>\n",
       "      <td>-0.135771</td>\n",
       "      <td>-0.142857</td>\n",
       "      <td>-0.164669</td>\n",
       "      <td>-0.060108</td>\n",
       "    </tr>\n",
       "    <tr>\n",
       "      <th>1</th>\n",
       "      <td>-0.167845</td>\n",
       "      <td>7.365366</td>\n",
       "      <td>-0.142857</td>\n",
       "      <td>-0.164669</td>\n",
       "      <td>-0.060108</td>\n",
       "    </tr>\n",
       "    <tr>\n",
       "      <th>2</th>\n",
       "      <td>-0.167845</td>\n",
       "      <td>-0.135771</td>\n",
       "      <td>-0.142857</td>\n",
       "      <td>-0.164669</td>\n",
       "      <td>-0.060108</td>\n",
       "    </tr>\n",
       "    <tr>\n",
       "      <th>3</th>\n",
       "      <td>-0.167845</td>\n",
       "      <td>-0.135771</td>\n",
       "      <td>-0.142857</td>\n",
       "      <td>-0.164669</td>\n",
       "      <td>-0.060108</td>\n",
       "    </tr>\n",
       "    <tr>\n",
       "      <th>4</th>\n",
       "      <td>-0.167845</td>\n",
       "      <td>-0.135771</td>\n",
       "      <td>-0.142857</td>\n",
       "      <td>-0.164669</td>\n",
       "      <td>-0.060108</td>\n",
       "    </tr>\n",
       "    <tr>\n",
       "      <th>...</th>\n",
       "      <td>...</td>\n",
       "      <td>...</td>\n",
       "      <td>...</td>\n",
       "      <td>...</td>\n",
       "      <td>...</td>\n",
       "    </tr>\n",
       "    <tr>\n",
       "      <th>9995</th>\n",
       "      <td>-0.167845</td>\n",
       "      <td>-0.135771</td>\n",
       "      <td>-0.142857</td>\n",
       "      <td>-0.164669</td>\n",
       "      <td>-0.060108</td>\n",
       "    </tr>\n",
       "    <tr>\n",
       "      <th>9996</th>\n",
       "      <td>-0.167845</td>\n",
       "      <td>-0.135771</td>\n",
       "      <td>-0.142857</td>\n",
       "      <td>-0.164669</td>\n",
       "      <td>-0.060108</td>\n",
       "    </tr>\n",
       "    <tr>\n",
       "      <th>9997</th>\n",
       "      <td>-0.167845</td>\n",
       "      <td>-0.135771</td>\n",
       "      <td>-0.142857</td>\n",
       "      <td>-0.164669</td>\n",
       "      <td>-0.060108</td>\n",
       "    </tr>\n",
       "    <tr>\n",
       "      <th>9998</th>\n",
       "      <td>-0.167845</td>\n",
       "      <td>-0.135771</td>\n",
       "      <td>-0.142857</td>\n",
       "      <td>-0.164669</td>\n",
       "      <td>-0.060108</td>\n",
       "    </tr>\n",
       "    <tr>\n",
       "      <th>9999</th>\n",
       "      <td>-0.167845</td>\n",
       "      <td>-0.135771</td>\n",
       "      <td>-0.142857</td>\n",
       "      <td>-0.164669</td>\n",
       "      <td>-0.060108</td>\n",
       "    </tr>\n",
       "  </tbody>\n",
       "</table>\n",
       "<p>10000 rows × 5 columns</p>\n",
       "</div>"
      ],
      "text/plain": [
       "      RHepatitis  proteins  hbsag_anti  consciousness     hbeag\n",
       "0      -0.167845 -0.135771   -0.142857      -0.164669 -0.060108\n",
       "1      -0.167845  7.365366   -0.142857      -0.164669 -0.060108\n",
       "2      -0.167845 -0.135771   -0.142857      -0.164669 -0.060108\n",
       "3      -0.167845 -0.135771   -0.142857      -0.164669 -0.060108\n",
       "4      -0.167845 -0.135771   -0.142857      -0.164669 -0.060108\n",
       "...          ...       ...         ...            ...       ...\n",
       "9995   -0.167845 -0.135771   -0.142857      -0.164669 -0.060108\n",
       "9996   -0.167845 -0.135771   -0.142857      -0.164669 -0.060108\n",
       "9997   -0.167845 -0.135771   -0.142857      -0.164669 -0.060108\n",
       "9998   -0.167845 -0.135771   -0.142857      -0.164669 -0.060108\n",
       "9999   -0.167845 -0.135771   -0.142857      -0.164669 -0.060108\n",
       "\n",
       "[10000 rows x 5 columns]"
      ]
     },
     "execution_count": 18,
     "metadata": {},
     "output_type": "execute_result"
    }
   ],
   "source": [
    "df_reduced = df[requested_features]\n",
    "df_reduced"
   ]
  },
  {
   "cell_type": "code",
   "execution_count": 20,
   "metadata": {},
   "outputs": [],
   "source": [
    "selector = SelectFromModel(estimator=GradientBoostingClassifier()).fit(X, y)"
   ]
  },
  {
   "cell_type": "code",
   "execution_count": 21,
   "metadata": {},
   "outputs": [
    {
     "ename": "AttributeError",
     "evalue": "'GradientBoostingClassifier' object has no attribute 'coef_'",
     "output_type": "error",
     "traceback": [
      "\u001b[0;31m---------------------------------------------------------------------------\u001b[0m",
      "\u001b[0;31mAttributeError\u001b[0m                            Traceback (most recent call last)",
      "\u001b[0;32m<ipython-input-21-a792b5002db9>\u001b[0m in \u001b[0;36m<module>\u001b[0;34m\u001b[0m\n\u001b[0;32m----> 1\u001b[0;31m \u001b[0mselector\u001b[0m\u001b[0;34m.\u001b[0m\u001b[0mestimator_\u001b[0m\u001b[0;34m.\u001b[0m\u001b[0mcoef_\u001b[0m\u001b[0;34m\u001b[0m\u001b[0;34m\u001b[0m\u001b[0m\n\u001b[0m",
      "\u001b[0;31mAttributeError\u001b[0m: 'GradientBoostingClassifier' object has no attribute 'coef_'"
     ]
    }
   ],
   "source": [
    "selector.estimator_.coef_"
   ]
  },
  {
   "cell_type": "code",
   "execution_count": null,
   "metadata": {},
   "outputs": [],
   "source": []
  }
 ],
 "metadata": {
  "kernelspec": {
   "display_name": "Python 3",
   "language": "python",
   "name": "python3"
  },
  "language_info": {
   "codemirror_mode": {
    "name": "ipython",
    "version": 3
   },
   "file_extension": ".py",
   "mimetype": "text/x-python",
   "name": "python",
   "nbconvert_exporter": "python",
   "pygments_lexer": "ipython3",
   "version": "3.7.7"
  }
 },
 "nbformat": 4,
 "nbformat_minor": 4
}
