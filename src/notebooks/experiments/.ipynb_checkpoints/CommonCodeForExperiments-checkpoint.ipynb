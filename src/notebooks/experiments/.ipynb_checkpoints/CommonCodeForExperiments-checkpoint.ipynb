{
 "cells": [
  {
   "cell_type": "markdown",
   "metadata": {},
   "source": [
    "# Common Code for Experiments\n",
    "\n",
    "This notebook contains common code that is used in the various causal experiments done in AitiaExplorer.\n",
    "\n",
    "## Contents\n",
    "\n",
    "TBD"
   ]
  },
  {
   "cell_type": "markdown",
   "metadata": {},
   "source": [
    "## References\n",
    "\n",
    "Portions of the code dealing with selecting the optimal number of clusters is based on the article and code provided at:\n",
    "\n",
    "\n",
    "https://towardsdatascience.com/gaussian-mixture-model-clusterization-how-to-select-the-number-of-components-clusters-553bef45f6e4"
   ]
  },
  {
   "cell_type": "code",
   "execution_count": 1,
   "metadata": {},
   "outputs": [],
   "source": [
    "# imports\n",
    "\n",
    "import os\n",
    "import sys\n",
    "import pandas as pd\n",
    "import networkx as nx\n",
    "import numpy as np\n",
    "from sklearn import metrics\n",
    "from sklearn import mixture\n",
    "import matplotlib.pyplot as plt\n",
    "from sklearn.model_selection import train_test_split\n",
    "from pycausal.pycausal import pycausal\n",
    "\n",
    "module_path = os.path.abspath(os.path.join('../..'))\n",
    "if module_path not in sys.path:\n",
    "    sys.path.append(module_path)\n",
    "from aitia_explorer.app import App\n",
    "\n",
    "# stop the warning clutter\n",
    "import warnings\n",
    "warnings.filterwarnings('ignore')"
   ]
  },
  {
   "cell_type": "markdown",
   "metadata": {},
   "source": [
    "## Utility Functions"
   ]
  },
  {
   "cell_type": "code",
   "execution_count": 2,
   "metadata": {},
   "outputs": [],
   "source": [
    "def select_best(arr, x):\n",
    "    \"\"\"\n",
    "    returns the set of x configurations with shorter distance\n",
    "    \"\"\"\n",
    "    dx = np.argsort(arr)[:x]\n",
    "    return arr[dx]"
   ]
  },
  {
   "cell_type": "markdown",
   "metadata": {},
   "source": [
    "## BIC Score Functions"
   ]
  },
  {
   "cell_type": "code",
   "execution_count": 3,
   "metadata": {},
   "outputs": [],
   "source": [
    "def get_bic_scores(min_clusters, max_clusters, df):\n",
    "    n_clusters = np.arange(min_clusters, max_clusters)\n",
    "    bics = []\n",
    "    bics_err = []\n",
    "    iterations = max_clusters\n",
    "    for n in n_clusters:\n",
    "        tmp_bic = []\n",
    "        for _ in range(iterations):\n",
    "            gmm = mixture.GaussianMixture(n, n_init=2).fit(df)\n",
    "            tmp_bic.append(gmm.bic(df))\n",
    "        val = np.mean(select_best(np.array(tmp_bic), int(iterations / 5)))\n",
    "        err = np.std(tmp_bic)\n",
    "        bics.append(val)\n",
    "        bics_err.append(err)\n",
    "    return bics, bics_err"
   ]
  },
  {
   "cell_type": "code",
   "execution_count": 4,
   "metadata": {},
   "outputs": [],
   "source": [
    "def plot_bic_aic_scores(bics, bics_err, min_clusters, max_clusters):\n",
    "    n_clusters = np.arange(min_clusters, max_clusters)\n",
    "    plt.errorbar(n_clusters, bics, yerr=bics_err, label='BIC')\n",
    "    plt.title(\"BIC and AIC Scores\", fontsize=20)\n",
    "    plt.xticks(n_clusters)\n",
    "    plt.xlabel(\"N. of clusters\")\n",
    "    plt.ylabel(\"Score\")\n",
    "    plt.legend()\n",
    "    plt.show()"
   ]
  },
  {
   "cell_type": "code",
   "execution_count": 5,
   "metadata": {},
   "outputs": [],
   "source": [
    "def plot_bic_gradient(bics, bics_err, min_clusters, max_cluster):\n",
    "    n_clusters = np.arange(min_clusters, max_clusters)\n",
    "    plt.errorbar(n_clusters, np.gradient(bics), yerr=bics_err, label='BIC')\n",
    "    plt.title(\"Gradient of BIC Scores\", fontsize=20)\n",
    "    plt.xticks(n_clusters)\n",
    "    plt.xlabel(\"N. of clusters\")\n",
    "    plt.ylabel(\"grad(BIC)\")\n",
    "    plt.legend()\n",
    "    plt.show()"
   ]
  },
  {
   "cell_type": "markdown",
   "metadata": {},
   "source": [
    "## Train / Test Distance Functions"
   ]
  },
  {
   "cell_type": "code",
   "execution_count": 6,
   "metadata": {},
   "outputs": [],
   "source": [
    "# As provided at https://stackoverflow.com/questions/26079881/kl-divergence-of-two-gmms. \n",
    "\n",
    "def gmm_js(gmm_p, gmm_q, n_samples=10 ** 5):\n",
    "    X = gmm_p.sample(n_samples)[0]\n",
    "    log_p_X = gmm_p.score_samples(X)\n",
    "    log_q_X = gmm_q.score_samples(X)\n",
    "    log_mix_X = np.logaddexp(log_p_X, log_q_X)\n",
    "\n",
    "    Y = gmm_q.sample(n_samples)[0]\n",
    "    log_p_Y = gmm_p.score_samples(Y)\n",
    "    log_q_Y = gmm_q.score_samples(Y)\n",
    "    log_mix_Y = np.logaddexp(log_p_Y, log_q_Y)\n",
    "\n",
    "    return np.sqrt((log_p_X.mean() - (log_mix_X.mean() - np.log(2))\n",
    "                    + log_q_Y.mean() - (log_mix_Y.mean() - np.log(2))) / 2)\n"
   ]
  },
  {
   "cell_type": "code",
   "execution_count": 7,
   "metadata": {},
   "outputs": [],
   "source": [
    "def get_train_test_distance(min_clusters, max_clusters, df):\n",
    "    n_clusters = np.arange(min_clusters, max_clusters)\n",
    "    iterations = max_clusters\n",
    "    results = []\n",
    "    res_sigs = []\n",
    "    for n in n_clusters:\n",
    "        dist = []\n",
    "        for iteration in range(iterations):\n",
    "            train, test = train_test_split(df, test_size=0.5)\n",
    "            gmm_train = mixture.GaussianMixture(n, n_init=2).fit(train)\n",
    "            gmm_test = mixture.GaussianMixture(n, n_init=2).fit(test)\n",
    "            dist.append(gmm_js(gmm_train, gmm_test))\n",
    "        selec = select_best(np.array(dist), int(iterations / 5))\n",
    "        result = np.mean(selec)\n",
    "        res_sig = np.std(selec)\n",
    "        results.append(result)\n",
    "        res_sigs.append(res_sig)\n",
    "    return results, res_sigs"
   ]
  },
  {
   "cell_type": "markdown",
   "metadata": {},
   "source": [
    "## Silhouette Coefficient Functions"
   ]
  },
  {
   "cell_type": "code",
   "execution_count": 8,
   "metadata": {},
   "outputs": [],
   "source": [
    "def plot_train_test_distance(results, res_sigs, min_clusters, max_clusters):\n",
    "    n_clusters = np.arange(min_clusters, max_clusters)\n",
    "    plt.errorbar(n_clusters, results, yerr=res_sigs)\n",
    "    plt.title(\"Distance between Train and Test GMMs\", fontsize=20)\n",
    "    plt.xticks(n_clusters)\n",
    "    plt.xlabel(\"N. of clusters\")\n",
    "    plt.ylabel(\"Distance\")\n",
    "    plt.show()"
   ]
  },
  {
   "cell_type": "code",
   "execution_count": 9,
   "metadata": {},
   "outputs": [],
   "source": [
    "def get_silhouette_coefficient(min_clusters, max_clusters, df):\n",
    "    n_clusters = np.arange(min_clusters, max_clusters)\n",
    "    sils = []\n",
    "    sils_err = []\n",
    "    iterations = max_clusters\n",
    "    for n in n_clusters:\n",
    "        tmp_sil = []\n",
    "        for _ in range(iterations):\n",
    "            gmm = mixture.GaussianMixture(n, n_init=2).fit(df)\n",
    "            labels = gmm.predict(df)\n",
    "            sil = metrics.silhouette_score(df, labels, metric='euclidean')\n",
    "            tmp_sil.append(sil)\n",
    "        val = np.mean(select_best(np.array(tmp_sil), int(iterations / 5)))\n",
    "        err = np.std(tmp_sil)\n",
    "        sils.append(val)\n",
    "        sils_err.append(err)\n",
    "    return sils, sils_err"
   ]
  },
  {
   "cell_type": "code",
   "execution_count": 10,
   "metadata": {},
   "outputs": [],
   "source": [
    "def plot_silhouette_coefficient(sils, sils_err, min_clusters, max_clusters):\n",
    "    n_clusters = np.arange(min_clusters, max_clusters)\n",
    "    plt.errorbar(n_clusters, sils, yerr=sils_err)\n",
    "    plt.title(\"Silhouette Scores\", fontsize=20)\n",
    "    plt.xticks(n_clusters)\n",
    "    plt.xlabel(\"N. of clusters\")\n",
    "    plt.ylabel(\"Score\")\n",
    "    plt.show()"
   ]
  },
  {
   "cell_type": "code",
   "execution_count": null,
   "metadata": {},
   "outputs": [],
   "source": []
  }
 ],
 "metadata": {
  "kernelspec": {
   "display_name": "Python 3",
   "language": "python",
   "name": "python3"
  },
  "language_info": {
   "codemirror_mode": {
    "name": "ipython",
    "version": 3
   },
   "file_extension": ".py",
   "mimetype": "text/x-python",
   "name": "python",
   "nbconvert_exporter": "python",
   "pygments_lexer": "ipython3",
   "version": "3.7.7"
  }
 },
 "nbformat": 4,
 "nbformat_minor": 4
}
