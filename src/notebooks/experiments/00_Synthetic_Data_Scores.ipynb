{
 "cells": [
  {
   "cell_type": "code",
   "execution_count": 90,
   "metadata": {},
   "outputs": [],
   "source": [
    "import os\n",
    "import sys\n",
    "import numpy as np\n",
    "import pandas as pd\n",
    "import matplotlib.pyplot as plt \n",
    "from sklearn import mixture\n",
    "from sklearn.linear_model import LinearRegression, SGDClassifier\n",
    "from sklearn.ensemble import RandomForestClassifier, GradientBoostingClassifier\n",
    "from xgboost import XGBClassifier\n",
    "from sklearn.model_selection import train_test_split\n",
    "\n",
    "module_path = os.path.abspath(os.path.join('../..'))\n",
    "if module_path not in sys.path:\n",
    "    sys.path.append(module_path)\n",
    "from aitia_explorer.app import App\n",
    "\n",
    "# stop the warning clutter\n",
    "import warnings\n",
    "warnings.filterwarnings('ignore')"
   ]
  },
  {
   "cell_type": "code",
   "execution_count": 49,
   "metadata": {},
   "outputs": [],
   "source": [
    "def get_gmm_sample_data(incoming_df, column_list, sample_size):\n",
    "    \"\"\"\n",
    "    Unsupervised Learning in the form of BayesianGaussianMixture to create sample data.\n",
    "    \"\"\"\n",
    "    gmm = mixture.BayesianGaussianMixture(n_components=2,\n",
    "                                          covariance_type=\"full\",\n",
    "                                          n_init=100,\n",
    "                                          random_state=42).fit(incoming_df)\n",
    "    clustered_data = gmm.sample(sample_size)\n",
    "    clustered_df = pd.DataFrame(clustered_data[0], columns=column_list)\n",
    "    return clustered_df\n",
    "\n",
    "def get_synthetic_training_data(incoming_df):\n",
    "    \"\"\"\n",
    "    Creates synthetic training data by sampling from a BayesianGaussianMixture supplied distribution.\n",
    "    Synthetic data is then labelled differently from the original data.\n",
    "    \"\"\"\n",
    "    # number of records in df\n",
    "    number_records = len(incoming_df.index)\n",
    "\n",
    "    # get sample data from the unsupervised BayesianGaussianMixture\n",
    "    df_bgmm = get_gmm_sample_data(incoming_df, list(incoming_df), number_records)\n",
    "\n",
    "    # set the class on the samples\n",
    "    df_bgmm['original_data'] = 0\n",
    "\n",
    "    # add the class to a copy of incoming df, stops weird errors due to changed dataframes\n",
    "    working_df = incoming_df.copy(deep=True)\n",
    "    working_df['original_data'] = 1\n",
    "\n",
    "    # concatinate the two dataframes\n",
    "    df_combined = working_df.append(df_bgmm, ignore_index=True)\n",
    "\n",
    "    # shuffle the data\n",
    "    df_combined = df_combined.sample(frac=1)\n",
    "\n",
    "    # get the X and y\n",
    "    x = df_combined.drop(['original_data'], axis=1).values\n",
    "    y = df_combined['original_data'].values\n",
    "    y = y.ravel()\n",
    "\n",
    "    return x, y"
   ]
  },
  {
   "cell_type": "code",
   "execution_count": 4,
   "metadata": {},
   "outputs": [],
   "source": [
    "aitia = App()"
   ]
  },
  {
   "cell_type": "code",
   "execution_count": 5,
   "metadata": {},
   "outputs": [],
   "source": [
    "df = aitia.data.hepar2_10k_data()"
   ]
  },
  {
   "cell_type": "code",
   "execution_count": 50,
   "metadata": {},
   "outputs": [],
   "source": [
    "# get ths synthetic data\n",
    "X, y = get_synthetic_training_data(df)"
   ]
  },
  {
   "cell_type": "code",
   "execution_count": 52,
   "metadata": {},
   "outputs": [],
   "source": [
    "X_train, X_test, y_train, y_test = train_test_split(X, y, test_size=0.25, random_state=42)"
   ]
  },
  {
   "cell_type": "code",
   "execution_count": 95,
   "metadata": {},
   "outputs": [],
   "source": [
    "models = [LinearRegression, \n",
    "          SGDClassifier, \n",
    "          RandomForestClassifier, \n",
    "          GradientBoostingClassifier, \n",
    "          XGBClassifier]"
   ]
  },
  {
   "cell_type": "code",
   "execution_count": 94,
   "metadata": {},
   "outputs": [
    {
     "data": {
      "text/html": [
       "<div>\n",
       "<style scoped>\n",
       "    .dataframe tbody tr th:only-of-type {\n",
       "        vertical-align: middle;\n",
       "    }\n",
       "\n",
       "    .dataframe tbody tr th {\n",
       "        vertical-align: top;\n",
       "    }\n",
       "\n",
       "    .dataframe thead th {\n",
       "        text-align: right;\n",
       "    }\n",
       "</style>\n",
       "<table border=\"1\" class=\"dataframe\">\n",
       "  <thead>\n",
       "    <tr style=\"text-align: right;\">\n",
       "      <th></th>\n",
       "      <th>LinearRegression</th>\n",
       "      <th>SGDClassifier</th>\n",
       "      <th>RandomForestClassifier</th>\n",
       "      <th>GradientBoostingClassifier</th>\n",
       "      <th>XGBClassifier</th>\n",
       "    </tr>\n",
       "  </thead>\n",
       "  <tbody>\n",
       "    <tr>\n",
       "      <th>0</th>\n",
       "      <td>-0.008803</td>\n",
       "      <td>0.5188</td>\n",
       "      <td>1.0</td>\n",
       "      <td>0.9994</td>\n",
       "      <td>1.0</td>\n",
       "    </tr>\n",
       "  </tbody>\n",
       "</table>\n",
       "</div>"
      ],
      "text/plain": [
       "   LinearRegression  SGDClassifier  RandomForestClassifier  \\\n",
       "0         -0.008803         0.5188                     1.0   \n",
       "\n",
       "   GradientBoostingClassifier  XGBClassifier  \n",
       "0                      0.9994            1.0  "
      ]
     },
     "execution_count": 94,
     "metadata": {},
     "output_type": "execute_result"
    }
   ],
   "source": [
    "model_results = dict()\n",
    "for model in models:\n",
    "    current_model = model()\n",
    "    # fit the model\n",
    "    current_model.fit(X_train, y_train) \n",
    "    # score\n",
    "    model_results[type(current_model).__name__] = [current_model.score(X_test, y_test)]\n",
    "\n",
    "model_df = pd.DataFrame(model_results)\n",
    "model_df"
   ]
  },
  {
   "cell_type": "code",
   "execution_count": null,
   "metadata": {},
   "outputs": [],
   "source": []
  }
 ],
 "metadata": {
  "kernelspec": {
   "display_name": "Python 3",
   "language": "python",
   "name": "python3"
  },
  "language_info": {
   "codemirror_mode": {
    "name": "ipython",
    "version": 3
   },
   "file_extension": ".py",
   "mimetype": "text/x-python",
   "name": "python",
   "nbconvert_exporter": "python",
   "pygments_lexer": "ipython3",
   "version": "3.7.7"
  }
 },
 "nbformat": 4,
 "nbformat_minor": 4
}
