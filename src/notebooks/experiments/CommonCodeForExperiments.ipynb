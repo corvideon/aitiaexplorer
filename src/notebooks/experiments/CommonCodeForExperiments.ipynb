{
 "cells": [
  {
   "cell_type": "markdown",
   "metadata": {},
   "source": [
    "# Common Code for Experiments\n",
    "\n",
    "This notebook contains common code that is used in the various causal experiments done in AitiaExplorer.\n",
    "\n",
    "## Contents\n",
    "\n",
    "TBD"
   ]
  },
  {
   "cell_type": "markdown",
   "metadata": {},
   "source": [
    "## References\n",
    "\n",
    "Portions of the code dealing with selecting the optimal number of clusters is based on the article and code provided at:\n",
    "\n",
    "\n",
    "https://towardsdatascience.com/gaussian-mixture-model-clusterization-how-to-select-the-number-of-components-clusters-553bef45f6e4"
   ]
  },
  {
   "cell_type": "code",
   "execution_count": 2,
   "metadata": {},
   "outputs": [],
   "source": [
    "# imports\n",
    "\n",
    "import os\n",
    "import sys\n",
    "import pandas as pd\n",
    "import networkx as nx\n",
    "import numpy as np\n",
    "from sklearn import metrics\n",
    "import matplotlib.pyplot as plt\n",
    "from sklearn.model_selection import train_test_split\n",
    "from pycausal.pycausal import pycausal\n",
    "\n",
    "module_path = os.path.abspath(os.path.join('../..'))\n",
    "if module_path not in sys.path:\n",
    "    sys.path.append(module_path)\n",
    "from aitia_explorer.app import App\n",
    "\n",
    "# stop the warning clutter\n",
    "import warnings\n",
    "warnings.filterwarnings('ignore')"
   ]
  },
  {
   "cell_type": "code",
   "execution_count": 1,
   "metadata": {},
   "outputs": [],
   "source": [
    "def select_best(arr, x):\n",
    "    \"\"\"\n",
    "    returns the set of x configurations with shorter distance\n",
    "    \"\"\"\n",
    "    dx = np.argsort(arr)[:x]\n",
    "    return arr[dx]"
   ]
  },
  {
   "cell_type": "code",
   "execution_count": 5,
   "metadata": {},
   "outputs": [],
   "source": [
    "def get_bic_scores(min, max):\n",
    "    n_clusters = np.arange(min, max)\n",
    "    bics = []\n",
    "    bics_err = []\n",
    "    iterations = max\n",
    "    for n in n_clusters:\n",
    "        tmp_bic = []\n",
    "        for _ in range(iterations):\n",
    "            gmm = mixture.GaussianMixture(n, n_init=2).fit(X)\n",
    "            tmp_bic.append(gmm.bic(X))\n",
    "        val = np.mean(select_best(np.array(tmp_bic), int(iterations / 5)))\n",
    "        err = np.std(tmp_bic)\n",
    "        bics.append(val)\n",
    "        bics_err.append(err)\n",
    "    return bics, bics_err"
   ]
  },
  {
   "cell_type": "code",
   "execution_count": 6,
   "metadata": {},
   "outputs": [],
   "source": [
    "def plot_bic_aic_scores(bics, bics_err):\n",
    "    plt.errorbar(n_clusters, bics, yerr=bics_err, label='BIC')\n",
    "    plt.title(\"BIC and AIC Scores\", fontsize=20)\n",
    "    plt.xticks(n_clusters)\n",
    "    plt.xlabel(\"N. of clusters\")\n",
    "    plt.ylabel(\"Score\")\n",
    "    plt.legend()"
   ]
  },
  {
   "cell_type": "code",
   "execution_count": 8,
   "metadata": {},
   "outputs": [],
   "source": [
    "def plot_bic_gradient(bics, bics_err):\n",
    "    plt.errorbar(n_clusters, np.gradient(bics), yerr=bics_err, label='BIC')\n",
    "    plt.title(\"Gradient of BIC Scores\", fontsize=20)\n",
    "    plt.xticks(n_clusters)\n",
    "    plt.xlabel(\"N. of clusters\")\n",
    "    plt.ylabel(\"grad(BIC)\")\n",
    "    plt.legend()"
   ]
  },
  {
   "cell_type": "code",
   "execution_count": null,
   "metadata": {},
   "outputs": [],
   "source": []
  }
 ],
 "metadata": {
  "kernelspec": {
   "display_name": "Python 3",
   "language": "python",
   "name": "python3"
  },
  "language_info": {
   "codemirror_mode": {
    "name": "ipython",
    "version": 3
   },
   "file_extension": ".py",
   "mimetype": "text/x-python",
   "name": "python",
   "nbconvert_exporter": "python",
   "pygments_lexer": "ipython3",
   "version": "3.7.7"
  }
 },
 "nbformat": 4,
 "nbformat_minor": 4
}
