{
 "cells": [
  {
   "cell_type": "code",
   "execution_count": 2,
   "metadata": {},
   "outputs": [],
   "source": [
    "# imports\n",
    "\n",
    "import os\n",
    "import sys\n",
    "import networkx as nx\n",
    "from pycausal.pycausal import pycausal\n",
    "\n",
    "module_path = os.path.abspath(os.path.join('../..'))\n",
    "if module_path not in sys.path:\n",
    "    sys.path.append(module_path)\n",
    "from aitia_explorer.app import App\n",
    "\n",
    "# stop the warning clutter\n",
    "import warnings\n",
    "warnings.filterwarnings('ignore')"
   ]
  },
  {
   "cell_type": "code",
   "execution_count": 3,
   "metadata": {},
   "outputs": [],
   "source": [
    "aitia = App()"
   ]
  },
  {
   "cell_type": "code",
   "execution_count": 4,
   "metadata": {},
   "outputs": [],
   "source": [
    "feature_selection_list = []\n",
    "feature_selection_list.append(aitia.feature_selection.LINEAR_REGRESSION)\n",
    "feature_selection_list.append(aitia.feature_selection.PRINCIPAL_FEATURE_ANALYSIS)\n",
    "feature_selection_list.append(aitia.feature_selection.RANDOM_FOREST)\n",
    "feature_selection_list.append(aitia.feature_selection.RECURSIVE_FEATURE_ELIMINATION)\n",
    "feature_selection_list.append(aitia.feature_selection.XGBOOST)"
   ]
  },
  {
   "cell_type": "code",
   "execution_count": 5,
   "metadata": {},
   "outputs": [],
   "source": [
    "algorithm_list = []\n",
    "algorithm_list.append(aitia.algo_runner.PC)\n",
    "algorithm_list.append(aitia.algo_runner.FCI)\n",
    "algorithm_list.append(aitia.algo_runner.FGES_continuous)\n",
    "algorithm_list.append(aitia.algo_runner.GFCI_continuous)\n",
    "algorithm_list.append(aitia.algo_runner.RFCI_continuous)"
   ]
  },
  {
   "cell_type": "code",
   "execution_count": 6,
   "metadata": {},
   "outputs": [],
   "source": [
    "pc = pycausal()\n",
    "pc.start_vm()"
   ]
  },
  {
   "cell_type": "code",
   "execution_count": 7,
   "metadata": {},
   "outputs": [],
   "source": [
    "hepar2_df = aitia.data.hepar2_100_data()"
   ]
  },
  {
   "cell_type": "code",
   "execution_count": 8,
   "metadata": {},
   "outputs": [],
   "source": [
    "target_str_dot = aitia.data.hepar2_graph()"
   ]
  },
  {
   "cell_type": "code",
   "execution_count": 9,
   "metadata": {},
   "outputs": [
    {
     "name": "stdout",
     "output_type": "stream",
     "text": [
      "Running tests on feature selected by  LINEAR_REGRESSION\n",
      "         Algorithm      AUPR  SHD\n",
      "0               PC  0.044292  139\n",
      "1              FCI  0.044292  139\n",
      "2  FGES-continuous  0.516514  122\n",
      "3  GFCI-continuous  0.516514  122\n",
      "4  RFCI-continuous  0.044292  139\n",
      "Running tests on feature selected by  PRINCIPAL_FEATURE_ANALYSIS\n",
      "         Algorithm      AUPR  SHD\n",
      "0               PC  0.012551  140\n",
      "1              FCI  0.012551  140\n",
      "2  FGES-continuous  0.512551  123\n",
      "3  GFCI-continuous  0.512551  123\n",
      "4  RFCI-continuous  0.012551  140\n",
      "Running tests on feature selected by  RANDOM_FOREST\n",
      "         Algorithm      AUPR  SHD\n",
      "0               PC  0.012551  135\n",
      "1              FCI  0.012551  135\n",
      "2  FGES-continuous  0.012551  126\n",
      "3  GFCI-continuous  0.012551  126\n",
      "4  RFCI-continuous  0.012551  135\n",
      "Running tests on feature selected by  RECURSIVE_FEATURE_ELIMINATION\n",
      "         Algorithm      AUPR  SHD\n",
      "0               PC  0.012551  124\n",
      "1              FCI  0.012551  124\n",
      "2  FGES-continuous  0.012551  124\n",
      "3  GFCI-continuous  0.012551  124\n",
      "4  RFCI-continuous  0.012551  124\n",
      "Running tests on feature selected by  XGBOOST\n",
      "         Algorithm      AUPR  SHD\n",
      "0               PC  0.266514  123\n",
      "1              FCI  0.266514  123\n",
      "2  FGES-continuous  0.266514  123\n",
      "3  GFCI-continuous  0.266514  123\n",
      "4  RFCI-continuous  0.266514  123\n"
     ]
    }
   ],
   "source": [
    "for feature_selection in feature_selection_list:\n",
    "    feature_func = feature_selection[1]\n",
    "    features = feature_func(hepar2_df, 10)\n",
    "    print(\"Running tests on feature selected by \", feature_selection[0])\n",
    "    df_reduced = aitia.get_reduced_dataframe(hepar2_df, features)\n",
    "    analysis_results, summary = aitia.run_causal_discovery(df_reduced, target_str_dot, algorithm_list, pc)\n",
    "    print(summary)"
   ]
  },
  {
   "cell_type": "code",
   "execution_count": 9,
   "metadata": {},
   "outputs": [],
   "source": []
  },
  {
   "cell_type": "code",
   "execution_count": null,
   "metadata": {},
   "outputs": [],
   "source": []
  }
 ],
 "metadata": {
  "kernelspec": {
   "display_name": "Python 3",
   "language": "python",
   "name": "python3"
  },
  "language_info": {
   "codemirror_mode": {
    "name": "ipython",
    "version": 3
   },
   "file_extension": ".py",
   "mimetype": "text/x-python",
   "name": "python",
   "nbconvert_exporter": "python",
   "pygments_lexer": "ipython3",
   "version": "3.7.7"
  }
 },
 "nbformat": 4,
 "nbformat_minor": 4
}
