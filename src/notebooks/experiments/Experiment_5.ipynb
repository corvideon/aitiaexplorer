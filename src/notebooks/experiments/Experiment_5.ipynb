{
 "cells": [
  {
   "cell_type": "code",
   "execution_count": 1,
   "metadata": {},
   "outputs": [],
   "source": [
    "%run CommonCodeForExperiments.ipynb"
   ]
  },
  {
   "cell_type": "code",
   "execution_count": 4,
   "metadata": {},
   "outputs": [],
   "source": [
    "import dowhy\n",
    "from dowhy import CausalModel\n",
    "import pandas as pd\n",
    "import numpy as np"
   ]
  },
  {
   "cell_type": "code",
   "execution_count": 2,
   "metadata": {},
   "outputs": [],
   "source": [
    "data = pd.read_csv(\"https://raw.githubusercontent.com/AMLab-Amsterdam/CEVAE/master/datasets/IHDP/csv/ihdp_npci_1.csv\", header = None)\n",
    "col =  [\"treatment\", \"y_factual\", \"y_cfactual\", \"mu0\", \"mu1\" ,]\n",
    "for i in range(1,26):\n",
    "    col.append(\"x\"+str(i))\n",
    "data.columns = col\n",
    "data = data.astype({\"treatment\":'bool'}, copy=False)"
   ]
  },
  {
   "cell_type": "code",
   "execution_count": 3,
   "metadata": {},
   "outputs": [
    {
     "data": {
      "text/html": [
       "<div>\n",
       "<style scoped>\n",
       "    .dataframe tbody tr th:only-of-type {\n",
       "        vertical-align: middle;\n",
       "    }\n",
       "\n",
       "    .dataframe tbody tr th {\n",
       "        vertical-align: top;\n",
       "    }\n",
       "\n",
       "    .dataframe thead th {\n",
       "        text-align: right;\n",
       "    }\n",
       "</style>\n",
       "<table border=\"1\" class=\"dataframe\">\n",
       "  <thead>\n",
       "    <tr style=\"text-align: right;\">\n",
       "      <th></th>\n",
       "      <th>treatment</th>\n",
       "      <th>y_factual</th>\n",
       "      <th>y_cfactual</th>\n",
       "      <th>mu0</th>\n",
       "      <th>mu1</th>\n",
       "      <th>x1</th>\n",
       "      <th>x2</th>\n",
       "      <th>x3</th>\n",
       "      <th>x4</th>\n",
       "      <th>x5</th>\n",
       "      <th>...</th>\n",
       "      <th>x16</th>\n",
       "      <th>x17</th>\n",
       "      <th>x18</th>\n",
       "      <th>x19</th>\n",
       "      <th>x20</th>\n",
       "      <th>x21</th>\n",
       "      <th>x22</th>\n",
       "      <th>x23</th>\n",
       "      <th>x24</th>\n",
       "      <th>x25</th>\n",
       "    </tr>\n",
       "  </thead>\n",
       "  <tbody>\n",
       "    <tr>\n",
       "      <th>0</th>\n",
       "      <td>0</td>\n",
       "      <td>5.599916</td>\n",
       "      <td>4.318780</td>\n",
       "      <td>3.268256</td>\n",
       "      <td>6.854457</td>\n",
       "      <td>-0.528603</td>\n",
       "      <td>-0.343455</td>\n",
       "      <td>1.128554</td>\n",
       "      <td>0.161703</td>\n",
       "      <td>-0.316603</td>\n",
       "      <td>...</td>\n",
       "      <td>1</td>\n",
       "      <td>1</td>\n",
       "      <td>1</td>\n",
       "      <td>1</td>\n",
       "      <td>0</td>\n",
       "      <td>0</td>\n",
       "      <td>0</td>\n",
       "      <td>0</td>\n",
       "      <td>0</td>\n",
       "      <td>0</td>\n",
       "    </tr>\n",
       "    <tr>\n",
       "      <th>1</th>\n",
       "      <td>1</td>\n",
       "      <td>6.875856</td>\n",
       "      <td>7.856495</td>\n",
       "      <td>6.636059</td>\n",
       "      <td>7.562718</td>\n",
       "      <td>-1.736945</td>\n",
       "      <td>-1.802002</td>\n",
       "      <td>0.383828</td>\n",
       "      <td>2.244320</td>\n",
       "      <td>-0.629189</td>\n",
       "      <td>...</td>\n",
       "      <td>1</td>\n",
       "      <td>1</td>\n",
       "      <td>1</td>\n",
       "      <td>1</td>\n",
       "      <td>0</td>\n",
       "      <td>0</td>\n",
       "      <td>0</td>\n",
       "      <td>0</td>\n",
       "      <td>0</td>\n",
       "      <td>0</td>\n",
       "    </tr>\n",
       "    <tr>\n",
       "      <th>2</th>\n",
       "      <td>1</td>\n",
       "      <td>2.996273</td>\n",
       "      <td>6.633952</td>\n",
       "      <td>1.570536</td>\n",
       "      <td>6.121617</td>\n",
       "      <td>-0.807451</td>\n",
       "      <td>-0.202946</td>\n",
       "      <td>-0.360898</td>\n",
       "      <td>-0.879606</td>\n",
       "      <td>0.808706</td>\n",
       "      <td>...</td>\n",
       "      <td>1</td>\n",
       "      <td>0</td>\n",
       "      <td>1</td>\n",
       "      <td>1</td>\n",
       "      <td>0</td>\n",
       "      <td>0</td>\n",
       "      <td>0</td>\n",
       "      <td>0</td>\n",
       "      <td>0</td>\n",
       "      <td>0</td>\n",
       "    </tr>\n",
       "    <tr>\n",
       "      <th>3</th>\n",
       "      <td>1</td>\n",
       "      <td>1.366206</td>\n",
       "      <td>5.697239</td>\n",
       "      <td>1.244738</td>\n",
       "      <td>5.889125</td>\n",
       "      <td>0.390083</td>\n",
       "      <td>0.596582</td>\n",
       "      <td>-1.850350</td>\n",
       "      <td>-0.879606</td>\n",
       "      <td>-0.004017</td>\n",
       "      <td>...</td>\n",
       "      <td>1</td>\n",
       "      <td>0</td>\n",
       "      <td>1</td>\n",
       "      <td>1</td>\n",
       "      <td>0</td>\n",
       "      <td>0</td>\n",
       "      <td>0</td>\n",
       "      <td>0</td>\n",
       "      <td>0</td>\n",
       "      <td>0</td>\n",
       "    </tr>\n",
       "    <tr>\n",
       "      <th>4</th>\n",
       "      <td>1</td>\n",
       "      <td>1.963538</td>\n",
       "      <td>6.202582</td>\n",
       "      <td>1.685048</td>\n",
       "      <td>6.191994</td>\n",
       "      <td>-1.045229</td>\n",
       "      <td>-0.602710</td>\n",
       "      <td>0.011465</td>\n",
       "      <td>0.161703</td>\n",
       "      <td>0.683672</td>\n",
       "      <td>...</td>\n",
       "      <td>1</td>\n",
       "      <td>1</td>\n",
       "      <td>1</td>\n",
       "      <td>1</td>\n",
       "      <td>0</td>\n",
       "      <td>0</td>\n",
       "      <td>0</td>\n",
       "      <td>0</td>\n",
       "      <td>0</td>\n",
       "      <td>0</td>\n",
       "    </tr>\n",
       "  </tbody>\n",
       "</table>\n",
       "<p>5 rows × 30 columns</p>\n",
       "</div>"
      ],
      "text/plain": [
       "   treatment  y_factual  y_cfactual       mu0       mu1        x1        x2  \\\n",
       "0          0   5.599916    4.318780  3.268256  6.854457 -0.528603 -0.343455   \n",
       "1          1   6.875856    7.856495  6.636059  7.562718 -1.736945 -1.802002   \n",
       "2          1   2.996273    6.633952  1.570536  6.121617 -0.807451 -0.202946   \n",
       "3          1   1.366206    5.697239  1.244738  5.889125  0.390083  0.596582   \n",
       "4          1   1.963538    6.202582  1.685048  6.191994 -1.045229 -0.602710   \n",
       "\n",
       "         x3        x4        x5  ...  x16  x17  x18  x19  x20  x21  x22  x23  \\\n",
       "0  1.128554  0.161703 -0.316603  ...    1    1    1    1    0    0    0    0   \n",
       "1  0.383828  2.244320 -0.629189  ...    1    1    1    1    0    0    0    0   \n",
       "2 -0.360898 -0.879606  0.808706  ...    1    0    1    1    0    0    0    0   \n",
       "3 -1.850350 -0.879606 -0.004017  ...    1    0    1    1    0    0    0    0   \n",
       "4  0.011465  0.161703  0.683672  ...    1    1    1    1    0    0    0    0   \n",
       "\n",
       "   x24  x25  \n",
       "0    0    0  \n",
       "1    0    0  \n",
       "2    0    0  \n",
       "3    0    0  \n",
       "4    0    0  \n",
       "\n",
       "[5 rows x 30 columns]"
      ]
     },
     "execution_count": 3,
     "metadata": {},
     "output_type": "execute_result"
    }
   ],
   "source": [
    "data['treatment'] = (data['treatment'] == True).astype(int)\n",
    "data['treatment'] = (data['treatment'] == False).astype(int)\n",
    "data.head()"
   ]
  },
  {
   "cell_type": "code",
   "execution_count": 6,
   "metadata": {},
   "outputs": [
    {
     "name": "stderr",
     "output_type": "stream",
     "text": [
      "WARNING:dowhy.causal_model:Causal Graph not provided. DoWhy will construct a graph based on data inputs.\n",
      "INFO:dowhy.causal_model:Model to find the causal effect of treatment ['treatment'] on outcome ['y_factual']\n"
     ]
    }
   ],
   "source": [
    "# Create a causal model from the data and given common causes.\n",
    "xs = \"\"\n",
    "for i in range(1,26):\n",
    "    xs += (\"x\"+str(i)+\"+\")\n",
    "model=CausalModel(\n",
    "        data = data,\n",
    "        treatment='treatment',\n",
    "        outcome='y_factual',\n",
    "        common_causes=xs.split('+')\n",
    "        )"
   ]
  },
  {
   "cell_type": "code",
   "execution_count": 7,
   "metadata": {},
   "outputs": [
    {
     "name": "stderr",
     "output_type": "stream",
     "text": [
      "INFO:dowhy.causal_identifier:Common causes of treatment and outcome:['', 'x4', 'x7', 'x18', 'x16', 'x19', 'x8', 'x21', 'x1', 'x17', 'x11', 'x12', 'x14', 'x13', 'x10', 'x5', 'x15', 'x2', 'x3', 'x6', 'x22', 'x25', 'x23', 'x24', 'x20', 'x9']\n",
      "WARNING:dowhy.causal_identifier:If this is observed data (not from a randomized experiment), there might always be missing confounders. Causal effect cannot be identified perfectly.\n"
     ]
    },
    {
     "name": "stdout",
     "output_type": "stream",
     "text": [
      "WARN: Do you want to continue by ignoring any unobserved confounders? (use proceed_when_unidentifiable=True to disable this prompt) [y/n] y\n"
     ]
    },
    {
     "name": "stderr",
     "output_type": "stream",
     "text": [
      "INFO:dowhy.causal_identifier:Instrumental variables for treatment and outcome:[]\n"
     ]
    }
   ],
   "source": [
    "#Identify the causal effect\n",
    "identified_estimand = model.identify_effect()"
   ]
  },
  {
   "cell_type": "code",
   "execution_count": 9,
   "metadata": {},
   "outputs": [
    {
     "name": "stderr",
     "output_type": "stream",
     "text": [
      "INFO:dowhy.causal_estimator:INFO: Using Linear Regression Estimator\n",
      "INFO:dowhy.causal_estimator:b: y_factual~treatment+x4+x7+x18+x16+x19+x8+x21+x1+x17+x11+x12+x14+x13+x10+x5+x15+x2+x3+x6+x22+x25+x23+x24+x20+x9\n"
     ]
    },
    {
     "name": "stdout",
     "output_type": "stream",
     "text": [
      "                            OLS Regression Results                            \n",
      "==============================================================================\n",
      "Dep. Variable:              y_factual   R-squared:                       0.740\n",
      "Model:                            OLS   Adj. R-squared:                  0.731\n",
      "Method:                 Least Squares   F-statistic:                     78.91\n",
      "Date:                Fri, 26 Jun 2020   Prob (F-statistic):          6.10e-191\n",
      "Time:                        09:21:36   Log-Likelihood:                -1138.1\n",
      "No. Observations:                 747   AIC:                             2330.\n",
      "Df Residuals:                     720   BIC:                             2455.\n",
      "Df Model:                          26                                         \n",
      "Covariance Type:            nonrobust                                         \n",
      "==============================================================================\n",
      "                 coef    std err          t      P>|t|      [0.025      0.975]\n",
      "------------------------------------------------------------------------------\n",
      "const          6.1492      0.455     13.520      0.000       5.256       7.042\n",
      "x1            -3.9287      0.113    -34.823      0.000      -4.150      -3.707\n",
      "x2             0.2573      0.076      3.371      0.001       0.107       0.407\n",
      "x3            -0.0769      0.086     -0.896      0.371      -0.246       0.092\n",
      "x4             0.0903      0.231      0.392      0.695      -0.362       0.543\n",
      "x5            -0.3409      0.223     -1.530      0.126      -0.778       0.096\n",
      "x6             0.1057      0.165      0.642      0.521      -0.217       0.429\n",
      "x7             0.2195      0.149      1.471      0.142      -0.074       0.513\n",
      "x8             0.0105      0.158      0.067      0.947      -0.300       0.321\n",
      "x9             0.0083      0.093      0.089      0.929      -0.174       0.191\n",
      "x10            0.0149      0.095      0.156      0.876      -0.172       0.202\n",
      "x11           -0.0878      0.158     -0.557      0.578      -0.398       0.222\n",
      "x12            0.0701      0.149      0.469      0.639      -0.223       0.363\n",
      "x13            0.1626      0.149      1.094      0.274      -0.129       0.454\n",
      "x14           -0.0724      0.094     -0.773      0.440      -0.256       0.111\n",
      "x15            0.1497      0.171      0.875      0.382      -0.186       0.486\n",
      "x16            0.0113      0.046      0.247      0.805      -0.078       0.101\n",
      "x17            1.0107      0.127      7.928      0.000       0.760       1.261\n",
      "x18           -0.0403      0.084     -0.478      0.633      -0.206       0.125\n",
      "x19           -0.0035      0.071     -0.049      0.961      -0.143       0.136\n",
      "x20            0.9004      0.058     15.596      0.000       0.787       1.014\n",
      "x21           -0.0235      0.199     -0.118      0.906      -0.414       0.367\n",
      "x22           -0.0517      0.159     -0.324      0.746      -0.365       0.261\n",
      "x23            0.0819      0.201      0.408      0.683      -0.312       0.476\n",
      "x24            0.3706      0.177      2.090      0.037       0.022       0.719\n",
      "x25            0.3402      0.169      2.009      0.045       0.008       0.673\n",
      "x26           -0.0912      0.100     -0.908      0.364      -0.288       0.106\n",
      "==============================================================================\n",
      "Omnibus:                       17.787   Durbin-Watson:                   2.077\n",
      "Prob(Omnibus):                  0.000   Jarque-Bera (JB):               23.252\n",
      "Skew:                           0.258   Prob(JB):                     8.93e-06\n",
      "Kurtosis:                       3.694   Cond. No.                         33.0\n",
      "==============================================================================\n",
      "\n",
      "Warnings:\n",
      "[1] Standard Errors assume that the covariance matrix of the errors is correctly specified.\n",
      "*** Causal Estimate ***\n",
      "\n",
      "## Identified estimand\n",
      "Estimand type: nonparametric-ate\n",
      "### Estimand : 1\n",
      "Estimand name: backdoor\n",
      "Estimand expression:\n",
      "     d                                                                        \n",
      "────────────(Expectation(y_factual|x4,x7,x18,x16,x19,x8,x21,x1,x17,x11,x12,x14\n",
      "d[treatment]                                                                  \n",
      "\n",
      "                                                 \n",
      ",x13,x10,x5,x15,x2,x3,x6,x22,x25,x23,x24,x20,x9))\n",
      "                                                 \n",
      "Estimand assumption 1, Unconfoundedness: If U→{treatment} and U→y_factual then P(y_factual|treatment,x4,x7,x18,x16,x19,x8,x21,x1,x17,x11,x12,x14,x13,x10,x5,x15,x2,x3,x6,x22,x25,x23,x24,x20,x9,U) = P(y_factual|treatment,x4,x7,x18,x16,x19,x8,x21,x1,x17,x11,x12,x14,x13,x10,x5,x15,x2,x3,x6,x22,x25,x23,x24,x20,x9)\n",
      "### Estimand : 2\n",
      "Estimand name: iv\n",
      "No such variable found!\n",
      "\n",
      "## Realized estimand\n",
      "b: y_factual~treatment+x4+x7+x18+x16+x19+x8+x21+x1+x17+x11+x12+x14+x13+x10+x5+x15+x2+x3+x6+x22+x25+x23+x24+x20+x9\n",
      "Target units: ate\n",
      "\n",
      "## Estimate\n",
      "Mean value: -3.928671750872708\n",
      "p-value: [1.58915682e-156]\n",
      "\n",
      "Causal Estimate is -3.928671750872708\n",
      "ATE -4.021121012430829\n"
     ]
    }
   ],
   "source": [
    "\n",
    "# Estimate the causal effect and compare it with Average Treatment Effect\n",
    "estimate = model.estimate_effect(identified_estimand,\n",
    "        method_name=\"backdoor.linear_regression\", test_significance=True\n",
    ")\n",
    "\n",
    "print(estimate)\n",
    "\n",
    "print(\"Causal Estimate is \" + str(estimate.value))\n",
    "data_1 = data[data[\"treatment\"]==1]\n",
    "data_0 = data[data[\"treatment\"]==0]\n",
    "\n",
    "print(\"ATE\", np.mean(data_1[\"y_factual\"])- np.mean(data_0[\"y_factual\"]))"
   ]
  },
  {
   "cell_type": "code",
   "execution_count": 10,
   "metadata": {},
   "outputs": [],
   "source": [
    "data = data.drop(['mu0', 'x1', 'x16', 'x20'], axis=1)"
   ]
  },
  {
   "cell_type": "code",
   "execution_count": 11,
   "metadata": {},
   "outputs": [
    {
     "name": "stderr",
     "output_type": "stream",
     "text": [
      "WARNING:dowhy.causal_model:Causal Graph not provided. DoWhy will construct a graph based on data inputs.\n",
      "INFO:dowhy.causal_model:Model to find the causal effect of treatment ['treatment'] on outcome ['y_factual']\n"
     ]
    }
   ],
   "source": [
    "# Create a causal model from the data and given common causes.\n",
    "xs = \"\"\n",
    "for i in range(1,26):\n",
    "    xs += (\"x\"+str(i)+\"+\")\n",
    "model=CausalModel(\n",
    "        data = data,\n",
    "        treatment='treatment',\n",
    "        outcome='y_factual',\n",
    "        common_causes=xs.split('+')\n",
    "        )"
   ]
  },
  {
   "cell_type": "code",
   "execution_count": 12,
   "metadata": {},
   "outputs": [
    {
     "name": "stderr",
     "output_type": "stream",
     "text": [
      "INFO:dowhy.causal_identifier:Common causes of treatment and outcome:['', 'x4', 'x7', 'x18', 'x16', 'x19', 'x8', 'x21', 'x1', 'x17', 'x11', 'x12', 'x14', 'x13', 'x10', 'x5', 'x15', 'x2', 'x3', 'x6', 'x22', 'x25', 'x23', 'x24', 'x20', 'x9']\n",
      "WARNING:dowhy.causal_identifier:If this is observed data (not from a randomized experiment), there might always be missing confounders. Causal effect cannot be identified perfectly.\n"
     ]
    },
    {
     "name": "stdout",
     "output_type": "stream",
     "text": [
      "WARN: Do you want to continue by ignoring any unobserved confounders? (use proceed_when_unidentifiable=True to disable this prompt) [y/n] y\n"
     ]
    },
    {
     "name": "stderr",
     "output_type": "stream",
     "text": [
      "INFO:dowhy.causal_identifier:Instrumental variables for treatment and outcome:[]\n"
     ]
    }
   ],
   "source": [
    "#Identify the causal effect\n",
    "identified_estimand = model.identify_effect()"
   ]
  },
  {
   "cell_type": "code",
   "execution_count": 13,
   "metadata": {},
   "outputs": [
    {
     "name": "stderr",
     "output_type": "stream",
     "text": [
      "INFO:dowhy.causal_estimator:INFO: Using Linear Regression Estimator\n",
      "INFO:dowhy.causal_estimator:b: y_factual~treatment+x4+x7+x18+x19+x8+x21+x17+x11+x12+x14+x13+x10+x5+x15+x2+x3+x6+x22+x25+x23+x24+x9\n"
     ]
    },
    {
     "name": "stdout",
     "output_type": "stream",
     "text": [
      "                            OLS Regression Results                            \n",
      "==============================================================================\n",
      "Dep. Variable:              y_factual   R-squared:                       0.738\n",
      "Model:                            OLS   Adj. R-squared:                  0.730\n",
      "Method:                 Least Squares   F-statistic:                     88.48\n",
      "Date:                Fri, 26 Jun 2020   Prob (F-statistic):          1.90e-192\n",
      "Time:                        09:36:02   Log-Likelihood:                -1141.5\n",
      "No. Observations:                 747   AIC:                             2331.\n",
      "Df Residuals:                     723   BIC:                             2442.\n",
      "Df Model:                          23                                         \n",
      "Covariance Type:            nonrobust                                         \n",
      "==============================================================================\n",
      "                 coef    std err          t      P>|t|      [0.025      0.975]\n",
      "------------------------------------------------------------------------------\n",
      "const          5.9548      0.383     15.541      0.000       5.203       6.707\n",
      "x1            -3.9060      0.112    -35.029      0.000      -4.125      -3.687\n",
      "x2             0.2690      0.076      3.531      0.000       0.119       0.419\n",
      "x3            -0.0590      0.085     -0.690      0.490      -0.227       0.109\n",
      "x4             0.0840      0.231      0.364      0.716      -0.370       0.538\n",
      "x5            -0.0696      0.142     -0.492      0.623      -0.348       0.208\n",
      "x6             0.2182      0.147      1.479      0.139      -0.071       0.508\n",
      "x7            -0.1410      0.137     -1.026      0.305      -0.411       0.129\n",
      "x8            -0.0088      0.095     -0.092      0.927      -0.196       0.178\n",
      "x9            -0.0723      0.158     -0.458      0.647      -0.382       0.238\n",
      "x10            0.0862      0.150      0.577      0.564      -0.207       0.380\n",
      "x11            0.1764      0.148      1.191      0.234      -0.114       0.467\n",
      "x12           -0.0763      0.093     -0.821      0.412      -0.259       0.106\n",
      "x13            0.1918      0.170      1.127      0.260      -0.142       0.526\n",
      "x14            0.0090      0.044      0.204      0.839      -0.078       0.096\n",
      "x15            1.0166      0.126      8.049      0.000       0.769       1.265\n",
      "x16           -0.0311      0.062     -0.498      0.618      -0.154       0.091\n",
      "x17           -0.0046      0.063     -0.073      0.942      -0.128       0.119\n",
      "x18            0.9102      0.058     15.781      0.000       0.797       1.023\n",
      "x19           -0.2105      0.174     -1.211      0.226      -0.552       0.131\n",
      "x20           -0.1671      0.137     -1.221      0.223      -0.436       0.102\n",
      "x21           -0.1006      0.180     -0.557      0.577      -0.455       0.254\n",
      "x22            0.1932      0.152      1.273      0.203      -0.105       0.491\n",
      "x23           -0.1292      0.100     -1.298      0.195      -0.325       0.066\n",
      "==============================================================================\n",
      "Omnibus:                       17.369   Durbin-Watson:                   2.078\n",
      "Prob(Omnibus):                  0.000   Jarque-Bera (JB):               22.274\n",
      "Skew:                           0.259   Prob(JB):                     1.46e-05\n",
      "Kurtosis:                       3.669   Cond. No.                         26.4\n",
      "==============================================================================\n",
      "\n",
      "Warnings:\n",
      "[1] Standard Errors assume that the covariance matrix of the errors is correctly specified.\n",
      "*** Causal Estimate ***\n",
      "\n",
      "## Identified estimand\n",
      "Estimand type: nonparametric-ate\n",
      "### Estimand : 1\n",
      "Estimand name: backdoor\n",
      "Estimand expression:\n",
      "     d                                                                        \n",
      "────────────(Expectation(y_factual|x4,x7,x18,x19,x8,x21,x17,x11,x12,x14,x13,x1\n",
      "d[treatment]                                                                  \n",
      "\n",
      "                                      \n",
      "0,x5,x15,x2,x3,x6,x22,x25,x23,x24,x9))\n",
      "                                      \n",
      "Estimand assumption 1, Unconfoundedness: If U→{treatment} and U→y_factual then P(y_factual|treatment,x4,x7,x18,x19,x8,x21,x17,x11,x12,x14,x13,x10,x5,x15,x2,x3,x6,x22,x25,x23,x24,x9,U) = P(y_factual|treatment,x4,x7,x18,x19,x8,x21,x17,x11,x12,x14,x13,x10,x5,x15,x2,x3,x6,x22,x25,x23,x24,x9)\n",
      "### Estimand : 2\n",
      "Estimand name: iv\n",
      "No such variable found!\n",
      "\n",
      "## Realized estimand\n",
      "b: y_factual~treatment+x4+x7+x18+x19+x8+x21+x17+x11+x12+x14+x13+x10+x5+x15+x2+x3+x6+x22+x25+x23+x24+x9\n",
      "Target units: ate\n",
      "\n",
      "## Estimate\n",
      "Mean value: -3.9060055123437003\n",
      "p-value: [6.34960726e-158]\n",
      "\n",
      "Causal Estimate is -3.9060055123437003\n",
      "ATE -4.021121012430829\n"
     ]
    }
   ],
   "source": [
    "\n",
    "# Estimate the causal effect and compare it with Average Treatment Effect\n",
    "estimate = model.estimate_effect(identified_estimand,\n",
    "        method_name=\"backdoor.linear_regression\", test_significance=True\n",
    ")\n",
    "\n",
    "print(estimate)\n",
    "\n",
    "print(\"Causal Estimate is \" + str(estimate.value))\n",
    "data_1 = data[data[\"treatment\"]==1]\n",
    "data_0 = data[data[\"treatment\"]==0]\n",
    "\n",
    "print(\"ATE\", np.mean(data_1[\"y_factual\"])- np.mean(data_0[\"y_factual\"]))"
   ]
  },
  {
   "cell_type": "code",
   "execution_count": null,
   "metadata": {},
   "outputs": [],
   "source": []
  }
 ],
 "metadata": {
  "kernelspec": {
   "display_name": "Python 3",
   "language": "python",
   "name": "python3"
  },
  "language_info": {
   "codemirror_mode": {
    "name": "ipython",
    "version": 3
   },
   "file_extension": ".py",
   "mimetype": "text/x-python",
   "name": "python",
   "nbconvert_exporter": "python",
   "pygments_lexer": "ipython3",
   "version": "3.7.7"
  }
 },
 "nbformat": 4,
 "nbformat_minor": 4
}
