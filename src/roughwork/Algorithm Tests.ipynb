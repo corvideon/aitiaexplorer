{
 "cells": [
  {
   "cell_type": "code",
   "execution_count": 73,
   "metadata": {},
   "outputs": [],
   "source": [
    "import os\n",
    "import sys\n",
    "import networkx as nx\n",
    "import matplotlib.pyplot as plt\n",
    "module_path = os.path.abspath(os.path.join('..'))\n",
    "if module_path not in sys.path:\n",
    "    sys.path.append(module_path)\n",
    "from causal_discovery.algorithms.ic_algorithm import IC_Algorithm\n",
    "from causal_discovery.independence_tests.robust_regression_test import RobustRegressionTest"
   ]
  },
  {
   "cell_type": "code",
   "execution_count": 3,
   "metadata": {},
   "outputs": [
    {
     "data": {
      "text/html": [
       "<div>\n",
       "<style scoped>\n",
       "    .dataframe tbody tr th:only-of-type {\n",
       "        vertical-align: middle;\n",
       "    }\n",
       "\n",
       "    .dataframe tbody tr th {\n",
       "        vertical-align: top;\n",
       "    }\n",
       "\n",
       "    .dataframe thead th {\n",
       "        text-align: right;\n",
       "    }\n",
       "</style>\n",
       "<table border=\"1\" class=\"dataframe\">\n",
       "  <thead>\n",
       "    <tr style=\"text-align: right;\">\n",
       "      <th></th>\n",
       "      <th>x1</th>\n",
       "      <th>x2</th>\n",
       "      <th>x3</th>\n",
       "      <th>x4</th>\n",
       "      <th>x5</th>\n",
       "    </tr>\n",
       "  </thead>\n",
       "  <tbody>\n",
       "    <tr>\n",
       "      <th>0</th>\n",
       "      <td>-1.897639</td>\n",
       "      <td>-1.862227</td>\n",
       "      <td>-2.522464</td>\n",
       "      <td>-4.596629</td>\n",
       "      <td>-5.886762</td>\n",
       "    </tr>\n",
       "    <tr>\n",
       "      <th>1</th>\n",
       "      <td>-1.751418</td>\n",
       "      <td>-2.731170</td>\n",
       "      <td>-1.910944</td>\n",
       "      <td>-4.969392</td>\n",
       "      <td>-7.578052</td>\n",
       "    </tr>\n",
       "    <tr>\n",
       "      <th>2</th>\n",
       "      <td>-0.593100</td>\n",
       "      <td>-1.303646</td>\n",
       "      <td>-0.436688</td>\n",
       "      <td>-2.597756</td>\n",
       "      <td>-1.830048</td>\n",
       "    </tr>\n",
       "    <tr>\n",
       "      <th>3</th>\n",
       "      <td>-2.342328</td>\n",
       "      <td>-3.313723</td>\n",
       "      <td>-2.677997</td>\n",
       "      <td>-7.732253</td>\n",
       "      <td>-7.385874</td>\n",
       "    </tr>\n",
       "    <tr>\n",
       "      <th>4</th>\n",
       "      <td>0.205197</td>\n",
       "      <td>-0.221555</td>\n",
       "      <td>-0.517074</td>\n",
       "      <td>-1.518505</td>\n",
       "      <td>-0.729668</td>\n",
       "    </tr>\n",
       "    <tr>\n",
       "      <th>...</th>\n",
       "      <td>...</td>\n",
       "      <td>...</td>\n",
       "      <td>...</td>\n",
       "      <td>...</td>\n",
       "      <td>...</td>\n",
       "    </tr>\n",
       "    <tr>\n",
       "      <th>1995</th>\n",
       "      <td>1.081585</td>\n",
       "      <td>3.048940</td>\n",
       "      <td>2.377519</td>\n",
       "      <td>6.592103</td>\n",
       "      <td>4.996040</td>\n",
       "    </tr>\n",
       "    <tr>\n",
       "      <th>1996</th>\n",
       "      <td>-0.157080</td>\n",
       "      <td>-1.180440</td>\n",
       "      <td>-1.609417</td>\n",
       "      <td>-0.969816</td>\n",
       "      <td>-1.985838</td>\n",
       "    </tr>\n",
       "    <tr>\n",
       "      <th>1997</th>\n",
       "      <td>0.456409</td>\n",
       "      <td>0.337147</td>\n",
       "      <td>0.296034</td>\n",
       "      <td>0.143600</td>\n",
       "      <td>0.753207</td>\n",
       "    </tr>\n",
       "    <tr>\n",
       "      <th>1998</th>\n",
       "      <td>-0.993152</td>\n",
       "      <td>-0.379078</td>\n",
       "      <td>-2.534940</td>\n",
       "      <td>-3.540044</td>\n",
       "      <td>-4.649770</td>\n",
       "    </tr>\n",
       "    <tr>\n",
       "      <th>1999</th>\n",
       "      <td>-0.720546</td>\n",
       "      <td>-0.296322</td>\n",
       "      <td>-1.810827</td>\n",
       "      <td>-2.816309</td>\n",
       "      <td>-3.642326</td>\n",
       "    </tr>\n",
       "  </tbody>\n",
       "</table>\n",
       "<p>2000 rows × 5 columns</p>\n",
       "</div>"
      ],
      "text/plain": [
       "            x1        x2        x3        x4        x5\n",
       "0    -1.897639 -1.862227 -2.522464 -4.596629 -5.886762\n",
       "1    -1.751418 -2.731170 -1.910944 -4.969392 -7.578052\n",
       "2    -0.593100 -1.303646 -0.436688 -2.597756 -1.830048\n",
       "3    -2.342328 -3.313723 -2.677997 -7.732253 -7.385874\n",
       "4     0.205197 -0.221555 -0.517074 -1.518505 -0.729668\n",
       "...        ...       ...       ...       ...       ...\n",
       "1995  1.081585  3.048940  2.377519  6.592103  4.996040\n",
       "1996 -0.157080 -1.180440 -1.609417 -0.969816 -1.985838\n",
       "1997  0.456409  0.337147  0.296034  0.143600  0.753207\n",
       "1998 -0.993152 -0.379078 -2.534940 -3.540044 -4.649770\n",
       "1999 -0.720546 -0.296322 -1.810827 -2.816309 -3.642326\n",
       "\n",
       "[2000 rows x 5 columns]"
      ]
     },
     "execution_count": 3,
     "metadata": {},
     "output_type": "execute_result"
    }
   ],
   "source": [
    "import numpy\n",
    "import pandas as pd\n",
    "\n",
    "# generate some toy data:\n",
    "SIZE = 2000\n",
    "x1 = numpy.random.normal(size=SIZE)\n",
    "x2 = x1 + numpy.random.normal(size=SIZE)\n",
    "x3 = x1 + numpy.random.normal(size=SIZE)\n",
    "x4 = x2 + x3 + numpy.random.normal(size=SIZE)\n",
    "x5 = x4 + numpy.random.normal(size=SIZE)\n",
    "\n",
    "# load the data into a dataframe:\n",
    "X = pd.DataFrame({'x1' : x1, 'x2' : x2, 'x3' : x3, 'x4' : x4, 'x5' : x5})\n",
    "X"
   ]
  },
  {
   "cell_type": "code",
   "execution_count": 4,
   "metadata": {},
   "outputs": [],
   "source": [
    "# https://medium.com/@akelleh/causal-graph-inference-b3e3afd47110\n",
    "    \n",
    "# define the variable types: 'c' is 'continuous'.  The variables defined here\n",
    "# are the ones the search is performed over  -- NOT all the variables defined\n",
    "# in the data frame.\n",
    "variable_types = {'x1' : 'c', 'x2' : 'c', 'x3' : 'c', 'x4' : 'c', 'x5' : 'c'}\n",
    "\n",
    "# run the search\n",
    "ic_algorithm = IC_Algorithm(RobustRegressionTest)\n",
    "graph = ic_algorithm.search(X, variable_types)\n"
   ]
  },
  {
   "cell_type": "code",
   "execution_count": 5,
   "metadata": {},
   "outputs": [
    {
     "name": "stdout",
     "output_type": "stream",
     "text": [
      "['x1', 'x2', 'x3', 'x4', 'x5']\n"
     ]
    }
   ],
   "source": [
    "print(graph.nodes())"
   ]
  },
  {
   "cell_type": "code",
   "execution_count": 6,
   "metadata": {},
   "outputs": [
    {
     "name": "stdout",
     "output_type": "stream",
     "text": [
      "[('x1', 'x2'), ('x1', 'x3'), ('x2', 'x4'), ('x3', 'x4'), ('x4', 'x5')]\n"
     ]
    }
   ],
   "source": [
    "print(graph.edges())"
   ]
  },
  {
   "cell_type": "code",
   "execution_count": 30,
   "metadata": {},
   "outputs": [
    {
     "data": {
      "text/plain": [
       "EdgeDataView([(0, 1, {'weight': -0.19222573405881005}), (0, 3, {'weight': 0.40127235512353476}), (0, 2, {'weight': -0.3377833014624446}), (1, 3, {'weight': 0.3368615601805958}), (1, 2, {'weight': 0.3373563826843396}), (2, 3, {'weight': 0.3305363077201405})])"
      ]
     },
     "execution_count": 30,
     "metadata": {},
     "output_type": "execute_result"
    }
   ],
   "source": [
    "graph.edges(data=True)"
   ]
  },
  {
   "cell_type": "code",
   "execution_count": 7,
   "metadata": {},
   "outputs": [
    {
     "name": "stderr",
     "output_type": "stream",
     "text": [
      "/home/seamus/bin/anaconda3/envs/CAUSAL1/lib/python3.7/site-packages/networkx/drawing/nx_pylab.py:579: MatplotlibDeprecationWarning: \n",
      "The iterable function was deprecated in Matplotlib 3.1 and will be removed in 3.3. Use np.iterable instead.\n",
      "  if not cb.iterable(width):\n"
     ]
    },
    {
     "data": {
      "image/png": "[encoded data removed]",
      "text/plain": [
       "<Figure size 432x288 with 1 Axes>"
      ]
     },
     "metadata": {},
     "output_type": "display_data"
    }
   ],
   "source": [
    "nx.draw(graph, with_labels=True)"
   ]
  },
  {
   "cell_type": "code",
   "execution_count": 27,
   "metadata": {},
   "outputs": [
    {
     "data": {
      "image/png": "[encoded data removed]",
      "text/plain": [
       "<Figure size 432x288 with 1 Axes>"
      ]
     },
     "metadata": {},
     "output_type": "display_data"
    }
   ],
   "source": [
    "options = {\n",
    "    'node_color': 'yellow',\n",
    "    'node_size': 750,\n",
    "    'width': 3,\n",
    "    'arrowstyle': '-|>',\n",
    "    'arrowsize': 50,\n",
    "}\n",
    "nx.draw_networkx(graph, arrows=True, **options)"
   ]
  },
  {
   "cell_type": "code",
   "execution_count": 8,
   "metadata": {},
   "outputs": [],
   "source": [
    "from causal_discovery.algorithms.lingam_algorithm import LiNGAM_GC_Algorithm"
   ]
  },
  {
   "cell_type": "code",
   "execution_count": 16,
   "metadata": {},
   "outputs": [
    {
     "name": "stdout",
     "output_type": "stream",
     "text": [
      "Estimated causal order\n",
      "[3, 1, 0, 2]\n",
      "Estimated graph structure\n",
      "[[ 0.         -0.19222573  0.          0.40127236]\n",
      " [ 0.          0.          0.          0.33686156]\n",
      " [-0.3377833   0.33735638  0.          0.33053631]\n",
      " [ 0.          0.          0.          0.        ]]\n"
     ]
    }
   ],
   "source": [
    "X, test_adjacency_matrix, test_causal_order = LiNGAM_GC_Algorithm.generate_test_gcm(4, 3)\n",
    "model = LiNGAM_GC_Algorithm()\n",
    "model.fit(X)\n",
    "causal_order, adjacency_matrix= model.get_results()"
   ]
  },
  {
   "cell_type": "code",
   "execution_count": 32,
   "metadata": {},
   "outputs": [
    {
     "data": {
      "image/png": "[encoded data removed]",
      "text/plain": [
       "<Figure size 432x288 with 1 Axes>"
      ]
     },
     "metadata": {},
     "output_type": "display_data"
    }
   ],
   "source": [
    "graph2 = nx.from_numpy_matrix(adjacency_matrix)\n",
    "nx.draw(graph2, with_labels=True)"
   ]
  },
  {
   "cell_type": "code",
   "execution_count": 33,
   "metadata": {},
   "outputs": [
    {
     "data": {
      "text/plain": [
       "EdgeDataView([(0, 1, {'weight': -0.19222573405881005}), (0, 3, {'weight': 0.40127235512353476}), (0, 2, {'weight': -0.3377833014624446}), (1, 3, {'weight': 0.3368615601805958}), (1, 2, {'weight': 0.3373563826843396}), (2, 3, {'weight': 0.3305363077201405})])"
      ]
     },
     "execution_count": 33,
     "metadata": {},
     "output_type": "execute_result"
    }
   ],
   "source": [
    "graph2.edges(data=True)"
   ]
  },
  {
   "cell_type": "code",
   "execution_count": 129,
   "metadata": {},
   "outputs": [
    {
     "data": {
      "text/plain": [
       "{(0, 1): -0.192,\n",
       " (0, 3): 0.401,\n",
       " (0, 2): -0.338,\n",
       " (1, 3): 0.337,\n",
       " (1, 2): 0.337,\n",
       " (2, 3): 0.331}"
      ]
     },
     "execution_count": 129,
     "metadata": {},
     "output_type": "execute_result"
    }
   ],
   "source": [
    "labels = nx.get_edge_attributes(graph2, 'weight')\n",
    "labels_rounded = labels.copy()\n",
    "for k, v in labels.items():\n",
    "    labels_rounded[k] = numpy.round(v, 3)\n",
    "labels_rounded"
   ]
  },
  {
   "cell_type": "code",
   "execution_count": 133,
   "metadata": {},
   "outputs": [
    {
     "data": {
      "text/plain": [
       "{(0, 1): Text(0.0, -0.375, '-0.192'),\n",
       " (0, 3): Text(-0.5, -0.125, '0.401'),\n",
       " (0, 2): Text(-0.5, 0.125, '-0.338'),\n",
       " (1, 3): Text(0.5, -0.125, '0.337'),\n",
       " (1, 2): Text(0.5, 0.125, '0.337'),\n",
       " (2, 3): Text(0.0, 0.375, '0.331')}"
      ]
     },
     "execution_count": 133,
     "metadata": {},
     "output_type": "execute_result"
    },
    {
     "data": {
      "image/png": "[encoded data removed]",
      "text/plain": [
       "<Figure size 432x288 with 1 Axes>"
      ]
     },
     "metadata": {},
     "output_type": "display_data"
    }
   ],
   "source": [
    "graph2 = nx.DiGraph(graph2)\n",
    "options = {\n",
    "    'node_color': 'yellow',\n",
    "    'node_size': 750,\n",
    "    'width': 1,\n",
    "    'arrowstyle': '-|>',\n",
    "}\n",
    "# pos = nx.spring_layout(digraph2)  # positions for all nodes\n",
    "pos = nx.planar_layout(graph2)\n",
    "nx.draw_networkx(graph2, arrows=True, pos=pos, **options)\n",
    "nx.draw_networkx_edge_labels(graph2, pos, edge_labels=labels_rounded)"
   ]
  },
  {
   "cell_type": "code",
   "execution_count": 140,
   "metadata": {},
   "outputs": [
    {
     "data": {
      "text/plain": [
       "NodeDataView({0: {}, 1: {}, 2: {}, 3: {}})"
      ]
     },
     "execution_count": 140,
     "metadata": {},
     "output_type": "execute_result"
    }
   ],
   "source": [
    "graph2.nodes(data=True)"
   ]
  },
  {
   "cell_type": "code",
   "execution_count": null,
   "metadata": {},
   "outputs": [],
   "source": [
    "digraph2 = nx.DiGraph(graph2)"
   ]
  },
  {
   "cell_type": "code",
   "execution_count": 111,
   "metadata": {},
   "outputs": [
    {
     "data": {
      "text/plain": [
       "{(0, 1): Text(0.0, -0.375, '-0.19222573405881005'),\n",
       " (0, 3): Text(-0.5, -0.125, '0.40127235512353476'),\n",
       " (0, 2): Text(-0.5, 0.125, '-0.3377833014624446'),\n",
       " (1, 0): Text(0.0, -0.375, '-0.19222573405881005'),\n",
       " (1, 3): Text(0.5, -0.125, '0.3368615601805958'),\n",
       " (1, 2): Text(0.5, 0.125, '0.3373563826843396'),\n",
       " (2, 0): Text(-0.5, 0.125, '-0.3377833014624446'),\n",
       " (2, 1): Text(0.5, 0.125, '0.3373563826843396'),\n",
       " (2, 3): Text(0.0, 0.375, '0.3305363077201405'),\n",
       " (3, 0): Text(-0.5, -0.125, '0.40127235512353476'),\n",
       " (3, 1): Text(0.5, -0.125, '0.3368615601805958'),\n",
       " (3, 2): Text(0.0, 0.375, '0.3305363077201405')}"
      ]
     },
     "execution_count": 111,
     "metadata": {},
     "output_type": "execute_result"
    },
    {
     "data": {
      "image/png": "[encoded data removed]",
      "text/plain": [
       "<Figure size 432x288 with 1 Axes>"
      ]
     },
     "metadata": {},
     "output_type": "display_data"
    }
   ],
   "source": [
    "labels = nx.get_edge_attributes(digraph2, 'weight')\n",
    "options = {\n",
    "    'node_color': 'orange',\n",
    "    'node_size': 750,\n",
    "    'arrowsize': 15,\n",
    "}\n",
    "# pos = nx.spring_layout(digraph2)  # positions for all nodes\n",
    "pos = nx.planar_layout(digraph2)\n",
    "nx.draw_networkx(digraph2, arrows=True, pos=pos, **options)\n",
    "nx.draw_networkx_edge_labels(digraph2, pos, edge_labels=labels)"
   ]
  },
  {
   "cell_type": "code",
   "execution_count": 2,
   "metadata": {},
   "outputs": [
    {
     "data": {
      "image/svg+xml": [
       "<?xml version=\"1.0\" encoding=\"UTF-8\" standalone=\"no\"?>\n",
       "<!DOCTYPE svg PUBLIC \"-//W3C//DTD SVG 1.1//EN\"\n",
       " \"http://www.w3.org/Graphics/SVG/1.1/DTD/svg11.dtd\">\n",
       "<!-- Generated by graphviz version 2.40.1 (20161225.0304)\n",
       " -->\n",
       "<!-- Title: %3 Pages: 1 -->\n",
       "<svg width=\"164pt\" height=\"260pt\"\n",
       " viewBox=\"0.00 0.00 164.25 260.00\" xmlns=\"http://www.w3.org/2000/svg\" xmlns:xlink=\"http://www.w3.org/1999/xlink\">\n",
       "<g id=\"graph0\" class=\"graph\" transform=\"scale(1 1) rotate(0) translate(4 256)\">\n",
       "<title>%3</title>\n",
       "<polygon fill=\"#ffffff\" stroke=\"transparent\" points=\"-4,4 -4,-256 160.2463,-256 160.2463,4 -4,4\"/>\n",
       "<!-- wet -->\n",
       "<g id=\"node1\" class=\"node\">\n",
       "<title>wet</title>\n",
       "<ellipse fill=\"none\" stroke=\"#000000\" cx=\"70\" cy=\"-90\" rx=\"27\" ry=\"18\"/>\n",
       "<text text-anchor=\"middle\" x=\"70\" y=\"-86.3\" font-family=\"Times,serif\" font-size=\"14.00\" fill=\"#000000\">wet</text>\n",
       "</g>\n",
       "<!-- slippery -->\n",
       "<g id=\"node5\" class=\"node\">\n",
       "<title>slippery</title>\n",
       "<ellipse fill=\"none\" stroke=\"#000000\" cx=\"70\" cy=\"-18\" rx=\"38.9931\" ry=\"18\"/>\n",
       "<text text-anchor=\"middle\" x=\"70\" y=\"-14.3\" font-family=\"Times,serif\" font-size=\"14.00\" fill=\"#000000\">slippery</text>\n",
       "</g>\n",
       "<!-- wet&#45;&gt;slippery -->\n",
       "<g id=\"edge5\" class=\"edge\">\n",
       "<title>wet&#45;&gt;slippery</title>\n",
       "<path fill=\"none\" stroke=\"#000000\" d=\"M70,-71.8314C70,-64.131 70,-54.9743 70,-46.4166\"/>\n",
       "<polygon fill=\"#000000\" stroke=\"#000000\" points=\"73.5001,-46.4132 70,-36.4133 66.5001,-46.4133 73.5001,-46.4132\"/>\n",
       "</g>\n",
       "<!-- rain -->\n",
       "<g id=\"node2\" class=\"node\">\n",
       "<title>rain</title>\n",
       "<ellipse fill=\"none\" stroke=\"#000000\" cx=\"27\" cy=\"-162\" rx=\"27\" ry=\"18\"/>\n",
       "<text text-anchor=\"middle\" x=\"27\" y=\"-158.3\" font-family=\"Times,serif\" font-size=\"14.00\" fill=\"#000000\">rain</text>\n",
       "</g>\n",
       "<!-- rain&#45;&gt;wet -->\n",
       "<g id=\"edge3\" class=\"edge\">\n",
       "<title>rain&#45;&gt;wet</title>\n",
       "<path fill=\"none\" stroke=\"#000000\" d=\"M37.1904,-144.937C42.3849,-136.2393 48.8106,-125.4799 54.5948,-115.7948\"/>\n",
       "<polygon fill=\"#000000\" stroke=\"#000000\" points=\"57.7602,-117.3206 59.8827,-106.9405 51.7504,-113.7314 57.7602,-117.3206\"/>\n",
       "</g>\n",
       "<!-- sprinkler -->\n",
       "<g id=\"node3\" class=\"node\">\n",
       "<title>sprinkler</title>\n",
       "<ellipse fill=\"none\" stroke=\"#000000\" cx=\"114\" cy=\"-162\" rx=\"42.4939\" ry=\"18\"/>\n",
       "<text text-anchor=\"middle\" x=\"114\" y=\"-158.3\" font-family=\"Times,serif\" font-size=\"14.00\" fill=\"#000000\">sprinkler</text>\n",
       "</g>\n",
       "<!-- sprinkler&#45;&gt;wet -->\n",
       "<g id=\"edge4\" class=\"edge\">\n",
       "<title>sprinkler&#45;&gt;wet</title>\n",
       "<path fill=\"none\" stroke=\"#000000\" d=\"M103.3488,-144.5708C98.0293,-135.8661 91.4907,-125.1665 85.6167,-115.5546\"/>\n",
       "<polygon fill=\"#000000\" stroke=\"#000000\" points=\"88.4512,-113.4807 80.2501,-106.7729 82.4782,-117.1308 88.4512,-113.4807\"/>\n",
       "</g>\n",
       "<!-- season -->\n",
       "<g id=\"node4\" class=\"node\">\n",
       "<title>season</title>\n",
       "<ellipse fill=\"none\" stroke=\"#000000\" cx=\"70\" cy=\"-234\" rx=\"34.394\" ry=\"18\"/>\n",
       "<text text-anchor=\"middle\" x=\"70\" y=\"-230.3\" font-family=\"Times,serif\" font-size=\"14.00\" fill=\"#000000\">season</text>\n",
       "</g>\n",
       "<!-- season&#45;&gt;rain -->\n",
       "<g id=\"edge1\" class=\"edge\">\n",
       "<title>season&#45;&gt;rain</title>\n",
       "<path fill=\"none\" stroke=\"#000000\" d=\"M59.5909,-216.5708C54.3922,-207.8661 48.0022,-197.1665 42.2618,-187.5546\"/>\n",
       "<polygon fill=\"#000000\" stroke=\"#000000\" points=\"45.1495,-185.5637 37.0172,-178.7729 39.1397,-189.153 45.1495,-185.5637\"/>\n",
       "</g>\n",
       "<!-- season&#45;&gt;sprinkler -->\n",
       "<g id=\"edge2\" class=\"edge\">\n",
       "<title>season&#45;&gt;sprinkler</title>\n",
       "<path fill=\"none\" stroke=\"#000000\" d=\"M80.6512,-216.5708C85.8551,-208.0553 92.2256,-197.6308 97.9993,-188.183\"/>\n",
       "<polygon fill=\"#000000\" stroke=\"#000000\" points=\"101.0664,-189.8762 103.2944,-179.5182 95.0934,-186.226 101.0664,-189.8762\"/>\n",
       "</g>\n",
       "</g>\n",
       "</svg>\n"
      ],
      "text/plain": [
       "<graphviz.dot.Digraph at 0x7f7dc462dbd0>"
      ]
     },
     "execution_count": 2,
     "metadata": {},
     "output_type": "execute_result"
    }
   ],
   "source": [
    "from causalgraphicalmodels import CausalGraphicalModel\n",
    "\n",
    "\n",
    "sprinkler = CausalGraphicalModel(\n",
    "    nodes=[\"season\", \"rain\", \"sprinkler\", \"wet\", \"slippery\"],\n",
    "    edges=[\n",
    "        (\"season\", \"rain\"), \n",
    "        (\"season\", \"sprinkler\"), \n",
    "        (\"rain\", \"wet\"),\n",
    "        (\"sprinkler\", \"wet\"), \n",
    "        (\"wet\", \"slippery\")\n",
    "    ]\n",
    ")\n",
    "\n",
    "# draw return a graphviz `dot` object, which jupyter can render\n",
    "sprinkler.draw()\n"
   ]
  },
  {
   "cell_type": "code",
   "execution_count": 3,
   "metadata": {},
   "outputs": [
    {
     "name": "stdout",
     "output_type": "stream",
     "text": [
      "P(season)P(sprinkler|season)P(rain|season)P(wet|rain,sprinkler)P(slippery|wet)\n"
     ]
    }
   ],
   "source": [
    "print(sprinkler.get_distribution())"
   ]
  },
  {
   "cell_type": "code",
   "execution_count": 7,
   "metadata": {},
   "outputs": [
    {
     "data": {
      "text/plain": [
       "'P(season)P(sprinkler|season)P(rain|season)P(wet|rain,sprinkler)P(slippery|wet)'"
      ]
     },
     "execution_count": 7,
     "metadata": {},
     "output_type": "execute_result"
    }
   ],
   "source": [
    "sprinkler.get_distribution()"
   ]
  },
  {
   "cell_type": "code",
   "execution_count": null,
   "metadata": {},
   "outputs": [],
   "source": []
  },
  {
   "cell_type": "code",
   "execution_count": null,
   "metadata": {},
   "outputs": [],
   "source": []
  }
 ],
 "metadata": {
  "kernelspec": {
   "display_name": "Python 3",
   "language": "python",
   "name": "python3"
  },
  "language_info": {
   "codemirror_mode": {
    "name": "ipython",
    "version": 3
   },
   "file_extension": ".py",
   "mimetype": "text/x-python",
   "name": "python",
   "nbconvert_exporter": "python",
   "pygments_lexer": "ipython3",
   "version": "3.7.7"
  }
 },
 "nbformat": 4,
 "nbformat_minor": 4
}
