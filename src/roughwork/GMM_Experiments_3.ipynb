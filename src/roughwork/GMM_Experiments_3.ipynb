{
 "cells": [
  {
   "cell_type": "code",
   "execution_count": 7,
   "metadata": {},
   "outputs": [],
   "source": [
    "%matplotlib inline\n",
    "import matplotlib.pyplot as plt\n",
    "import seaborn as sns; sns.set()\n",
    "import numpy as np\n",
    "import pandas as pd\n",
    "import itertools\n",
    "from scipy import linalg\n",
    "from sklearn import mixture"
   ]
  },
  {
   "cell_type": "code",
   "execution_count": 9,
   "metadata": {},
   "outputs": [
    {
     "data": {
      "text/html": [
       "<div>\n",
       "<style scoped>\n",
       "    .dataframe tbody tr th:only-of-type {\n",
       "        vertical-align: middle;\n",
       "    }\n",
       "\n",
       "    .dataframe tbody tr th {\n",
       "        vertical-align: top;\n",
       "    }\n",
       "\n",
       "    .dataframe thead th {\n",
       "        text-align: right;\n",
       "    }\n",
       "</style>\n",
       "<table border=\"1\" class=\"dataframe\">\n",
       "  <thead>\n",
       "    <tr style=\"text-align: right;\">\n",
       "      <th></th>\n",
       "      <th>TangibilityCondition</th>\n",
       "      <th>AmountDonated</th>\n",
       "      <th>Sympathy</th>\n",
       "      <th>Imaginability</th>\n",
       "      <th>Impact</th>\n",
       "    </tr>\n",
       "  </thead>\n",
       "  <tbody>\n",
       "    <tr>\n",
       "      <th>0</th>\n",
       "      <td>1.0</td>\n",
       "      <td>0.0</td>\n",
       "      <td>7.0</td>\n",
       "      <td>4.0</td>\n",
       "      <td>4.5</td>\n",
       "    </tr>\n",
       "    <tr>\n",
       "      <th>1</th>\n",
       "      <td>1.0</td>\n",
       "      <td>0.0</td>\n",
       "      <td>2.0</td>\n",
       "      <td>2.0</td>\n",
       "      <td>2.0</td>\n",
       "    </tr>\n",
       "    <tr>\n",
       "      <th>2</th>\n",
       "      <td>1.0</td>\n",
       "      <td>0.0</td>\n",
       "      <td>7.0</td>\n",
       "      <td>3.0</td>\n",
       "      <td>3.0</td>\n",
       "    </tr>\n",
       "    <tr>\n",
       "      <th>3</th>\n",
       "      <td>1.0</td>\n",
       "      <td>0.0</td>\n",
       "      <td>4.0</td>\n",
       "      <td>3.0</td>\n",
       "      <td>4.5</td>\n",
       "    </tr>\n",
       "    <tr>\n",
       "      <th>4</th>\n",
       "      <td>1.0</td>\n",
       "      <td>0.0</td>\n",
       "      <td>3.0</td>\n",
       "      <td>7.0</td>\n",
       "      <td>1.0</td>\n",
       "    </tr>\n",
       "    <tr>\n",
       "      <th>...</th>\n",
       "      <td>...</td>\n",
       "      <td>...</td>\n",
       "      <td>...</td>\n",
       "      <td>...</td>\n",
       "      <td>...</td>\n",
       "    </tr>\n",
       "    <tr>\n",
       "      <th>89</th>\n",
       "      <td>0.0</td>\n",
       "      <td>2.0</td>\n",
       "      <td>5.0</td>\n",
       "      <td>2.0</td>\n",
       "      <td>4.5</td>\n",
       "    </tr>\n",
       "    <tr>\n",
       "      <th>90</th>\n",
       "      <td>0.0</td>\n",
       "      <td>5.0</td>\n",
       "      <td>7.0</td>\n",
       "      <td>7.0</td>\n",
       "      <td>7.0</td>\n",
       "    </tr>\n",
       "    <tr>\n",
       "      <th>91</th>\n",
       "      <td>0.0</td>\n",
       "      <td>2.0</td>\n",
       "      <td>4.0</td>\n",
       "      <td>4.0</td>\n",
       "      <td>5.5</td>\n",
       "    </tr>\n",
       "    <tr>\n",
       "      <th>92</th>\n",
       "      <td>0.0</td>\n",
       "      <td>2.0</td>\n",
       "      <td>5.0</td>\n",
       "      <td>3.0</td>\n",
       "      <td>5.5</td>\n",
       "    </tr>\n",
       "    <tr>\n",
       "      <th>93</th>\n",
       "      <td>0.0</td>\n",
       "      <td>1.0</td>\n",
       "      <td>7.0</td>\n",
       "      <td>6.0</td>\n",
       "      <td>7.0</td>\n",
       "    </tr>\n",
       "  </tbody>\n",
       "</table>\n",
       "<p>94 rows × 5 columns</p>\n",
       "</div>"
      ],
      "text/plain": [
       "    TangibilityCondition  AmountDonated  Sympathy  Imaginability  Impact\n",
       "0                    1.0            0.0       7.0            4.0     4.5\n",
       "1                    1.0            0.0       2.0            2.0     2.0\n",
       "2                    1.0            0.0       7.0            3.0     3.0\n",
       "3                    1.0            0.0       4.0            3.0     4.5\n",
       "4                    1.0            0.0       3.0            7.0     1.0\n",
       "..                   ...            ...       ...            ...     ...\n",
       "89                   0.0            2.0       5.0            2.0     4.5\n",
       "90                   0.0            5.0       7.0            7.0     7.0\n",
       "91                   0.0            2.0       4.0            4.0     5.5\n",
       "92                   0.0            2.0       5.0            3.0     5.5\n",
       "93                   0.0            1.0       7.0            6.0     7.0\n",
       "\n",
       "[94 rows x 5 columns]"
      ]
     },
     "execution_count": 9,
     "metadata": {},
     "output_type": "execute_result"
    }
   ],
   "source": [
    "data_dir = \"https://raw.githubusercontent.com/bd2kccd/py-causal/master/data/charity.txt\"\n",
    "df = pd.read_table(data_dir, sep=\"\\t\")\n",
    "df"
   ]
  },
  {
   "cell_type": "code",
   "execution_count": 110,
   "metadata": {},
   "outputs": [],
   "source": [
    "X = df"
   ]
  },
  {
   "cell_type": "code",
   "execution_count": 11,
   "metadata": {},
   "outputs": [
    {
     "data": {
      "text/plain": [
       "GaussianMixture(covariance_type='diag', init_params='kmeans', max_iter=100,\n",
       "                means_init=None, n_components=6, n_init=1, precisions_init=None,\n",
       "                random_state=None, reg_covar=1e-06, tol=0.001, verbose=0,\n",
       "                verbose_interval=10, warm_start=False, weights_init=None)"
      ]
     },
     "execution_count": 11,
     "metadata": {},
     "output_type": "execute_result"
    }
   ],
   "source": [
    "lowest_bic = np.infty\n",
    "bic = []\n",
    "n_components_range = range(1, 7)\n",
    "cv_types = ['spherical', 'tied', 'diag', 'full']\n",
    "for cv_type in cv_types:\n",
    "    for n_components in n_components_range:\n",
    "        # Fit a Gaussian mixture with EM\n",
    "        gmm = mixture.GaussianMixture(n_components=n_components,\n",
    "                                      covariance_type=cv_type)\n",
    "        gmm.fit(X)\n",
    "        bic.append(gmm.bic(X))\n",
    "        if bic[-1] < lowest_bic:\n",
    "            lowest_bic = bic[-1]\n",
    "            best_gmm = gmm\n",
    "best_gmm"
   ]
  },
  {
   "cell_type": "code",
   "execution_count": 132,
   "metadata": {},
   "outputs": [
    {
     "data": {
      "text/plain": [
       "<matplotlib.collections.PathCollection at 0x7f498ab44c90>"
      ]
     },
     "execution_count": 132,
     "metadata": {},
     "output_type": "execute_result"
    },
    {
     "data": {
      "image/png": "[encoded data removed]",
      "text/plain": [
       "<Figure size 432x288 with 1 Axes>"
      ]
     },
     "metadata": {},
     "output_type": "display_data"
    }
   ],
   "source": [
    "labels = gmm.predict(X)\n",
    "results = pd.DataFrame([X.index,labels]).T\n",
    "plt.scatter(results[0], results[1],  c=labels, s=40, cmap='viridis')"
   ]
  },
  {
   "cell_type": "code",
   "execution_count": 136,
   "metadata": {},
   "outputs": [
    {
     "data": {
      "text/plain": [
       "<matplotlib.collections.PathCollection at 0x7f49ec0bab90>"
      ]
     },
     "execution_count": 136,
     "metadata": {},
     "output_type": "execute_result"
    },
    {
     "data": {
      "image/png": "[encoded data removed]",
      "text/plain": [
       "<Figure size 432x288 with 1 Axes>"
      ]
     },
     "metadata": {},
     "output_type": "display_data"
    }
   ],
   "source": [
    "Xnew, _ = best_gmm.sample(100)\n",
    "Xnew = pd.DataFrame(Xnew)\n",
    "labels = gmm.predict(Xnew)\n",
    "results = pd.DataFrame([Xnew.index,labels]).T\n",
    "plt.scatter(results[0], results[1],  c=labels, s=40, cmap='viridis')"
   ]
  },
  {
   "cell_type": "code",
   "execution_count": 17,
   "metadata": {},
   "outputs": [],
   "source": [
    "import os\n",
    "import sys\n",
    "import networkx as nx\n",
    "module_path = os.path.abspath(os.path.join('..'))\n",
    "if module_path not in sys.path:\n",
    "    sys.path.append(module_path)\n",
    "from causal_discovery.algorithms.ic_algorithm import IC_Algorithm\n",
    "from causal_discovery.independence_tests.robust_regression_test import RobustRegressionTest"
   ]
  },
  {
   "cell_type": "code",
   "execution_count": 23,
   "metadata": {},
   "outputs": [],
   "source": [
    "\n",
    "# run the search\n",
    "ic_algorithm = IC_Algorithm(RobustRegressionTest)\n",
    "graph = ic_algorithm.search(X, variable_types)"
   ]
  },
  {
   "cell_type": "code",
   "execution_count": 50,
   "metadata": {},
   "outputs": [
    {
     "name": "stderr",
     "output_type": "stream",
     "text": [
      "/home/seamus/bin/anaconda3/envs/CAUSAL1/lib/python3.7/site-packages/networkx/drawing/layout.py:923: FutureWarning: arrays to stack must be passed as a \"sequence\" type such as list or tuple. Support for non-sequence iterables such as generators is deprecated as of NumPy 1.16 and will raise an error in the future.\n",
      "  pos = np.row_stack((pos[x] for x in node_list))\n",
      "/home/seamus/bin/anaconda3/envs/CAUSAL1/lib/python3.7/site-packages/networkx/drawing/nx_pylab.py:579: MatplotlibDeprecationWarning: \n",
      "The iterable function was deprecated in Matplotlib 3.1 and will be removed in 3.3. Use np.iterable instead.\n",
      "  if not cb.iterable(width):\n",
      "/home/seamus/bin/anaconda3/envs/CAUSAL1/lib/python3.7/site-packages/networkx/drawing/nx_pylab.py:676: MatplotlibDeprecationWarning: \n",
      "The iterable function was deprecated in Matplotlib 3.1 and will be removed in 3.3. Use np.iterable instead.\n",
      "  if cb.iterable(node_size):  # many node sizes\n"
     ]
    },
    {
     "data": {
      "text/plain": [
       "{}"
      ]
     },
     "execution_count": 50,
     "metadata": {},
     "output_type": "execute_result"
    },
    {
     "data": {
      "image/png": "[encoded data removed]",
      "text/plain": [
       "<Figure size 432x288 with 1 Axes>"
      ]
     },
     "metadata": {},
     "output_type": "display_data"
    }
   ],
   "source": [
    "\n",
    "digraph = nx.DiGraph(graph)\n",
    "labels = nx.get_edge_attributes(digraph, 'weight')\n",
    "labels_rounded = labels.copy()\n",
    "for k, v in labels.items():\n",
    "    labels_rounded[k] = np.round(v, 3)\n",
    "\n",
    "options = {\n",
    "    'node_color': 'yellow',\n",
    "    'node_size': 750,\n",
    "    'width': 1,\n",
    "    'arrowstyle': '-|>',\n",
    "}\n",
    "# pos = nx.spring_layout(digraph2)  # positions for all nodes\n",
    "pos = nx.planar_layout(digraph)\n",
    "nx.draw_networkx(digraph, arrows=True, pos=pos, **options)\n",
    "nx.draw_networkx_edge_labels(digraph, pos, edge_labels=labels_rounded)"
   ]
  },
  {
   "cell_type": "code",
   "execution_count": 27,
   "metadata": {},
   "outputs": [
    {
     "name": "stdout",
     "output_type": "stream",
     "text": [
      "Estimated causal order\n",
      "[3, 1, 0, 2]\n",
      "Estimated graph structure\n",
      "[[ 0.         -0.19222573  0.          0.40127236]\n",
      " [ 0.          0.          0.          0.33686156]\n",
      " [-0.3377833   0.33735638  0.          0.33053631]\n",
      " [ 0.          0.          0.          0.        ]]\n"
     ]
    }
   ],
   "source": [
    "from causal_discovery.algorithms.lingam_algorithm import LiNGAM_GC_Algorithm\n",
    "X, test_adjacency_matrix, test_causal_order = LiNGAM_GC_Algorithm.generate_test_gcm(4, 3)\n",
    "model = LiNGAM_GC_Algorithm()\n",
    "model.fit(X)\n",
    "causal_order, adjacency_matrix = model.get_results()"
   ]
  },
  {
   "cell_type": "code",
   "execution_count": 31,
   "metadata": {},
   "outputs": [
    {
     "data": {
      "text/plain": [
       "{(0, 1): Text(0.0, -0.375, '-0.192'),\n",
       " (0, 3): Text(-0.5, -0.125, '0.401'),\n",
       " (0, 2): Text(-0.5, 0.125, '-0.338'),\n",
       " (1, 0): Text(0.0, -0.375, '-0.192'),\n",
       " (1, 3): Text(0.5, -0.125, '0.337'),\n",
       " (1, 2): Text(0.5, 0.125, '0.337'),\n",
       " (2, 0): Text(-0.5, 0.125, '-0.338'),\n",
       " (2, 1): Text(0.5, 0.125, '0.337'),\n",
       " (2, 3): Text(0.0, 0.375, '0.331'),\n",
       " (3, 0): Text(-0.5, -0.125, '0.401'),\n",
       " (3, 1): Text(0.5, -0.125, '0.337'),\n",
       " (3, 2): Text(0.0, 0.375, '0.331')}"
      ]
     },
     "execution_count": 31,
     "metadata": {},
     "output_type": "execute_result"
    },
    {
     "data": {
      "image/png": "[encoded data removed]",
      "text/plain": [
       "<Figure size 432x288 with 1 Axes>"
      ]
     },
     "metadata": {},
     "output_type": "display_data"
    }
   ],
   "source": [
    "graph1 = nx.from_numpy_matrix(adjacency_matrix)\n",
    "digraph1 = nx.DiGraph(graph1)\n",
    "labels = nx.get_edge_attributes(digraph1, 'weight')\n",
    "labels_rounded = labels.copy()\n",
    "for k, v in labels.items():\n",
    "    labels_rounded[k] = np.round(v, 3)\n",
    "\n",
    "options = {\n",
    "    'node_color': 'yellow',\n",
    "    'node_size': 750,\n",
    "    'width': 1,\n",
    "    'arrowstyle': '-|>',\n",
    "}\n",
    "# pos = nx.spring_layout(digraph2)  # positions for all nodes\n",
    "pos = nx.planar_layout(digraph1)\n",
    "nx.draw_networkx(digraph1, arrows=True, pos=pos, **options)\n",
    "nx.draw_networkx_edge_labels(digraph1, pos, edge_labels=labels_rounded)"
   ]
  },
  {
   "cell_type": "code",
   "execution_count": 84,
   "metadata": {},
   "outputs": [],
   "source": [
    "samples = best_gmm.sample(100)\n",
    "# df_samples = pd.DataFrame(samples, columns = [\"TangibilityCondition\", \n",
    "#                                               \"AmountDonated\", \"Sympathy\", \n",
    "#                                               \"Imaginability\", \"Impact\"])\n",
    "df_samples = pd.DataFrame(samples)\n",
    "a, b = samples\n",
    "df_samples = pd.DataFrame(a, columns = [\"TangibilityCondition\", \n",
    "                                               \"AmountDonated\", \"Sympathy\", \n",
    "                                               \"Imaginability\", \"Impact\"])"
   ]
  },
  {
   "cell_type": "code",
   "execution_count": 85,
   "metadata": {},
   "outputs": [
    {
     "data": {
      "text/html": [
       "<div>\n",
       "<style scoped>\n",
       "    .dataframe tbody tr th:only-of-type {\n",
       "        vertical-align: middle;\n",
       "    }\n",
       "\n",
       "    .dataframe tbody tr th {\n",
       "        vertical-align: top;\n",
       "    }\n",
       "\n",
       "    .dataframe thead th {\n",
       "        text-align: right;\n",
       "    }\n",
       "</style>\n",
       "<table border=\"1\" class=\"dataframe\">\n",
       "  <thead>\n",
       "    <tr style=\"text-align: right;\">\n",
       "      <th></th>\n",
       "      <th>TangibilityCondition</th>\n",
       "      <th>AmountDonated</th>\n",
       "      <th>Sympathy</th>\n",
       "      <th>Imaginability</th>\n",
       "      <th>Impact</th>\n",
       "    </tr>\n",
       "  </thead>\n",
       "  <tbody>\n",
       "    <tr>\n",
       "      <th>0</th>\n",
       "      <td>0.947388</td>\n",
       "      <td>1.603108</td>\n",
       "      <td>4.349021</td>\n",
       "      <td>0.881038</td>\n",
       "      <td>3.875479</td>\n",
       "    </tr>\n",
       "    <tr>\n",
       "      <th>1</th>\n",
       "      <td>0.576298</td>\n",
       "      <td>1.050056</td>\n",
       "      <td>4.171447</td>\n",
       "      <td>2.078929</td>\n",
       "      <td>3.498673</td>\n",
       "    </tr>\n",
       "    <tr>\n",
       "      <th>2</th>\n",
       "      <td>-0.086519</td>\n",
       "      <td>1.141509</td>\n",
       "      <td>4.097759</td>\n",
       "      <td>1.895283</td>\n",
       "      <td>3.527937</td>\n",
       "    </tr>\n",
       "    <tr>\n",
       "      <th>3</th>\n",
       "      <td>0.101068</td>\n",
       "      <td>1.246460</td>\n",
       "      <td>5.037130</td>\n",
       "      <td>1.619348</td>\n",
       "      <td>3.670238</td>\n",
       "    </tr>\n",
       "    <tr>\n",
       "      <th>4</th>\n",
       "      <td>0.567069</td>\n",
       "      <td>1.587182</td>\n",
       "      <td>4.244549</td>\n",
       "      <td>1.469227</td>\n",
       "      <td>3.830906</td>\n",
       "    </tr>\n",
       "    <tr>\n",
       "      <th>...</th>\n",
       "      <td>...</td>\n",
       "      <td>...</td>\n",
       "      <td>...</td>\n",
       "      <td>...</td>\n",
       "      <td>...</td>\n",
       "    </tr>\n",
       "    <tr>\n",
       "      <th>95</th>\n",
       "      <td>0.989924</td>\n",
       "      <td>5.000493</td>\n",
       "      <td>6.401510</td>\n",
       "      <td>5.226682</td>\n",
       "      <td>7.468664</td>\n",
       "    </tr>\n",
       "    <tr>\n",
       "      <th>96</th>\n",
       "      <td>0.311037</td>\n",
       "      <td>5.000206</td>\n",
       "      <td>7.209929</td>\n",
       "      <td>5.019291</td>\n",
       "      <td>6.627917</td>\n",
       "    </tr>\n",
       "    <tr>\n",
       "      <th>97</th>\n",
       "      <td>0.680076</td>\n",
       "      <td>4.999321</td>\n",
       "      <td>5.445308</td>\n",
       "      <td>4.325880</td>\n",
       "      <td>6.160130</td>\n",
       "    </tr>\n",
       "    <tr>\n",
       "      <th>98</th>\n",
       "      <td>0.049304</td>\n",
       "      <td>4.998865</td>\n",
       "      <td>7.619078</td>\n",
       "      <td>5.474341</td>\n",
       "      <td>3.531205</td>\n",
       "    </tr>\n",
       "    <tr>\n",
       "      <th>99</th>\n",
       "      <td>0.867856</td>\n",
       "      <td>5.000366</td>\n",
       "      <td>6.330308</td>\n",
       "      <td>4.540712</td>\n",
       "      <td>5.624900</td>\n",
       "    </tr>\n",
       "  </tbody>\n",
       "</table>\n",
       "<p>100 rows × 5 columns</p>\n",
       "</div>"
      ],
      "text/plain": [
       "    TangibilityCondition  AmountDonated  Sympathy  Imaginability    Impact\n",
       "0               0.947388       1.603108  4.349021       0.881038  3.875479\n",
       "1               0.576298       1.050056  4.171447       2.078929  3.498673\n",
       "2              -0.086519       1.141509  4.097759       1.895283  3.527937\n",
       "3               0.101068       1.246460  5.037130       1.619348  3.670238\n",
       "4               0.567069       1.587182  4.244549       1.469227  3.830906\n",
       "..                   ...            ...       ...            ...       ...\n",
       "95              0.989924       5.000493  6.401510       5.226682  7.468664\n",
       "96              0.311037       5.000206  7.209929       5.019291  6.627917\n",
       "97              0.680076       4.999321  5.445308       4.325880  6.160130\n",
       "98              0.049304       4.998865  7.619078       5.474341  3.531205\n",
       "99              0.867856       5.000366  6.330308       4.540712  5.624900\n",
       "\n",
       "[100 rows x 5 columns]"
      ]
     },
     "execution_count": 85,
     "metadata": {},
     "output_type": "execute_result"
    }
   ],
   "source": [
    "df_samples"
   ]
  },
  {
   "cell_type": "code",
   "execution_count": 86,
   "metadata": {},
   "outputs": [],
   "source": [
    "# run the search\n",
    "ic_algorithm = IC_Algorithm(RobustRegressionTest)\n",
    "graph3 = ic_algorithm.search(df_samples, variable_types)"
   ]
  },
  {
   "cell_type": "code",
   "execution_count": 87,
   "metadata": {},
   "outputs": [
    {
     "name": "stderr",
     "output_type": "stream",
     "text": [
      "/home/seamus/bin/anaconda3/envs/CAUSAL1/lib/python3.7/site-packages/networkx/drawing/nx_pylab.py:579: MatplotlibDeprecationWarning: \n",
      "The iterable function was deprecated in Matplotlib 3.1 and will be removed in 3.3. Use np.iterable instead.\n",
      "  if not cb.iterable(width):\n",
      "/home/seamus/bin/anaconda3/envs/CAUSAL1/lib/python3.7/site-packages/networkx/drawing/nx_pylab.py:676: MatplotlibDeprecationWarning: \n",
      "The iterable function was deprecated in Matplotlib 3.1 and will be removed in 3.3. Use np.iterable instead.\n",
      "  if cb.iterable(node_size):  # many node sizes\n"
     ]
    },
    {
     "data": {
      "text/plain": [
       "{}"
      ]
     },
     "execution_count": 87,
     "metadata": {},
     "output_type": "execute_result"
    },
    {
     "data": {
      "image/png": "[encoded data removed]",
      "text/plain": [
       "<Figure size 864x864 with 1 Axes>"
      ]
     },
     "metadata": {},
     "output_type": "display_data"
    }
   ],
   "source": [
    "digraph3 = nx.DiGraph(graph3)\n",
    "labels = nx.get_edge_attributes(digraph3, 'weight')\n",
    "labels_rounded = labels.copy()\n",
    "for k, v in labels.items():\n",
    "    labels_rounded[k] = np.round(v, 3)\n",
    "\n",
    "options = {\n",
    "    'node_color': 'yellow',\n",
    "    'node_size': 1000,\n",
    "    'width': 1,\n",
    "    'arrowstyle': '-|>',\n",
    "}\n",
    "#pos = nx.spring_layout(digraph3)  # positions for all nodes\n",
    "plt.figure(3,figsize=(12,12)) \n",
    "pos = nx.kamada_kawai_layout(digraph3)\n",
    "nx.draw_networkx(digraph, arrows=True, pos=pos, **options)\n",
    "nx.draw_networkx_edge_labels(digraph3, pos, edge_labels=labels_rounded)"
   ]
  },
  {
   "cell_type": "code",
   "execution_count": 88,
   "metadata": {},
   "outputs": [],
   "source": [
    "from pycausal.pycausal import pycausal as pc\n",
    "pc = pc()\n",
    "pc.start_vm()"
   ]
  },
  {
   "cell_type": "code",
   "execution_count": 89,
   "metadata": {},
   "outputs": [],
   "source": [
    "from pycausal import search as s\n",
    "tetrad = s.tetradrunner()"
   ]
  },
  {
   "cell_type": "code",
   "execution_count": 90,
   "metadata": {},
   "outputs": [
    {
     "name": "stdout",
     "output_type": "stream",
     "text": [
      "depth: This variable is usually called “depth” for algorithms such as PC in which conditioning sets are considered of increasing size from zero up to some limit, called “depth”. For example, if depth = 3, conditioning sets will be considered of sizes 0, 1, 2, and 3. In order to express that no limit should be imposed, use the value -1. (java.lang.Integer) [default:-1]\n",
      "maxPathLength: See Spirtes, Glymour, and Scheines (2000), Causation, Prediction, and Search for the definition of discrimination path. Finding discriminating paths can be expensive. This sets the maximum length of such paths that the algorithm tries to find. (java.lang.Integer) [default:-1]\n",
      "completeRuleSetUsed: For the FCI algorithm, to final orientation rules sets are available, one due to P. Spirtes, guaranteeing arrow completeness, and a second due to J. Zhang, guaranteeing additional tail completeness. If this parameter is set to “Yes,” the tail-complete rule set will be used. (java.lang.Boolean) [default:false]\n",
      "verbose: If this parameter is set to ‘Yes’, extra (“verbose”) output will be printed if available giving some details about the step-by-step operation of the algorithm. (java.lang.Boolean) [default:true]\n"
     ]
    }
   ],
   "source": [
    "tetrad.getAlgorithmParameters(algoId = 'fci', testId = 'fisher-z-test')"
   ]
  },
  {
   "cell_type": "code",
   "execution_count": 91,
   "metadata": {},
   "outputs": [],
   "source": [
    "tetrad.run(algoId = 'fci', dfs = df_samples, testId = 'fisher-z-test', \n",
    "           depth = -1, maxPathLength = -1, \n",
    "           completeRuleSetUsed = False, verbose = True)"
   ]
  },
  {
   "cell_type": "code",
   "execution_count": 92,
   "metadata": {},
   "outputs": [
    {
     "data": {
      "text/plain": [
       "['TangibilityCondition o-> Sympathy',\n",
       " 'AmountDonated o-> Sympathy',\n",
       " 'AmountDonated o-o Impact']"
      ]
     },
     "execution_count": 92,
     "metadata": {},
     "output_type": "execute_result"
    }
   ],
   "source": [
    "tetrad.getEdges()"
   ]
  },
  {
   "cell_type": "code",
   "execution_count": 93,
   "metadata": {},
   "outputs": [
    {
     "data": {
      "image/svg+xml": [
       "<svg height=\"188pt\" viewBox=\"0.00 0.00 229.89 188.00\" width=\"230pt\" xmlns=\"http://www.w3.org/2000/svg\" xmlns:xlink=\"http://www.w3.org/1999/xlink\">\n",
       "<g class=\"graph\" id=\"graph0\" transform=\"scale(1 1) rotate(0) translate(4 184)\">\n",
       "<title>g</title>\n",
       "<polygon fill=\"#ffffff\" points=\"-4,4 -4,-184 225.8893,-184 225.8893,4 -4,4\" stroke=\"transparent\"/>\n",
       "<!-- Sympathy -->\n",
       "<g class=\"node\" id=\"node1\">\n",
       "<title>Sympathy</title>\n",
       "<ellipse cx=\"85.1424\" cy=\"-90\" fill=\"none\" rx=\"46.5926\" ry=\"18\" stroke=\"#000000\"/>\n",
       "<text fill=\"#000000\" font-family=\"Times,serif\" font-size=\"14.00\" text-anchor=\"middle\" x=\"85.1424\" y=\"-86.3\">Sympathy</text>\n",
       "</g>\n",
       "<!-- TangibilityCondition -->\n",
       "<g class=\"node\" id=\"node2\">\n",
       "<title>TangibilityCondition</title>\n",
       "<ellipse cx=\"85.1424\" cy=\"-18\" fill=\"none\" rx=\"85.2851\" ry=\"18\" stroke=\"#000000\"/>\n",
       "<text fill=\"#000000\" font-family=\"Times,serif\" font-size=\"14.00\" text-anchor=\"middle\" x=\"85.1424\" y=\"-14.3\">TangibilityCondition</text>\n",
       "</g>\n",
       "<!-- Sympathy&#45;&gt;TangibilityCondition -->\n",
       "<g class=\"edge\" id=\"edge1\">\n",
       "<title>Sympathy-&gt;TangibilityCondition</title>\n",
       "<path d=\"M85.1424,-61.5726C85.1424,-56.018 85.1424,-50.2114 85.1424,-44.7148\" fill=\"none\" stroke=\"#000000\"/>\n",
       "<polygon fill=\"#000000\" points=\"81.6425,-61.8313 85.1424,-71.8314 88.6425,-61.8314 81.6425,-61.8313\" stroke=\"#000000\"/>\n",
       "<ellipse cx=\"85.1425\" cy=\"-40.4133\" fill=\"none\" rx=\"4\" ry=\"4\" stroke=\"#000000\"/>\n",
       "</g>\n",
       "<!-- AmountDonated -->\n",
       "<g class=\"node\" id=\"node3\">\n",
       "<title>AmountDonated</title>\n",
       "<ellipse cx=\"135.1424\" cy=\"-162\" fill=\"none\" rx=\"69.5877\" ry=\"18\" stroke=\"#000000\"/>\n",
       "<text fill=\"#000000\" font-family=\"Times,serif\" font-size=\"14.00\" text-anchor=\"middle\" x=\"135.1424\" y=\"-158.3\">AmountDonated</text>\n",
       "</g>\n",
       "<!-- AmountDonated&#45;&gt;Sympathy -->\n",
       "<g class=\"edge\" id=\"edge2\">\n",
       "<title>AmountDonated-&gt;Sympathy</title>\n",
       "<path d=\"M118.023,-137.348C113.2474,-130.4711 108.0444,-122.9788 103.2157,-116.0254\" fill=\"none\" stroke=\"#000000\"/>\n",
       "<ellipse cx=\"120.5013\" cy=\"-140.9168\" fill=\"none\" rx=\"4\" ry=\"4\" stroke=\"#000000\"/>\n",
       "<polygon fill=\"#000000\" points=\"105.9386,-113.8103 97.3598,-107.593 100.189,-117.8031 105.9386,-113.8103\" stroke=\"#000000\"/>\n",
       "</g>\n",
       "<!-- Impact -->\n",
       "<g class=\"node\" id=\"node4\">\n",
       "<title>Impact</title>\n",
       "<ellipse cx=\"186.1424\" cy=\"-90\" fill=\"none\" rx=\"35.9954\" ry=\"18\" stroke=\"#000000\"/>\n",
       "<text fill=\"#000000\" font-family=\"Times,serif\" font-size=\"14.00\" text-anchor=\"middle\" x=\"186.1424\" y=\"-86.3\">Impact</text>\n",
       "</g>\n",
       "<!-- AmountDonated&#45;&gt;Impact -->\n",
       "<g class=\"edge\" id=\"edge3\">\n",
       "<title>AmountDonated-&gt;Impact</title>\n",
       "<path d=\"M152.4749,-137.5307C157.9018,-129.8692 163.8804,-121.4287 169.2748,-113.8132\" fill=\"none\" stroke=\"#000000\"/>\n",
       "<ellipse cx=\"150.0613\" cy=\"-140.9381\" fill=\"none\" rx=\"4\" ry=\"4\" stroke=\"#000000\"/>\n",
       "<ellipse cx=\"171.7198\" cy=\"-110.3613\" fill=\"none\" rx=\"4\" ry=\"4\" stroke=\"#000000\"/>\n",
       "</g>\n",
       "</g>\n",
       "</svg>"
      ],
      "text/plain": [
       "<IPython.core.display.SVG object>"
      ]
     },
     "execution_count": 93,
     "metadata": {},
     "output_type": "execute_result"
    }
   ],
   "source": [
    "import pydot\n",
    "from IPython.display import SVG\n",
    "dot_str = pc.tetradGraphToDot(tetrad.getTetradGraph())\n",
    "graphs = pydot.graph_from_dot_data(dot_str)\n",
    "svg_str = graphs[0].create_svg()\n",
    "SVG(svg_str)"
   ]
  },
  {
   "cell_type": "code",
   "execution_count": 94,
   "metadata": {},
   "outputs": [
    {
     "name": "stdout",
     "output_type": "stream",
     "text": [
      "stableFAS: In Colombo, D., & Maathuis, M. H. (2014, Order-independent constraint-based causal structure learning, The Journal of Machine Learning Research, 15(1), 3741-3782), a modification of the adjacency search of PC was proposed that results in invariance under order permutations of the variables in the data. If this parameter is set to ‘Yes’, this version of the PC adjacency search is used. (java.lang.Boolean) [default:true]\n",
      "concurrentFAS: Various versions of the PC adjacency search lend themselves to concurrent processing—that is, doing different independence tests in parallel to speed up the processing. If this parameter is set to ‘Yes’, and this option is available, it will be used. (java.lang.Boolean) [default:false]\n",
      "colliderDiscoveryRule: For variants of PC, one may choose from one of three different ways for orienting colliders. One may look them up from sepsets, as in the original PC, or estimate them conservatively, as from the Conservative PC algorithm, or by choosing the sepsets with the maximum p-value. In simulation, CPC (default = 2) works the best for sample sizes greater than 100; for very small sample sizes, PC-Max generally works better. (java.lang.Integer) [default:2]\n",
      "conflictRule: It is not possible to avoid collider orientation conflicts in PC entirely. We offer three ways to deal with them. One may use the “overwrite” rule as introduced in the PCALG R package, or one may mark all collider conflicts using bidirected edges, or one may prioritize existing colliders, ignoring subsequent conflicting information. (java.lang.Integer) [default:3]\n",
      "depth: This variable is usually called “depth” for algorithms such as PC in which conditioning sets are considered of increasing size from zero up to some limit, called “depth”. For example, if depth = 3, conditioning sets will be considered of sizes 0, 1, 2, and 3. In order to express that no limit should be imposed, use the value -1. (java.lang.Integer) [default:-1]\n",
      "useMaxPOrientationHeuristic: The “Max P” method for orienting an unshielded triple X—Y—Z records p-values for X _||_ Z | S for all S in adj(X) or adj(Z), finds the set S0 with the highest p-value, and orients X->Y<-Z just in case Y is not in S0. Another way to do the orientation if X and Z are only weakly dependent, is to simply see whether the p-value for X _||_ Z | Y is greater than the p-value for X _||_ Z. This is the “heuristic” referred to her; the purpose is to speed up the search. (java.lang.Boolean) [default:false]\n",
      "maxPOrientationMaxPathLength: For the Max P “heuristic” to work, it must be the case that X and Z are only weakly associated—that is, that paths between them are not too short. This bounds the length of paths for this purpose. (java.lang.Integer) [default:3]\n",
      "verbose: If this parameter is set to ‘Yes’, extra (“verbose”) output will be printed if available giving some details about the step-by-step operation of the algorithm. (java.lang.Boolean) [default:true]\n"
     ]
    }
   ],
   "source": [
    "tetrad.getAlgorithmParameters(algoId = 'pc-all', testId = 'fisher-z-test')"
   ]
  },
  {
   "cell_type": "code",
   "execution_count": 95,
   "metadata": {},
   "outputs": [],
   "source": [
    "tetrad.run(algoId = 'pc-all', dfs = df_samples, testId = 'fisher-z-test', \n",
    "           fasRule = 2, depth = 2, conflictRule = 1, concurrentFAS = True,\n",
    "           useMaxPOrientationHeuristic = True, verbose = True)"
   ]
  },
  {
   "cell_type": "code",
   "execution_count": 96,
   "metadata": {},
   "outputs": [
    {
     "data": {
      "image/svg+xml": [
       "<svg height=\"188pt\" viewBox=\"0.00 0.00 229.89 188.00\" width=\"230pt\" xmlns=\"http://www.w3.org/2000/svg\" xmlns:xlink=\"http://www.w3.org/1999/xlink\">\n",
       "<g class=\"graph\" id=\"graph0\" transform=\"scale(1 1) rotate(0) translate(4 184)\">\n",
       "<title>g</title>\n",
       "<polygon fill=\"#ffffff\" points=\"-4,4 -4,-184 225.8893,-184 225.8893,4 -4,4\" stroke=\"transparent\"/>\n",
       "<!-- Sympathy -->\n",
       "<g class=\"node\" id=\"node1\">\n",
       "<title>Sympathy</title>\n",
       "<ellipse cx=\"85.1424\" cy=\"-90\" fill=\"none\" rx=\"46.5926\" ry=\"18\" stroke=\"#000000\"/>\n",
       "<text fill=\"#000000\" font-family=\"Times,serif\" font-size=\"14.00\" text-anchor=\"middle\" x=\"85.1424\" y=\"-86.3\">Sympathy</text>\n",
       "</g>\n",
       "<!-- TangibilityCondition -->\n",
       "<g class=\"node\" id=\"node2\">\n",
       "<title>TangibilityCondition</title>\n",
       "<ellipse cx=\"85.1424\" cy=\"-18\" fill=\"none\" rx=\"85.2851\" ry=\"18\" stroke=\"#000000\"/>\n",
       "<text fill=\"#000000\" font-family=\"Times,serif\" font-size=\"14.00\" text-anchor=\"middle\" x=\"85.1424\" y=\"-14.3\">TangibilityCondition</text>\n",
       "</g>\n",
       "<!-- Sympathy&#45;&gt;TangibilityCondition -->\n",
       "<g class=\"edge\" id=\"edge1\">\n",
       "<title>Sympathy-&gt;TangibilityCondition</title>\n",
       "<path d=\"M85.1424,-71.8314C85.1424,-61 85.1424,-47.2876 85.1424,-36.4133\" fill=\"none\" stroke=\"#000000\"/>\n",
       "</g>\n",
       "<!-- AmountDonated -->\n",
       "<g class=\"node\" id=\"node3\">\n",
       "<title>AmountDonated</title>\n",
       "<ellipse cx=\"135.1424\" cy=\"-162\" fill=\"none\" rx=\"69.5877\" ry=\"18\" stroke=\"#000000\"/>\n",
       "<text fill=\"#000000\" font-family=\"Times,serif\" font-size=\"14.00\" text-anchor=\"middle\" x=\"135.1424\" y=\"-158.3\">AmountDonated</text>\n",
       "</g>\n",
       "<!-- AmountDonated&#45;&gt;Sympathy -->\n",
       "<g class=\"edge\" id=\"edge2\">\n",
       "<title>AmountDonated-&gt;Sympathy</title>\n",
       "<path d=\"M122.7829,-144.2022C115.0327,-133.0419 105.083,-118.7143 97.3598,-107.593\" fill=\"none\" stroke=\"#000000\"/>\n",
       "</g>\n",
       "<!-- Impact -->\n",
       "<g class=\"node\" id=\"node4\">\n",
       "<title>Impact</title>\n",
       "<ellipse cx=\"186.1424\" cy=\"-90\" fill=\"none\" rx=\"35.9954\" ry=\"18\" stroke=\"#000000\"/>\n",
       "<text fill=\"#000000\" font-family=\"Times,serif\" font-size=\"14.00\" text-anchor=\"middle\" x=\"186.1424\" y=\"-86.3\">Impact</text>\n",
       "</g>\n",
       "<!-- AmountDonated&#45;&gt;Impact -->\n",
       "<g class=\"edge\" id=\"edge3\">\n",
       "<title>AmountDonated-&gt;Impact</title>\n",
       "<path d=\"M147.7492,-144.2022C155.7724,-132.8753 166.1066,-118.2859 174.0319,-107.0972\" fill=\"none\" stroke=\"#000000\"/>\n",
       "</g>\n",
       "</g>\n",
       "</svg>"
      ],
      "text/plain": [
       "<IPython.core.display.SVG object>"
      ]
     },
     "execution_count": 96,
     "metadata": {},
     "output_type": "execute_result"
    }
   ],
   "source": [
    "import pydot\n",
    "from IPython.display import SVG\n",
    "dot_str = pc.tetradGraphToDot(tetrad.getTetradGraph())\n",
    "graphs = pydot.graph_from_dot_data(dot_str)\n",
    "svg_str = graphs[0].create_svg()\n",
    "SVG(svg_str)"
   ]
  },
  {
   "cell_type": "code",
   "execution_count": null,
   "metadata": {},
   "outputs": [],
   "source": []
  }
 ],
 "metadata": {
  "kernelspec": {
   "display_name": "Python 3",
   "language": "python",
   "name": "python3"
  },
  "language_info": {
   "codemirror_mode": {
    "name": "ipython",
    "version": 3
   },
   "file_extension": ".py",
   "mimetype": "text/x-python",
   "name": "python",
   "nbconvert_exporter": "python",
   "pygments_lexer": "ipython3",
   "version": "3.7.7"
  }
 },
 "nbformat": 4,
 "nbformat_minor": 4
}
