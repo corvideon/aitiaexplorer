{
 "cells": [
  {
   "cell_type": "code",
   "execution_count": 1,
   "metadata": {},
   "outputs": [],
   "source": [
    "import pandas as pd"
   ]
  },
  {
   "cell_type": "code",
   "execution_count": 2,
   "metadata": {},
   "outputs": [],
   "source": [
    "from pycausal.pycausal import pycausal as pc\n",
    "pc = pc()\n",
    "pc.start_vm()"
   ]
  },
  {
   "cell_type": "code",
   "execution_count": 4,
   "metadata": {},
   "outputs": [],
   "source": [
    "from pycausal import search as s\n",
    "tetrad = s.tetradrunner()"
   ]
  },
  {
   "cell_type": "code",
   "execution_count": 9,
   "metadata": {},
   "outputs": [
    {
     "data": {
      "text/plain": [
       "{'rfci-bsc': Instance of edu.cmu.tetrad.annotation.AnnotatedClass: edu.cmu.tetrad.annotation.AnnotatedClass@208907e5,\n",
       " 'imgs_cont': Instance of edu.cmu.tetrad.annotation.AnnotatedClass: edu.cmu.tetrad.annotation.AnnotatedClass@3b602ba6,\n",
       " 'mgm': Instance of edu.cmu.tetrad.annotation.AnnotatedClass: edu.cmu.tetrad.annotation.AnnotatedClass@bae393a,\n",
       " 'r3': Instance of edu.cmu.tetrad.annotation.AnnotatedClass: edu.cmu.tetrad.annotation.AnnotatedClass@64897107,\n",
       " 'multi-fask': Instance of edu.cmu.tetrad.annotation.AnnotatedClass: edu.cmu.tetrad.annotation.AnnotatedClass@cd7e45c,\n",
       " 'ftfc': Instance of edu.cmu.tetrad.annotation.AnnotatedClass: edu.cmu.tetrad.annotation.AnnotatedClass@3650d37b,\n",
       " 'lingam': Instance of edu.cmu.tetrad.annotation.AnnotatedClass: edu.cmu.tetrad.annotation.AnnotatedClass@4c4d5b62,\n",
       " 'fofc': Instance of edu.cmu.tetrad.annotation.AnnotatedClass: edu.cmu.tetrad.annotation.AnnotatedClass@63631aa5,\n",
       " 'fci': Instance of edu.cmu.tetrad.annotation.AnnotatedClass: edu.cmu.tetrad.annotation.AnnotatedClass@50a5e791,\n",
       " 'glasso': Instance of edu.cmu.tetrad.annotation.AnnotatedClass: edu.cmu.tetrad.annotation.AnnotatedClass@60de2df5,\n",
       " 'fask': Instance of edu.cmu.tetrad.annotation.AnnotatedClass: edu.cmu.tetrad.annotation.AnnotatedClass@466eecc7,\n",
       " 'rfci': Instance of edu.cmu.tetrad.annotation.AnnotatedClass: edu.cmu.tetrad.annotation.AnnotatedClass@3da3709d,\n",
       " 'gfci': Instance of edu.cmu.tetrad.annotation.AnnotatedClass: edu.cmu.tetrad.annotation.AnnotatedClass@424591d7,\n",
       " 'fas': Instance of edu.cmu.tetrad.annotation.AnnotatedClass: edu.cmu.tetrad.annotation.AnnotatedClass@53e5bdef,\n",
       " 'ling': Instance of edu.cmu.tetrad.annotation.AnnotatedClass: edu.cmu.tetrad.annotation.AnnotatedClass@625c7b80,\n",
       " 'ts-gfci': Instance of edu.cmu.tetrad.annotation.AnnotatedClass: edu.cmu.tetrad.annotation.AnnotatedClass@44ddc8ce,\n",
       " 'fges': Instance of edu.cmu.tetrad.annotation.AnnotatedClass: edu.cmu.tetrad.annotation.AnnotatedClass@2af832ab,\n",
       " 'fges-mb': Instance of edu.cmu.tetrad.annotation.AnnotatedClass: edu.cmu.tetrad.annotation.AnnotatedClass@540cf8de,\n",
       " 'imgs_disc': Instance of edu.cmu.tetrad.annotation.AnnotatedClass: edu.cmu.tetrad.annotation.AnnotatedClass@550d19a4,\n",
       " 'ts-fci': Instance of edu.cmu.tetrad.annotation.AnnotatedClass: edu.cmu.tetrad.annotation.AnnotatedClass@7fbc3073,\n",
       " 'skew': Instance of edu.cmu.tetrad.annotation.AnnotatedClass: edu.cmu.tetrad.annotation.AnnotatedClass@143a3845,\n",
       " 'mbfs': Instance of edu.cmu.tetrad.annotation.AnnotatedClass: edu.cmu.tetrad.annotation.AnnotatedClass@2743e814,\n",
       " 'r-skew': Instance of edu.cmu.tetrad.annotation.AnnotatedClass: edu.cmu.tetrad.annotation.AnnotatedClass@1abe1561,\n",
       " 'ts-imgs': Instance of edu.cmu.tetrad.annotation.AnnotatedClass: edu.cmu.tetrad.annotation.AnnotatedClass@41f81ed,\n",
       " 'pc-all': Instance of edu.cmu.tetrad.annotation.AnnotatedClass: edu.cmu.tetrad.annotation.AnnotatedClass@41a2793b}"
      ]
     },
     "execution_count": 9,
     "metadata": {},
     "output_type": "execute_result"
    }
   ],
   "source": [
    "tetrad.algos"
   ]
  },
  {
   "cell_type": "code",
   "execution_count": 6,
   "metadata": {},
   "outputs": [
    {
     "ename": "TypeError",
     "evalue": "'NoneType' object is not iterable",
     "output_type": "error",
     "traceback": [
      "\u001b[0;31m---------------------------------------------------------------------------\u001b[0m",
      "\u001b[0;31mTypeError\u001b[0m                                 Traceback (most recent call last)",
      "\u001b[0;32m<ipython-input-6-2610415e44ee>\u001b[0m in \u001b[0;36m<module>\u001b[0;34m\u001b[0m\n\u001b[0;32m----> 1\u001b[0;31m \u001b[0;32mfor\u001b[0m \u001b[0malgo\u001b[0m \u001b[0;32min\u001b[0m \u001b[0malgos\u001b[0m\u001b[0;34m:\u001b[0m\u001b[0;34m\u001b[0m\u001b[0;34m\u001b[0m\u001b[0m\n\u001b[0m\u001b[1;32m      2\u001b[0m     \u001b[0mtetrad\u001b[0m\u001b[0;34m.\u001b[0m\u001b[0mgetAlgorithmParameters\u001b[0m\u001b[0;34m(\u001b[0m\u001b[0malgoId\u001b[0m \u001b[0;34m=\u001b[0m \u001b[0malgo\u001b[0m\u001b[0;34m)\u001b[0m\u001b[0;34m\u001b[0m\u001b[0;34m\u001b[0m\u001b[0m\n",
      "\u001b[0;31mTypeError\u001b[0m: 'NoneType' object is not iterable"
     ]
    }
   ],
   "source": [
    "for algo in algos:\n",
    "    tetrad.getAlgorithmParameters(algoId = algo)"
   ]
  },
  {
   "cell_type": "code",
   "execution_count": null,
   "metadata": {},
   "outputs": [],
   "source": []
  }
 ],
 "metadata": {
  "kernelspec": {
   "display_name": "Python 3",
   "language": "python",
   "name": "python3"
  },
  "language_info": {
   "codemirror_mode": {
    "name": "ipython",
    "version": 3
   },
   "file_extension": ".py",
   "mimetype": "text/x-python",
   "name": "python",
   "nbconvert_exporter": "python",
   "pygments_lexer": "ipython3",
   "version": "3.7.7"
  }
 },
 "nbformat": 4,
 "nbformat_minor": 4
}
